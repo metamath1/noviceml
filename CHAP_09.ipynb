{
  "nbformat": 4,
  "nbformat_minor": 0,
  "metadata": {
    "colab": {
      "name": "CHAP-09.ipynb",
      "provenance": [],
      "collapsed_sections": [],
      "toc_visible": true,
      "authorship_tag": "ABX9TyNhcj80/26fjQblA1lmggcs",
      "include_colab_link": true
    },
    "kernelspec": {
      "name": "python3",
      "display_name": "Python 3"
    }
  },
  "cells": [
    {
      "cell_type": "markdown",
      "metadata": {
        "id": "view-in-github",
        "colab_type": "text"
      },
      "source": [
        "<a href=\"https://colab.research.google.com/github/metamath1/noviceml/blob/master/CHAP_09.ipynb\" target=\"_parent\"><img src=\"https://colab.research.google.com/assets/colab-badge.svg\" alt=\"Open In Colab\"/></a>"
      ]
    },
    {
      "cell_type": "markdown",
      "metadata": {
        "id": "WtqACm8bGFyr"
      },
      "source": [
        "# 9장 그림 및 예제 코드"
      ]
    },
    {
      "cell_type": "code",
      "metadata": {
        "id": "-9x7EUKIGBy8"
      },
      "source": [
        "# 기본적인 import들\n",
        "# 이후 그래프 그리는 코드에는 중복으로 적지 않음.\n",
        "# 다른 곳으로 그래프 그리는 코드를 복사-붙이기 할 때는 \n",
        "# 이 import 코드와 함께 복사-붙이기 해야함\n",
        "import numpy as np\n",
        "import matplotlib.pyplot as plt\n",
        "import matplotlib as mpl\n",
        "from mpl_toolkits import mplot3d\n",
        "import matplotlib.font_manager as mfm\n",
        "import sympy\n",
        "\n",
        "# numpy 출력 형식 지정\n",
        "np.set_printoptions(precision=4, linewidth=150)\n",
        "\n",
        "# matplotlib 스타일 지정\n",
        "mpl.style.use('bmh')\n",
        "mpl.style.use('seaborn-whitegrid')\n",
        "style = plt.style.library['bmh']\n",
        "# 스타일 컬러를 쉽게 쓸 수 있도록 리스트 저장\n",
        "style_colors = [ c['color'] for c in style['axes.prop_cycle'] ]\n",
        "\n",
        "# 그림을 로컬 폴더에 저장하고 싶으면 True로 수정 \n",
        "file_print = False"
      ],
      "execution_count": null,
      "outputs": []
    },
    {
      "cell_type": "code",
      "metadata": {
        "id": "KjKWC7TxGKCs"
      },
      "source": [
        "def plot_boundary(X, model, ax):\n",
        "    # meshgrid를 짜서 Model에 포워드 시키기\n",
        "    # 뉴럴 네트웍 모델 자체가 함수이므로 (x,y)->z를 하는 것이다.\n",
        "    x = np.linspace(min(X[:,0]), max(X[:,0]))\n",
        "    y = np.linspace(min(X[:,1]), max(X[:,1]))\n",
        "    \n",
        "    xx, yy = np.meshgrid(x, y)\n",
        "    grid_tensor = torch.Tensor(np.c_[xx.flatten(), yy.flatten()])\n",
        "    zz = model.forward(grid_tensor).detach().numpy().reshape(xx.shape)\n",
        "    ax.contour(xx, yy, zz, cmap='gray', levels=[0.5])\n",
        "\n",
        "def logistic(x):\n",
        "    return 1 / (1+np.exp(-x))\n",
        "\n"
      ],
      "execution_count": null,
      "outputs": []
    },
    {
      "cell_type": "markdown",
      "metadata": {
        "id": "o-Jdsj4bGQrQ"
      },
      "source": [
        "## 샘플데이터 만들기"
      ]
    },
    {
      "cell_type": "markdown",
      "metadata": {
        "id": "nHiAcsNJGS4n"
      },
      "source": [
        "### 결정 경계"
      ]
    },
    {
      "cell_type": "code",
      "metadata": {
        "id": "o1gl2aENGPgr",
        "outputId": "b21ada09-e8bc-4306-c7b5-0404a6bb0e8f",
        "colab": {
          "base_uri": "https://localhost:8080/",
          "height": 429
        }
      },
      "source": [
        "dcs_bnd_1 = lambda x: -(3/5)*x + 3\n",
        "dcs_bnd_1_imp = lambda x, y: (3)*x + (5)*y + (-15)\n",
        "\n",
        "dcs_bnd_2 = lambda x: -2*x + 6\n",
        "dcs_bnd_2_imp = lambda x, y: (-6)*x + (-3)*y + (18)\n",
        "\n",
        "x = np.linspace(0, 5, 50)\n",
        "\n",
        "fig = plt.figure(figsize=(7, 7))\n",
        "ax = fig.add_subplot(1, 1, 1)\n",
        "\n",
        "ax.plot(x, dcs_bnd_1(x), color='k')\n",
        "ax.plot(x, dcs_bnd_2(x), '--', color='k')\n",
        "\n",
        "ax.set_xlim(0, 5)\n",
        "ax.set_ylim(0, 5)\n",
        "\n",
        "plt.show()"
      ],
      "execution_count": null,
      "outputs": [
        {
          "output_type": "display_data",
          "data": {
            "image/png": "[encoded data removed]",
            "text/plain": [
              "<Figure size 504x504 with 1 Axes>"
            ]
          },
          "metadata": {
            "tags": [],
            "needs_background": "light"
          }
        }
      ]
    },
    {
      "cell_type": "markdown",
      "metadata": {
        "id": "TSfGct4oGWfj"
      },
      "source": [
        "### 무작위점 500개 생성"
      ]
    },
    {
      "cell_type": "code",
      "metadata": {
        "id": "vtszym3YGUNb"
      },
      "source": [
        "np.random.seed(3)\n",
        "\n",
        "# 0~5에서 무작위 점 500개 추출\n",
        "N = 500\n",
        "samples = (np.random.rand(N*2)*5).reshape(N,2)"
      ],
      "execution_count": null,
      "outputs": []
    },
    {
      "cell_type": "code",
      "metadata": {
        "id": "m9m6BzVNGXnb",
        "outputId": "485f755e-9b1d-4c1c-cc49-e76fcdbee129",
        "colab": {
          "base_uri": "https://localhost:8080/",
          "height": 34
        }
      },
      "source": [
        "samples.shape"
      ],
      "execution_count": null,
      "outputs": [
        {
          "output_type": "execute_result",
          "data": {
            "text/plain": [
              "(500, 2)"
            ]
          },
          "metadata": {
            "tags": []
          },
          "execution_count": 5
        }
      ]
    },
    {
      "cell_type": "markdown",
      "metadata": {
        "id": "iOZKBdIQGZ11"
      },
      "source": [
        "### 생성된 점 500개 그리기"
      ]
    },
    {
      "cell_type": "code",
      "metadata": {
        "id": "YbldnKTcGYoD",
        "outputId": "538ecee8-1b4a-4c5d-ec7b-8c169a08c1d2",
        "colab": {
          "base_uri": "https://localhost:8080/",
          "height": 429
        }
      },
      "source": [
        "fig = plt.figure(figsize=(7, 7))\n",
        "ax = fig.add_subplot(1, 1, 1)\n",
        "\n",
        "ax.plot(samples[:,0], samples[:,1], 'o', color='k')\n",
        "ax.set_ylim(0, 5)\n",
        "ax.set_xlim(0, 5)\n",
        "\n",
        "plt.show()"
      ],
      "execution_count": null,
      "outputs": [
        {
          "output_type": "display_data",
          "data": {
            "image/png": "[encoded data removed]",
            "text/plain": [
              "<Figure size 504x504 with 1 Axes>"
            ]
          },
          "metadata": {
            "tags": [],
            "needs_background": "light"
          }
        }
      ]
    },
    {
      "cell_type": "markdown",
      "metadata": {
        "id": "TAabodEBGdNF"
      },
      "source": [
        "## 샘플 데이터에 대한 레이블(타겟) 만들기"
      ]
    },
    {
      "cell_type": "code",
      "metadata": {
        "id": "SgTh0qekGbSL"
      },
      "source": [
        "y1_bin = dcs_bnd_1_imp(samples[:,0], samples[:,1]) > 0\n",
        "y2_bin = dcs_bnd_2_imp(samples[:,0], samples[:,1]) < 0"
      ],
      "execution_count": null,
      "outputs": []
    },
    {
      "cell_type": "code",
      "metadata": {
        "id": "lE7-EslNGegj",
        "outputId": "d30527d0-bcd8-4989-c71b-fb20efe91708",
        "colab": {
          "base_uri": "https://localhost:8080/",
          "height": 34
        }
      },
      "source": [
        "positive_where = np.where((y1_bin | y2_bin))[0]\n",
        "target = np.zeros(N)\n",
        "target[positive_where] = 1\n",
        "\n",
        "print(target.shape)"
      ],
      "execution_count": null,
      "outputs": [
        {
          "output_type": "stream",
          "text": [
            "(500,)\n"
          ],
          "name": "stdout"
        }
      ]
    },
    {
      "cell_type": "markdown",
      "metadata": {
        "id": "d2FSmcNTGgx-"
      },
      "source": [
        "- 이제 다음처럼 데이터가 준비되었음\n",
        "\n",
        "- `samples`: 점 500개게 (500, 2) 형태로 저장\n",
        "\n",
        "- `target`: 각점에 대한 레이블 0, 1이 (500,) 형태로 저장"
      ]
    },
    {
      "cell_type": "markdown",
      "metadata": {
        "id": "MO8aiIlvGmmW"
      },
      "source": [
        "## 그림 9-1"
      ]
    },
    {
      "cell_type": "code",
      "metadata": {
        "id": "nu1JbkPjGfXz",
        "outputId": "57eb0e7e-063c-46af-c48c-bd0dbfb50b4d",
        "colab": {
          "base_uri": "https://localhost:8080/",
          "height": 466
        }
      },
      "source": [
        "fig = plt.figure(figsize=(7, 7))\n",
        "ax = fig.add_subplot(1, 1, 1)\n",
        "\n",
        "ax.xaxis.set_tick_params(labelsize=18)\n",
        "ax.yaxis.set_tick_params(labelsize=18)\n",
        "ax.set_xlabel('$x$', fontsize=25)\n",
        "ax.set_ylabel('$y$', fontsize=25)\n",
        "\n",
        "ax.plot(samples[np.where(target==1)[0],0], samples[np.where(target==1)[0],1], 'o', \n",
        "        markerfacecolor='gray', markeredgecolor='gray', markersize=8)\n",
        "ax.plot(samples[np.where(target==0)[0],0], samples[np.where(target==0)[0],1], '^', \n",
        "        markerfacecolor='gray', markeredgecolor='gray', markersize=8)\n",
        "\n",
        "x1 = np.linspace(0, 15/7, 50)\n",
        "x2 = np.linspace(15/7, 3, 50)\n",
        "\n",
        "ax.plot(x1, dcs_bnd_1(x1), '--', color='k')\n",
        "ax.plot(x2, dcs_bnd_2(x2), '--', color='k')\n",
        "\n",
        "ax.set_ylim(0,5)\n",
        "ax.set_xlim(0,5)\n",
        "\n",
        "if file_print == True :\n",
        "    fig.savefig(\"imgs/chap9/fig9-1.png\", dpi=300, bbox_inches='tight')\n",
        "    fig.savefig(\"imgs/chap9/fig9-1.pdf\", format='pdf', bbox_inches='tight')\n",
        "    \n",
        "plt.show()"
      ],
      "execution_count": null,
      "outputs": [
        {
          "output_type": "display_data",
          "data": {
            "image/png": "[encoded data removed]",
            "text/plain": [
              "<Figure size 504x504 with 1 Axes>"
            ]
          },
          "metadata": {
            "tags": [],
            "needs_background": "light"
          }
        }
      ]
    },
    {
      "cell_type": "markdown",
      "metadata": {
        "id": "74-1jev5GtyK"
      },
      "source": [
        "## 그림 9-3: $ 3x + 5y - 15 = 0 $ 로 분류"
      ]
    },
    {
      "cell_type": "code",
      "metadata": {
        "id": "-DUjaluLGn27",
        "outputId": "f0e625e3-0017-47ee-a585-c22475299aed",
        "colab": {
          "base_uri": "https://localhost:8080/",
          "height": 466
        }
      },
      "source": [
        "fig = plt.figure(figsize=(7, 7))\n",
        "ax = fig.add_subplot(1, 1, 1)\n",
        "\n",
        "ax.xaxis.set_tick_params(labelsize=18)\n",
        "ax.yaxis.set_tick_params(labelsize=18)\n",
        "ax.set_xlabel('$x$', fontsize=25)\n",
        "ax.set_ylabel('$y$', fontsize=25)\n",
        "\n",
        "ax.plot(x, dcs_bnd_1(x), color='k')\n",
        "\n",
        "ax.plot(samples[y1_bin, 0], samples[y1_bin,1], 'o', \n",
        "        markerfacecolor='gray', markeredgecolor='gray', markersize=8)\n",
        "\n",
        "not_y1_bin = np.invert(y1_bin)\n",
        "not_y1_and_target = np.logical_and(not_y1_bin,target)\n",
        "\n",
        "ax.plot(samples[not_y1_and_target, 0], samples[not_y1_and_target, 1], 'o',\n",
        "        markerfacecolor='white', markeredgecolor='gray', markersize=8)\n",
        "\n",
        "ax.plot(samples[np.where(target==0)[0], 0], samples[np.where(target==0)[0], 1], '^', \n",
        "        markerfacecolor='gray', markeredgecolor='gray', markersize=8)\n",
        "\n",
        "ax.set_ylim(0,5)\n",
        "ax.set_xlim(0,5)\n",
        "\n",
        "if file_print == True :\n",
        "    fig.savefig(\"imgs/chap9/fig9-3.png\", dpi=300, bbox_inches='tight')\n",
        "    fig.savefig(\"imgs/chap9/fig9-3.pdf\", format='pdf', bbox_inches='tight')\n",
        "    \n",
        "plt.show()"
      ],
      "execution_count": null,
      "outputs": [
        {
          "output_type": "display_data",
          "data": {
            "image/png": "[encoded data removed]",
            "text/plain": [
              "<Figure size 504x504 with 1 Axes>"
            ]
          },
          "metadata": {
            "tags": [],
            "needs_background": "light"
          }
        }
      ]
    },
    {
      "cell_type": "markdown",
      "metadata": {
        "id": "tNNRVn76GxiG"
      },
      "source": [
        "## 그림 9-5: $ -6x - 3y + 18 = 0 $로 분류"
      ]
    },
    {
      "cell_type": "code",
      "metadata": {
        "id": "9tLHuXJgGvb7",
        "outputId": "5e258a43-739d-4111-928f-2268439e28f0",
        "colab": {
          "base_uri": "https://localhost:8080/",
          "height": 466
        }
      },
      "source": [
        "fig = plt.figure(figsize=(7,7))\n",
        "ax = fig.add_subplot(1,1,1)\n",
        "\n",
        "ax.xaxis.set_tick_params(labelsize=18)\n",
        "ax.yaxis.set_tick_params(labelsize=18)\n",
        "ax.set_xlabel('$x$', fontsize=25)\n",
        "ax.set_ylabel('$y$', fontsize=25)\n",
        "\n",
        "ax.plot(x, dcs_bnd_2(x), color='k')\n",
        "\n",
        "ax.plot(samples[y2_bin, 0], samples[y2_bin, 1], 'o', \n",
        "        markerfacecolor='gray', markeredgecolor='gray', markersize=8)\n",
        "\n",
        "not_y2_bin = np.invert(y2_bin)\n",
        "not_y2_and_target = np.logical_and(not_y2_bin,target)\n",
        "\n",
        "ax.plot(samples[not_y2_and_target, 0], samples[not_y2_and_target, 1], 'o',\n",
        "        markerfacecolor='white', markeredgecolor='gray', markersize=8)\n",
        "\n",
        "ax.plot(samples[np.where(target==0)[0], 0], samples[np.where(target==0)[0], 1], '^', \n",
        "        markerfacecolor='gray', markeredgecolor='gray', markersize=8)\n",
        "\n",
        "ax.set_ylim(0,5)\n",
        "ax.set_xlim(0,5)\n",
        "\n",
        "if file_print == True :\n",
        "    fig.savefig(\"imgs/chap9/fig9-5.png\", dpi=300, bbox_inches='tight')\n",
        "    fig.savefig(\"imgs/chap9/fig9-5.pdf\", format='pdf', bbox_inches='tight')\n",
        "\n",
        "plt.show()"
      ],
      "execution_count": null,
      "outputs": [
        {
          "output_type": "display_data",
          "data": {
            "image/png": "[encoded data removed]",
            "text/plain": [
              "<Figure size 504x504 with 1 Axes>"
            ]
          },
          "metadata": {
            "tags": [],
            "needs_background": "light"
          }
        }
      ]
    },
    {
      "cell_type": "markdown",
      "metadata": {
        "id": "BbEMiR8uG0ij"
      },
      "source": [
        "## 그림 9-8: 위 두 경우를 합성하여 분류하는 경우"
      ]
    },
    {
      "cell_type": "code",
      "metadata": {
        "id": "yns4xK30Gyu8",
        "outputId": "83a856bc-2bc2-4eb1-8a42-ab6fab0d52c8",
        "colab": {
          "base_uri": "https://localhost:8080/",
          "height": 466
        }
      },
      "source": [
        "xx, yy = np.meshgrid(x, x)\n",
        "\n",
        "a, b, c = 10, -9, 4\n",
        "o = lambda x, y: logistic( a*logistic(dcs_bnd_1_imp(x, y)) + b*logistic(dcs_bnd_2_imp(x, y)) + c )\n",
        "\n",
        "fig = plt.figure(figsize=(7,7))\n",
        "ax = fig.add_subplot()\n",
        "\n",
        "ax.xaxis.set_tick_params(labelsize=18)\n",
        "ax.yaxis.set_tick_params(labelsize=18)\n",
        "ax.set_xlabel('$x$', fontsize=25)\n",
        "ax.set_ylabel('$y$', fontsize=25)\n",
        "\n",
        "pred = o(samples[:,0], samples[:,1])\n",
        "pred_pos = pred >= 0.5\n",
        "pred_neg = pred < 0.5\n",
        "\n",
        "ax.contour(xx, yy, o(xx,yy), cmap='gray', levels=[0.5])\n",
        "\n",
        "# for positive samples\n",
        "TP = np.logical_and(target==1, pred_pos)\n",
        "FN = np.logical_and(target==1, pred_neg)\n",
        "\n",
        "# for negative samples\n",
        "TN = np.logical_and(target==0, pred_neg)\n",
        "FP = np.logical_and(target==0, pred_pos)\n",
        "\n",
        "ax.plot(samples[TP,0], samples[TP,1], 'o', \n",
        "        markerfacecolor='gray', markeredgecolor='gray', markersize=8)\n",
        "ax.plot(samples[TN,0], samples[TN,1], '^', \n",
        "        markerfacecolor='gray', markeredgecolor='gray', markersize=8)\n",
        "\n",
        "ax.plot(samples[FN,0], samples[FN,1], 'o', \n",
        "        markerfacecolor='k', markeredgecolor='w', markeredgewidth=2, markersize=15)\n",
        "ax.plot(samples[FP,0], samples[FP,1], '^', \n",
        "         markerfacecolor='k', markeredgecolor='w', markeredgewidth=2, markersize=15)\n",
        "\n",
        "ax.set_ylim(0,5)\n",
        "ax.set_xlim(0,5)\n",
        "\n",
        "\n",
        "if file_print == True :\n",
        "    fig.savefig(\"imgs/chap9/fig9-8.png\", dpi=300, bbox_inches='tight')\n",
        "    fig.savefig(\"imgs/chap9/fig9-8.pdf\", format='pdf', bbox_inches='tight')\n",
        "    \n",
        "plt.show()"
      ],
      "execution_count": null,
      "outputs": [
        {
          "output_type": "display_data",
          "data": {
            "image/png": "[encoded data removed]",
            "text/plain": [
              "<Figure size 504x504 with 1 Axes>"
            ]
          },
          "metadata": {
            "tags": [],
            "needs_background": "light"
          }
        }
      ]
    },
    {
      "cell_type": "markdown",
      "metadata": {
        "id": "czkFSla8G3qe"
      },
      "source": [
        "## 그림 9-9"
      ]
    },
    {
      "cell_type": "code",
      "metadata": {
        "id": "KvMRbpx2G1sr",
        "outputId": "e5a01440-e1dd-4abd-825b-ecd86de2a6d4",
        "colab": {
          "base_uri": "https://localhost:8080/",
          "height": 575
        }
      },
      "source": [
        "fig = plt.figure(figsize=(10,10))\n",
        "ax = fig.add_subplot(projection='3d')\n",
        "\n",
        "plt.rc('xtick',labelsize=15)\n",
        "plt.rc('ytick',labelsize=15)\n",
        "\n",
        "x1 = np.linspace(0, 5, 101)\n",
        "x2 = np.linspace(0, 5, 101)\n",
        "\n",
        "X1, X2 = np.meshgrid(x1, x2)\n",
        "\n",
        "ax.contour(X1, X2, o(X1, X2), linewidths=5, cmap='gray', levels=[0.5])\n",
        "ax.plot_surface(X1, X2, o(X1, X2), color='w', edgecolor='k', alpha=0.5)\n",
        "\n",
        "ax.plot3D(samples[TP,0], samples[TP,1], 1.0, 'o', \n",
        "        markerfacecolor='gray', markeredgecolor='k', markersize=8, zorder=10)\n",
        "\n",
        "ax.plot3D(samples[TN,0], samples[TN,1], 0.0, '^', \n",
        "        markerfacecolor='gray', markeredgecolor='k', markersize=8, zorder=10)\n",
        "\n",
        "ax.plot3D(samples[FN,0], samples[FN,1], 0.0, 'o', \n",
        "        markerfacecolor='k', markeredgecolor='w', markeredgewidth=2, markersize=15, zorder=10)\n",
        "ax.plot3D(samples[FP,0], samples[FP,1], 1.0, '^', \n",
        "        markerfacecolor='k', markeredgecolor='w', markeredgewidth=2, markersize=15, zorder=10)\n",
        "\n",
        "ax.xaxis.set_tick_params(labelsize=15) \n",
        "ax.yaxis.set_tick_params(labelsize=15)\n",
        "ax.zaxis.set_tick_params(labelsize=15)\n",
        "ax.set_xlabel(r'$x$', fontsize=20)\n",
        "ax.set_ylabel(r'$y$', fontsize=20)\n",
        "ax.set_zlabel(r'$a$', fontsize=20)\n",
        "ax.view_init(30, -80)\n",
        "\n",
        "if file_print == True :\n",
        "    fig.savefig(\"imgs/chap10/fig10-9.png\", dpi=300, bbox_inches='tight')\n",
        "    fig.savefig(\"imgs/chap10/fig10-9.pdf\", format='pdf', bbox_inches='tight')\n",
        "    \n",
        "plt.show()"
      ],
      "execution_count": null,
      "outputs": [
        {
          "output_type": "display_data",
          "data": {
            "image/png": "[encoded data removed]",
            "text/plain": [
              "<Figure size 720x720 with 1 Axes>"
            ]
          },
          "metadata": {
            "tags": [],
            "needs_background": "light"
          }
        }
      ]
    },
    {
      "cell_type": "markdown",
      "metadata": {
        "id": "5u9OHxrtG66t"
      },
      "source": [
        "## network 함수"
      ]
    },
    {
      "cell_type": "code",
      "metadata": {
        "id": "_JonZN7QG5Cr"
      },
      "source": [
        "def network(X, W):\n",
        "    \"\"\"\n",
        "    X : (N, D)\n",
        "    W : (3, 3)\n",
        "        [b^(1)_1, w^(1)_11, w^(1)_12]\n",
        "        [b^(1)_2, w^(1)_21, w^(1)_22]\n",
        "        [b^(2)_1, w^(2)_11, w^(2)_12]\n",
        "    \n",
        "    ret : (N,)\n",
        "    \n",
        "    D, H, A = 2, 2, 1\n",
        "    \"\"\"\n",
        "    X = np.hstack( (np.ones(X.shape[0]).reshape(-1,1), X) ) # (N,D)->(N,D+1)\n",
        "    Z1 = np.dot(W[:2,:], X.T) # (H,N)=(H,D+1)*(D+1,N)\n",
        "    A1 = logistic(Z1)           # (H,N)\n",
        "    A1 = np.vstack((np.ones(A1.shape[1]), A1)) # (H,N)->(H+1,N)\n",
        "    Z = np.dot(W[-1,:], A1) # (H+1,)*(H+1,N)\n",
        "    A2 = logistic(Z)         # (N,)\n",
        "    \n",
        "    return A2"
      ],
      "execution_count": null,
      "outputs": []
    },
    {
      "cell_type": "markdown",
      "metadata": {
        "id": "7djzBCXHG9bH"
      },
      "source": [
        "## network 함수 검증"
      ]
    },
    {
      "cell_type": "code",
      "metadata": {
        "id": "bQ_ZH0oRG8MC",
        "outputId": "3033824f-cf48-4bf7-edf0-20668dfdc802",
        "colab": {
          "base_uri": "https://localhost:8080/",
          "height": 34
        }
      },
      "source": [
        "W = np.array([ [-15, 3, 5], [18, -6, -3], [4, 10, -9] ])\n",
        "pred = network(samples, W)\n",
        "\n",
        "pred[pred>=0.5] = 1\n",
        "pred[pred<0.5] = 0\n",
        "\n",
        "result = pred==target\n",
        "\n",
        "np.size(result) - np.count_nonzero(result)"
      ],
      "execution_count": null,
      "outputs": [
        {
          "output_type": "execute_result",
          "data": {
            "text/plain": [
              "2"
            ]
          },
          "metadata": {
            "tags": []
          },
          "execution_count": 15
        }
      ]
    },
    {
      "cell_type": "code",
      "metadata": {
        "id": "yw9I7rg5G-lq",
        "outputId": "3d94e303-1b17-43cc-8d42-39c9e7d456dd",
        "colab": {
          "base_uri": "https://localhost:8080/",
          "height": 68
        }
      },
      "source": [
        "np.random.seed(17)\n",
        "W = np.random.randn(9)\n",
        "\n",
        "W.reshape(3,3)"
      ],
      "execution_count": null,
      "outputs": [
        {
          "output_type": "execute_result",
          "data": {
            "text/plain": [
              "array([[ 0.2763, -1.8546,  0.6239],\n",
              "       [ 1.1453,  1.0372,  1.8866],\n",
              "       [-0.1117, -0.3621,  0.1487]])"
            ]
          },
          "metadata": {
            "tags": []
          },
          "execution_count": 16
        }
      ]
    },
    {
      "cell_type": "code",
      "metadata": {
        "id": "OUMoDdgPG_vL",
        "outputId": "7b7a66eb-e579-4dce-bcf4-fd469b549396",
        "colab": {
          "base_uri": "https://localhost:8080/",
          "height": 34
        }
      },
      "source": [
        "pred = network(samples, W.reshape(3,3))\n",
        "\n",
        "pred[pred>=0.5] = 1\n",
        "pred[pred<0.5] = 0\n",
        "\n",
        "result = pred==target\n",
        "\n",
        "np.size(result) - np.count_nonzero(result)"
      ],
      "execution_count": null,
      "outputs": [
        {
          "output_type": "execute_result",
          "data": {
            "text/plain": [
              "163"
            ]
          },
          "metadata": {
            "tags": []
          },
          "execution_count": 17
        }
      ]
    },
    {
      "cell_type": "code",
      "metadata": {
        "id": "vWoMzvcRHAvz"
      },
      "source": [
        "def J(W, X, T):\n",
        "    \"\"\"\n",
        "    W: 함숫값을 결정하는 변수, 가중치 (9,)\n",
        "    X: 주어진 점 데이터 X, X: (N,D)\n",
        "    T: 데이터에 대한 클래스 T, 0 또는 1, T: (N,)\n",
        "    \"\"\"\n",
        "    N = X.shape[0]\n",
        "    W = W.reshape(3,3)\n",
        "    \n",
        "    Y = network(X, W)\n",
        "    return (1/(2*N)) * ((T-Y)**2).sum()\n",
        "    \n"
      ],
      "execution_count": null,
      "outputs": []
    },
    {
      "cell_type": "code",
      "metadata": {
        "id": "fT1l4LVCHBw8",
        "outputId": "ddb8c3a4-1739-4cc1-ed9b-15dceca691f0",
        "colab": {
          "base_uri": "https://localhost:8080/",
          "height": 34
        }
      },
      "source": [
        "# 초기 상태에서 목적함숫값\n",
        "J(W, samples, target)"
      ],
      "execution_count": null,
      "outputs": [
        {
          "output_type": "execute_result",
          "data": {
            "text/plain": [
              "0.1263148192185165"
            ]
          },
          "metadata": {
            "tags": []
          },
          "execution_count": 19
        }
      ]
    },
    {
      "cell_type": "code",
      "metadata": {
        "id": "aaNF_M9LHI_T",
        "outputId": "55fa8752-21dd-4ec1-b4af-5b658e6fe819",
        "colab": {
          "base_uri": "https://localhost:8080/",
          "height": 102
        }
      },
      "source": [
        "from scipy import optimize\n",
        "\n",
        "# https://docs.scipy.org/doc/scipy/reference/generated/scipy.optimize.fmin_cg.html\n",
        "W_star = optimize.fmin_cg(J, W, args=(samples, target),  gtol=1e-06)"
      ],
      "execution_count": null,
      "outputs": [
        {
          "output_type": "stream",
          "text": [
            "Optimization terminated successfully.\n",
            "         Current function value: 0.000003\n",
            "         Iterations: 313\n",
            "         Function evaluations: 12694\n",
            "         Gradient evaluations: 1154\n"
          ],
          "name": "stdout"
        }
      ]
    },
    {
      "cell_type": "code",
      "metadata": {
        "id": "Re56OeN1HLTj",
        "outputId": "d6c4eb99-a674-4fcc-980c-4b290241d922",
        "colab": {
          "base_uri": "https://localhost:8080/",
          "height": 68
        }
      },
      "source": [
        "W_star = W_star.reshape(3,3)\n",
        "W_star"
      ],
      "execution_count": null,
      "outputs": [
        {
          "output_type": "execute_result",
          "data": {
            "text/plain": [
              "array([[ 42.9811,  -9.4741, -13.7029],\n",
              "       [-27.8283,   9.6497,   3.2045],\n",
              "       [ 19.2321, -40.3183,  39.3389]])"
            ]
          },
          "metadata": {
            "tags": []
          },
          "execution_count": 21
        }
      ]
    },
    {
      "cell_type": "markdown",
      "metadata": {
        "id": "2GFH4JWVHPxu"
      },
      "source": [
        "## 그림 9-12"
      ]
    },
    {
      "cell_type": "code",
      "metadata": {
        "id": "oNaLZq_qHNpL",
        "outputId": "82f2e770-db45-4f8d-fdef-8bb3233c60c5",
        "colab": {
          "base_uri": "https://localhost:8080/",
          "height": 466
        }
      },
      "source": [
        "x = np.linspace(0, 5, 200)\n",
        "\n",
        "xx, yy = np.meshgrid(x, x)\n",
        "\n",
        "dcs_bnd_1_imp_ = lambda x, y: W_star[0, 1]*x + W_star[0, 2]*y + W_star[0, 0] \n",
        "dcs_bnd_2_imp_ = lambda x, y: W_star[1, 1]*x + W_star[1, 2]*y + W_star[1, 0] \n",
        "\n",
        "a, b, c = W_star[2, 1], W_star[2, 2], W_star[2, 0] \n",
        "o = lambda x, y: logistic( a*logistic(dcs_bnd_1_imp_(x, y)) + b*logistic(dcs_bnd_2_imp_(x, y)) + c )\n",
        "\n",
        "fig = plt.figure(figsize=(7,7))\n",
        "ax = fig.add_subplot()\n",
        "\n",
        "ax.xaxis.set_tick_params(labelsize=18)\n",
        "ax.yaxis.set_tick_params(labelsize=18)\n",
        "ax.set_xlabel('$x$', fontsize=25)\n",
        "ax.set_ylabel('$y$', fontsize=25)\n",
        "\n",
        "pred = o(samples[:,0], samples[:,1])\n",
        "pred_pos = pred >= 0.5\n",
        "pred_neg = pred < 0.5\n",
        "\n",
        "ax.contour(xx, yy, o(xx,yy), cmap='gray', levels=[0.5])\n",
        "\n",
        "# for positive samples\n",
        "TP = np.logical_and(target==1, pred_pos)\n",
        "FN = np.logical_and(target==1, pred_neg)\n",
        "\n",
        "# for negative samples\n",
        "TN = np.logical_and(target==0, pred_neg)\n",
        "FP = np.logical_and(target==0, pred_pos)\n",
        "\n",
        "ax.plot(samples[TP,0], samples[TP,1], 'o', \n",
        "        markerfacecolor='gray', markeredgecolor='gray', markersize=8)\n",
        "ax.plot(samples[TN,0], samples[TN,1], '^', \n",
        "        markerfacecolor='gray', markeredgecolor='gray', markersize=8)\n",
        "\n",
        "ax.plot(samples[FN,0], samples[FN,1], 'o', \n",
        "        markerfacecolor='k', markeredgecolor='w', markeredgewidth=2, markersize=15)\n",
        "ax.plot(samples[FP,0], samples[FP,1], '^', \n",
        "        markerfacecolor='k', markeredgecolor='w', markeredgewidth=2, markersize=15)\n",
        "\n",
        "ax.set_ylim(0,5)\n",
        "ax.set_xlim(0,5)\n",
        "\n",
        "if file_print == True :\n",
        "    fig.savefig(\"imgs/chap9/fig9-12.png\", dpi=300, bbox_inches='tight')\n",
        "    fig.savefig(\"imgs/chap9/fig9-12.pdf\", format='pdf', bbox_inches='tight')\n",
        "   \n",
        "plt.show()"
      ],
      "execution_count": null,
      "outputs": [
        {
          "output_type": "display_data",
          "data": {
            "image/png": "[encoded data removed]",
            "text/plain": [
              "<Figure size 504x504 with 1 Axes>"
            ]
          },
          "metadata": {
            "tags": [],
            "needs_background": "light"
          }
        }
      ]
    },
    {
      "cell_type": "markdown",
      "metadata": {
        "id": "8n_JXPgGHT3W"
      },
      "source": [
        "## 신경망 미분하기"
      ]
    },
    {
      "cell_type": "code",
      "metadata": {
        "id": "1E4tqFvXHRgL"
      },
      "source": [
        "# pytorch를 임포트 한다.\n",
        "import torch"
      ],
      "execution_count": null,
      "outputs": []
    },
    {
      "cell_type": "markdown",
      "metadata": {
        "id": "5It-5ppAHXEo"
      },
      "source": [
        "### 순전파 함수(넘파이)"
      ]
    },
    {
      "cell_type": "code",
      "metadata": {
        "id": "JPDltI-GHVf9"
      },
      "source": [
        "def forward(X, W, T, retopt='all'):\n",
        "    \"\"\"\n",
        "    네트워크를 피드포워드 시킨다. numpy 버전\n",
        "    X : 네트워크의 입력벡터 shape:(N,2)\n",
        "    retopt : 네트워크가 순전파되면서 각 레이어에서 계산된 결과 값을 \n",
        "    되돌릴 방법을 설정한다.\n",
        "        - 'all'  : 모든 층에서 계산된 결과를 튜플 형태로 되돌린다.\n",
        "        - 'fval' : 함수의 최종 출력값만 되돌린다.\n",
        "    \"\"\"\n",
        "    N = X.shape[0]\n",
        "    \n",
        "    H1 = np.dot(W[:2,1:], X.T)\n",
        "    Z1 = H1 + W[:2,0].reshape(-1,1)\n",
        "    A1 = logistic(Z1)\n",
        "    \n",
        "    H2 = np.dot(W[2,1:], A1)\n",
        "    Z2 = H2 + W[2,0]\n",
        "    A2 = logistic(Z2)\n",
        "\n",
        "    C = (1/(2*N)) * ((T-A2)**2).sum()\n",
        "    \n",
        "    if retopt == 'all':\n",
        "        return (H1, Z1, A1, H2, Z2, A2, C)\n",
        "    elif retopt == 'fval':\n",
        "        return C"
      ],
      "execution_count": null,
      "outputs": []
    },
    {
      "cell_type": "markdown",
      "metadata": {
        "id": "EA6Ph-I8HZ1p"
      },
      "source": [
        "### 순전파 함수(파이토치)"
      ]
    },
    {
      "cell_type": "code",
      "metadata": {
        "id": "losYdj2pHYjT"
      },
      "source": [
        "def forward_torch(X, W, T, retopt='all'):\n",
        "    \"\"\"\n",
        "    네트워크를 피드포워드 시킨다. pytorch 버전\n",
        "    X : 네트워크의 입력벡터 size:(N,2)\n",
        "    retopt : 네트워크가 순전파되면서 각 레이어에서 계산된 결과 값을 \n",
        "    되돌릴 방법을 설정한다.\n",
        "        - 'all'  : 모든 층에서 계산된 결과를 튜플 형태로 되돌린다.\n",
        "        - 'fval' : 함수의 최종 출력값만 되돌린다.\n",
        "    \"\"\"\n",
        "    N = X.size()[0]\n",
        "    T = torch.tensor(T, dtype=torch.double)\n",
        "    \n",
        "    # 계산 결과 검증을 위해 pytorch를 사용하므로 numpy 어레이 뿐 아니라\n",
        "    # pytorch tensor형태에 대해서도 동일한 연산을 한다.\n",
        "    H1 = torch.mm(W[:2,1:], torch.t(X))\n",
        "    Z1 = H1 + W[:2,0].view(-1,1)\n",
        "    A1 = torch.sigmoid(Z1) #(2,1)\n",
        "    \n",
        "    H2 = torch.mm(W[2:,1:], A1)\n",
        "    Z2 = H2 + W[2,0]\n",
        "    A2 = torch.sigmoid(Z2)\n",
        "\n",
        "    C = (1/(2*N)) * ((T-A2)**2).sum()\n",
        "    \n",
        "    if retopt == 'all':\n",
        "        return (H1, Z1, A1, H2, Z2, A2, C)\n",
        "    elif retopt == 'fval':\n",
        "        return C"
      ],
      "execution_count": null,
      "outputs": []
    },
    {
      "cell_type": "markdown",
      "metadata": {
        "id": "Kxg77ow5HcXM"
      },
      "source": [
        "### 넘파이 어레이와 텐서 프린트 보조함수"
      ]
    },
    {
      "cell_type": "code",
      "metadata": {
        "id": "DTeXp1ipHa-j"
      },
      "source": [
        "np.set_printoptions(precision=4, linewidth =150)\n",
        "\n",
        "def print_tensor(t):\n",
        "    \"\"\"\n",
        "    텐서형 자료를 보기 좋게 프린트하기 위한 보조 함수\n",
        "    \"\"\"\n",
        "    def namestr(obj, namespace):\n",
        "        return [name for name in namespace if namespace[name] is obj]\n",
        "    \n",
        "    var_name = namestr(t, globals())[0]\n",
        "    \n",
        "    print(\"{}:{},{}\".format(var_name, t.shape, t.dtype))\n",
        "    print(t)\n",
        "    print(\"-------------------------------------------\")"
      ],
      "execution_count": null,
      "outputs": []
    },
    {
      "cell_type": "markdown",
      "metadata": {
        "id": "Rq6o7ilTHe9c"
      },
      "source": [
        "### 가중치 무작위 초기화"
      ]
    },
    {
      "cell_type": "code",
      "metadata": {
        "id": "JlJCwpeZHdrz",
        "outputId": "d9be6666-9d7d-4619-b71a-ae740e0e3665",
        "colab": {
          "base_uri": "https://localhost:8080/",
          "height": 187
        }
      },
      "source": [
        "np.random.seed(17)\n",
        "\n",
        "W = np.random.randn(9).reshape(3,3)\n",
        "W_torch = torch.tensor(W, dtype=torch.double); W_torch.requires_grad=True\n",
        "\n",
        "print_tensor(W)\n",
        "print_tensor(W_torch)"
      ],
      "execution_count": null,
      "outputs": [
        {
          "output_type": "stream",
          "text": [
            "W:(3, 3),float64\n",
            "[[ 0.2763 -1.8546  0.6239]\n",
            " [ 1.1453  1.0372  1.8866]\n",
            " [-0.1117 -0.3621  0.1487]]\n",
            "-------------------------------------------\n",
            "W_torch:torch.Size([3, 3]),torch.float64\n",
            "tensor([[ 0.2763, -1.8546,  0.6239],\n",
            "        [ 1.1453,  1.0372,  1.8866],\n",
            "        [-0.1117, -0.3621,  0.1487]], dtype=torch.float64, requires_grad=True)\n",
            "-------------------------------------------\n"
          ],
          "name": "stdout"
        }
      ]
    },
    {
      "cell_type": "markdown",
      "metadata": {
        "id": "0miWkfH4HiTx"
      },
      "source": [
        "### 초기 상태에서 목적함숫값"
      ]
    },
    {
      "cell_type": "code",
      "metadata": {
        "id": "5UBYQGC2HgUc",
        "outputId": "f8af7638-3ee9-4562-f361-dec8665372be",
        "colab": {
          "base_uri": "https://localhost:8080/",
          "height": 34
        }
      },
      "source": [
        "# 초기 상태에서 목적함숫값\n",
        "J(W, samples, target)"
      ],
      "execution_count": null,
      "outputs": [
        {
          "output_type": "execute_result",
          "data": {
            "text/plain": [
              "0.1263148192185165"
            ]
          },
          "metadata": {
            "tags": []
          },
          "execution_count": 28
        }
      ]
    },
    {
      "cell_type": "code",
      "metadata": {
        "id": "cKTCxmTGHjkE",
        "outputId": "21afbb70-ee37-4abb-f576-f2cb4909cc5d",
        "colab": {
          "base_uri": "https://localhost:8080/",
          "height": 34
        }
      },
      "source": [
        "H1, Z1, A1, H2, Z2, A2, C = forward(samples, W, target)\n",
        "\n",
        "C"
      ],
      "execution_count": null,
      "outputs": [
        {
          "output_type": "execute_result",
          "data": {
            "text/plain": [
              "0.1263148192185165"
            ]
          },
          "metadata": {
            "tags": []
          },
          "execution_count": 29
        }
      ]
    },
    {
      "cell_type": "markdown",
      "metadata": {
        "id": "EycQWx8-Hmz6"
      },
      "source": [
        "### 데이터 하나로 순전파 시키기"
      ]
    },
    {
      "cell_type": "code",
      "metadata": {
        "id": "0KHDxSXBHkfj",
        "outputId": "73eef01a-d0c6-4583-fa13-d69a3094bcb8",
        "colab": {
          "base_uri": "https://localhost:8080/",
          "height": 170
        }
      },
      "source": [
        "N = 1\n",
        "x = samples[[0]]\n",
        "x_torch = torch.tensor(x, dtype=torch.double); x_torch.requires_grad=True\n",
        "t = target[[0]]\n",
        "\n",
        "print_tensor(x)\n",
        "print_tensor(x_torch)\n",
        "print_tensor(t)\n"
      ],
      "execution_count": null,
      "outputs": [
        {
          "output_type": "stream",
          "text": [
            "x:(1, 2),float64\n",
            "[[2.754  3.5407]]\n",
            "-------------------------------------------\n",
            "x_torch:torch.Size([1, 2]),torch.float64\n",
            "tensor([[2.7540, 3.5407]], dtype=torch.float64, requires_grad=True)\n",
            "-------------------------------------------\n",
            "t:(1,),float64\n",
            "[1.]\n",
            "-------------------------------------------\n"
          ],
          "name": "stdout"
        }
      ]
    },
    {
      "cell_type": "code",
      "metadata": {
        "id": "daU7I4_7HoKz",
        "outputId": "a869ef58-e198-4c80-f9f5-01151df654de",
        "colab": {
          "base_uri": "https://localhost:8080/",
          "height": 425
        }
      },
      "source": [
        "H1, Z1, A1, H2, Z2, A2, C = forward(x, W, t)\n",
        "\n",
        "print_tensor(H1)\n",
        "print_tensor(Z1)\n",
        "print_tensor(A1)\n",
        "print_tensor(H2)\n",
        "print_tensor(Z2)\n",
        "print_tensor(A2)\n",
        "print_tensor(C)"
      ],
      "execution_count": null,
      "outputs": [
        {
          "output_type": "stream",
          "text": [
            "H1:(2, 1),float64\n",
            "[[-2.8986]\n",
            " [ 9.5365]]\n",
            "-------------------------------------------\n",
            "Z1:(2, 1),float64\n",
            "[[-2.6223]\n",
            " [10.6818]]\n",
            "-------------------------------------------\n",
            "A1:(2, 1),float64\n",
            "[[0.0677]\n",
            " [1.    ]]\n",
            "-------------------------------------------\n",
            "H2:(1,),float64\n",
            "[0.1242]\n",
            "-------------------------------------------\n",
            "Z2:(1,),float64\n",
            "[0.0125]\n",
            "-------------------------------------------\n",
            "A2:(1,),float64\n",
            "[0.5031]\n",
            "-------------------------------------------\n",
            "C:(),float64\n",
            "0.12344827837124746\n",
            "-------------------------------------------\n"
          ],
          "name": "stdout"
        }
      ]
    },
    {
      "cell_type": "code",
      "metadata": {
        "id": "xTjK0X91HpzR",
        "outputId": "1421e235-8571-48d2-9c70-ba4f08f04f72",
        "colab": {
          "base_uri": "https://localhost:8080/",
          "height": 425
        }
      },
      "source": [
        "H1_torch, Z1_torch, A1_torch, H2_torch, Z2_torch, A2_torch, C_torch = forward_torch(x_torch, W_torch, t)\n",
        "\n",
        "print_tensor(H1_torch)\n",
        "print_tensor(Z1_torch)\n",
        "print_tensor(A1_torch)\n",
        "print_tensor(H2_torch)\n",
        "print_tensor(Z2_torch)\n",
        "print_tensor(A2_torch)\n",
        "print_tensor(C_torch)"
      ],
      "execution_count": null,
      "outputs": [
        {
          "output_type": "stream",
          "text": [
            "H1_torch:torch.Size([2, 1]),torch.float64\n",
            "tensor([[-2.8986],\n",
            "        [ 9.5365]], dtype=torch.float64, grad_fn=<MmBackward>)\n",
            "-------------------------------------------\n",
            "Z1_torch:torch.Size([2, 1]),torch.float64\n",
            "tensor([[-2.6223],\n",
            "        [10.6818]], dtype=torch.float64, grad_fn=<AddBackward0>)\n",
            "-------------------------------------------\n",
            "A1_torch:torch.Size([2, 1]),torch.float64\n",
            "tensor([[0.0677],\n",
            "        [1.0000]], dtype=torch.float64, grad_fn=<SigmoidBackward>)\n",
            "-------------------------------------------\n",
            "H2_torch:torch.Size([1, 1]),torch.float64\n",
            "tensor([[0.1242]], dtype=torch.float64, grad_fn=<MmBackward>)\n",
            "-------------------------------------------\n",
            "Z2_torch:torch.Size([1, 1]),torch.float64\n",
            "tensor([[0.0125]], dtype=torch.float64, grad_fn=<AddBackward0>)\n",
            "-------------------------------------------\n",
            "A2_torch:torch.Size([1, 1]),torch.float64\n",
            "tensor([[0.5031]], dtype=torch.float64, grad_fn=<SigmoidBackward>)\n",
            "-------------------------------------------\n",
            "C_torch:torch.Size([]),torch.float64\n",
            "tensor(0.1234, dtype=torch.float64, grad_fn=<MulBackward0>)\n",
            "-------------------------------------------\n"
          ],
          "name": "stdout"
        }
      ]
    },
    {
      "cell_type": "markdown",
      "metadata": {
        "id": "Rma1f-n1HteM"
      },
      "source": [
        "### 단계별 계산"
      ]
    },
    {
      "cell_type": "markdown",
      "metadata": {
        "id": "T_9W4uUPHvey"
      },
      "source": [
        "### $\\frac{\\partial C}{\\partial \\mathbf{a}^{(2)}}$: (1,1)"
      ]
    },
    {
      "cell_type": "code",
      "metadata": {
        "id": "AmhH32FMHr50",
        "outputId": "317903bf-5b66-40b5-d668-85114ac6a261",
        "colab": {
          "base_uri": "https://localhost:8080/",
          "height": 34
        }
      },
      "source": [
        "dA2 = -(t-A2)/N\n",
        "dA2"
      ],
      "execution_count": null,
      "outputs": [
        {
          "output_type": "execute_result",
          "data": {
            "text/plain": [
              "array([-0.4969])"
            ]
          },
          "metadata": {
            "tags": []
          },
          "execution_count": 33
        }
      ]
    },
    {
      "cell_type": "code",
      "metadata": {
        "id": "941UXpSIHyqm",
        "outputId": "792f29ee-054e-4e04-c648-28a674d41a59",
        "colab": {
          "base_uri": "https://localhost:8080/",
          "height": 34
        }
      },
      "source": [
        "#                              종속변수, 독립변수, 종속변수와 곱해지는 상위 그래디언트 \n",
        "dA2_torch = torch.autograd.grad(C_torch, A2_torch, torch.tensor(1, dtype=torch.double), retain_graph=True)[0]\n",
        "dA2_torch"
      ],
      "execution_count": null,
      "outputs": [
        {
          "output_type": "execute_result",
          "data": {
            "text/plain": [
              "tensor([[-0.4969]], dtype=torch.float64)"
            ]
          },
          "metadata": {
            "tags": []
          },
          "execution_count": 34
        }
      ]
    },
    {
      "cell_type": "markdown",
      "metadata": {
        "id": "wqa2H9mLH1mo"
      },
      "source": [
        "### $\\frac{\\partial C}{\\partial \\mathbf{z}^{(2)}}$: (1,1)"
      ]
    },
    {
      "cell_type": "code",
      "metadata": {
        "id": "6Mk0iumwHz58",
        "outputId": "568cba60-d4b9-4e55-9b6e-700976b871ad",
        "colab": {
          "base_uri": "https://localhost:8080/",
          "height": 34
        }
      },
      "source": [
        "dA2_dZ2 = logistic(Z2)*(1-logistic(Z2))\n",
        "dZ2 = dA2_dZ2 * dA2\n",
        "dZ2"
      ],
      "execution_count": null,
      "outputs": [
        {
          "output_type": "execute_result",
          "data": {
            "text/plain": [
              "array([-0.1242])"
            ]
          },
          "metadata": {
            "tags": []
          },
          "execution_count": 35
        }
      ]
    },
    {
      "cell_type": "code",
      "metadata": {
        "id": "c3y0MsLvH2zs",
        "outputId": "fb959464-bebb-47b0-967a-d0962e5e937a",
        "colab": {
          "base_uri": "https://localhost:8080/",
          "height": 34
        }
      },
      "source": [
        "#                              종속변수, 독립변수, 종속변수와 곱해지는 상위 그래디언트 \n",
        "dZ2_torch = torch.autograd.grad(C_torch, Z2_torch, torch.tensor(1, dtype=torch.double), retain_graph=True)[0]\n",
        "dZ2_torch"
      ],
      "execution_count": null,
      "outputs": [
        {
          "output_type": "execute_result",
          "data": {
            "text/plain": [
              "tensor([[-0.1242]], dtype=torch.float64)"
            ]
          },
          "metadata": {
            "tags": []
          },
          "execution_count": 36
        }
      ]
    },
    {
      "cell_type": "markdown",
      "metadata": {
        "id": "o3963sheH5aQ"
      },
      "source": [
        "### $\\frac{\\partial C}{\\partial \\mathbf{b}^{(2)}}$: (1,1)"
      ]
    },
    {
      "cell_type": "code",
      "metadata": {
        "id": "l1IUyGLpH33E",
        "outputId": "a2895a57-d286-4410-a5ce-945881c1e752",
        "colab": {
          "base_uri": "https://localhost:8080/",
          "height": 34
        }
      },
      "source": [
        "db2 = dZ2\n",
        "db2"
      ],
      "execution_count": null,
      "outputs": [
        {
          "output_type": "execute_result",
          "data": {
            "text/plain": [
              "array([-0.1242])"
            ]
          },
          "metadata": {
            "tags": []
          },
          "execution_count": 37
        }
      ]
    },
    {
      "cell_type": "code",
      "metadata": {
        "id": "vnNIgUPOH6lc",
        "outputId": "0833a75a-0f26-4e53-97f0-40af91f9c1b1",
        "colab": {
          "base_uri": "https://localhost:8080/",
          "height": 34
        }
      },
      "source": [
        "#                              종속변수, 독립변수, 종속변수와 곱해지는 상위 그래디언트 \n",
        "dW_torch = torch.autograd.grad(C_torch, W_torch, torch.tensor(1, dtype=torch.double), retain_graph=True)[0]\n",
        "dW_torch[2,0]"
      ],
      "execution_count": null,
      "outputs": [
        {
          "output_type": "execute_result",
          "data": {
            "text/plain": [
              "tensor(-0.1242, dtype=torch.float64)"
            ]
          },
          "metadata": {
            "tags": []
          },
          "execution_count": 38
        }
      ]
    },
    {
      "cell_type": "markdown",
      "metadata": {
        "id": "9FoZpRU7H9Th"
      },
      "source": [
        "### $\\frac{\\partial C}{\\partial \\mathbf{h}^{(2)}}$: (1,1)"
      ]
    },
    {
      "cell_type": "code",
      "metadata": {
        "id": "JyFWXbr7H7vU"
      },
      "source": [
        "dH2 = dZ2\n",
        "dH2_torch = dZ2_torch"
      ],
      "execution_count": null,
      "outputs": []
    },
    {
      "cell_type": "markdown",
      "metadata": {
        "id": "le3kHspFH_d-"
      },
      "source": [
        "### $\\frac{\\partial C}{\\partial \\mathbf{W}^{(2)}}$: (1,2)"
      ]
    },
    {
      "cell_type": "code",
      "metadata": {
        "id": "eN6BMfnFH-e0",
        "outputId": "aaf4d56c-632d-49fc-85f9-78039cd6f462",
        "colab": {
          "base_uri": "https://localhost:8080/",
          "height": 34
        }
      },
      "source": [
        "dH2.reshape(-1,1)"
      ],
      "execution_count": null,
      "outputs": [
        {
          "output_type": "execute_result",
          "data": {
            "text/plain": [
              "array([[-0.1242]])"
            ]
          },
          "metadata": {
            "tags": []
          },
          "execution_count": 40
        }
      ]
    },
    {
      "cell_type": "code",
      "metadata": {
        "id": "3ypEuShnIBEE",
        "outputId": "c4623e7f-96ca-4b5d-dc67-75a78b431a7e",
        "colab": {
          "base_uri": "https://localhost:8080/",
          "height": 34
        }
      },
      "source": [
        "dH2_dW2 = A1.T # dH2/dW2는 야코비안이 아니라 일반화 야코비안으로 (1, (1,2))가 되야 함\n",
        "\n",
        "dW2 = np.dot(dH2_dW2.T, dH2.reshape(-1,1)) # 야코비안 전치 곱하기 그레디언트\n",
        "dW2.T #여기서 결과를 다시 전치시켜야 (1,2)가 되는 이유는 일반화 야코비안과 관련있고 뒤에 다시 설명해야함."
      ],
      "execution_count": null,
      "outputs": [
        {
          "output_type": "execute_result",
          "data": {
            "text/plain": [
              "array([[-0.0084, -0.1242]])"
            ]
          },
          "metadata": {
            "tags": []
          },
          "execution_count": 41
        }
      ]
    },
    {
      "cell_type": "code",
      "metadata": {
        "id": "jufRLC3YICds",
        "outputId": "0c07db21-6275-4f1c-81de-49b79920cee3",
        "colab": {
          "base_uri": "https://localhost:8080/",
          "height": 34
        }
      },
      "source": [
        "dW_torch[2,1:]"
      ],
      "execution_count": null,
      "outputs": [
        {
          "output_type": "execute_result",
          "data": {
            "text/plain": [
              "tensor([-0.0084, -0.1242], dtype=torch.float64)"
            ]
          },
          "metadata": {
            "tags": []
          },
          "execution_count": 42
        }
      ]
    },
    {
      "cell_type": "markdown",
      "metadata": {
        "id": "L83KeiwlIFRp"
      },
      "source": [
        "### $\\frac{\\partial C}{\\partial \\mathbf{a}^{(1)}}$: (2,1)"
      ]
    },
    {
      "cell_type": "code",
      "metadata": {
        "id": "2BF3spM2IDpC",
        "outputId": "84771415-1881-4303-8378-45591faa768d",
        "colab": {
          "base_uri": "https://localhost:8080/",
          "height": 34
        }
      },
      "source": [
        "dH2_dA1 = W[2:,1:] # dH2/dA1은 (1,2)인 야코비안이 맞고\n",
        "dH2_dA1.shape"
      ],
      "execution_count": null,
      "outputs": [
        {
          "output_type": "execute_result",
          "data": {
            "text/plain": [
              "(1, 2)"
            ]
          },
          "metadata": {
            "tags": []
          },
          "execution_count": 43
        }
      ]
    },
    {
      "cell_type": "code",
      "metadata": {
        "id": "Y2fl4DQiIGb8",
        "outputId": "6f19a774-1520-413c-a529-94fa64e025cf",
        "colab": {
          "base_uri": "https://localhost:8080/",
          "height": 51
        }
      },
      "source": [
        "dA1 = np.dot(dH2_dA1.T, dH2.reshape(-1,1)) # 따라서 야코비안 전치 그래디언트가 성립, W.T * delta\n",
        "\n",
        "dA1"
      ],
      "execution_count": null,
      "outputs": [
        {
          "output_type": "execute_result",
          "data": {
            "text/plain": [
              "array([[ 0.045 ],\n",
              "       [-0.0185]])"
            ]
          },
          "metadata": {
            "tags": []
          },
          "execution_count": 44
        }
      ]
    },
    {
      "cell_type": "code",
      "metadata": {
        "id": "ZYK-xbirIHfd",
        "outputId": "e9468364-9267-4349-bdb5-e9478c834a43",
        "colab": {
          "base_uri": "https://localhost:8080/",
          "height": 51
        }
      },
      "source": [
        "#                              종속변수, 독립변수, 종속변수와 곱해지는 상위 그래디언트 \n",
        "dA1_torch = torch.autograd.grad(C_torch, A1_torch, torch.tensor(1, dtype=torch.double), retain_graph=True)[0]\n",
        "dA1_torch"
      ],
      "execution_count": null,
      "outputs": [
        {
          "output_type": "execute_result",
          "data": {
            "text/plain": [
              "tensor([[ 0.0450],\n",
              "        [-0.0185]], dtype=torch.float64)"
            ]
          },
          "metadata": {
            "tags": []
          },
          "execution_count": 45
        }
      ]
    },
    {
      "cell_type": "markdown",
      "metadata": {
        "id": "8aH_iRkyIMaQ"
      },
      "source": [
        "### $\\frac{\\partial C}{\\partial \\mathbf{z}^{(1)}}$: (2,1)"
      ]
    },
    {
      "cell_type": "code",
      "metadata": {
        "id": "4F8t4HgDIKPc",
        "outputId": "7920717d-cfca-409a-a5a0-ea4954e4b76a",
        "colab": {
          "base_uri": "https://localhost:8080/",
          "height": 51
        }
      },
      "source": [
        "dA1_dZ1 =  np.zeros((A1.shape[0], Z1.shape[0]))\n",
        "dA1_dZ1[np.diag_indices(Z1.shape[0])] = (logistic(Z1)*(1-logistic(Z1))).reshape(-1)\n",
        "\n",
        "dA1_dZ1"
      ],
      "execution_count": null,
      "outputs": [
        {
          "output_type": "execute_result",
          "data": {
            "text/plain": [
              "array([[6.3132e-02, 0.0000e+00],\n",
              "       [0.0000e+00, 2.2958e-05]])"
            ]
          },
          "metadata": {
            "tags": []
          },
          "execution_count": 46
        }
      ]
    },
    {
      "cell_type": "code",
      "metadata": {
        "id": "CEa7_RnWINxU",
        "outputId": "0be81433-4b91-4968-ba29-0899a539ab35",
        "colab": {
          "base_uri": "https://localhost:8080/",
          "height": 51
        }
      },
      "source": [
        "dZ1 = np.dot(dA1_dZ1.T, dA1)\n",
        "dZ1"
      ],
      "execution_count": null,
      "outputs": [
        {
          "output_type": "execute_result",
          "data": {
            "text/plain": [
              "array([[ 2.8396e-03],\n",
              "       [-4.2398e-07]])"
            ]
          },
          "metadata": {
            "tags": []
          },
          "execution_count": 47
        }
      ]
    },
    {
      "cell_type": "code",
      "metadata": {
        "id": "oFHZDWanIOiM",
        "outputId": "8ad03839-01fb-4fd1-f245-61c51b2e366a",
        "colab": {
          "base_uri": "https://localhost:8080/",
          "height": 51
        }
      },
      "source": [
        "#                              종속변수, 독립변수, 종속변수와 곱해지는 상위 그래디언트 \n",
        "dZ1_torch = torch.autograd.grad(C_torch, Z1_torch, torch.tensor(1, dtype=torch.double), retain_graph=True)[0]\n",
        "dZ1_torch"
      ],
      "execution_count": null,
      "outputs": [
        {
          "output_type": "execute_result",
          "data": {
            "text/plain": [
              "tensor([[ 2.8396e-03],\n",
              "        [-4.2398e-07]], dtype=torch.float64)"
            ]
          },
          "metadata": {
            "tags": []
          },
          "execution_count": 48
        }
      ]
    },
    {
      "cell_type": "markdown",
      "metadata": {
        "id": "7Jh6ViFNIQ-I"
      },
      "source": [
        "- 굳이 이렇게 어렵게 하지말고 그냥 엘리먼트 와이즈(아다마르 곱)로 처리하는 것이 더 간편하다."
      ]
    },
    {
      "cell_type": "code",
      "metadata": {
        "id": "MQiZ3hhdIPac",
        "outputId": "b997ca57-0ee9-4303-ced3-1c05651923e3",
        "colab": {
          "base_uri": "https://localhost:8080/",
          "height": 51
        }
      },
      "source": [
        "dA1_dZ1 = logistic(Z1)*(1-logistic(Z1))\n",
        "\n",
        "dA1_dZ1"
      ],
      "execution_count": null,
      "outputs": [
        {
          "output_type": "execute_result",
          "data": {
            "text/plain": [
              "array([[6.3132e-02],\n",
              "       [2.2958e-05]])"
            ]
          },
          "metadata": {
            "tags": []
          },
          "execution_count": 49
        }
      ]
    },
    {
      "cell_type": "code",
      "metadata": {
        "id": "l0zHYc2TISP0",
        "outputId": "a6f0f335-ed04-4869-86ad-f01537903192",
        "colab": {
          "base_uri": "https://localhost:8080/",
          "height": 51
        }
      },
      "source": [
        "dZ1_ = dA1_dZ1 * dA1\n",
        "dZ1_"
      ],
      "execution_count": null,
      "outputs": [
        {
          "output_type": "execute_result",
          "data": {
            "text/plain": [
              "array([[ 2.8396e-03],\n",
              "       [-4.2398e-07]])"
            ]
          },
          "metadata": {
            "tags": []
          },
          "execution_count": 50
        }
      ]
    },
    {
      "cell_type": "markdown",
      "metadata": {
        "id": "X_F95ZyTIVAE"
      },
      "source": [
        "### $\\frac{\\partial C}{\\partial \\mathbf{b}^{(1)}}$: (2,1)"
      ]
    },
    {
      "cell_type": "code",
      "metadata": {
        "id": "jax_e84KITEc",
        "outputId": "d8818d59-d1a5-4662-8ff7-33ffa9a78279",
        "colab": {
          "base_uri": "https://localhost:8080/",
          "height": 51
        }
      },
      "source": [
        "db1 = dZ1\n",
        "db1"
      ],
      "execution_count": null,
      "outputs": [
        {
          "output_type": "execute_result",
          "data": {
            "text/plain": [
              "array([[ 2.8396e-03],\n",
              "       [-4.2398e-07]])"
            ]
          },
          "metadata": {
            "tags": []
          },
          "execution_count": 51
        }
      ]
    },
    {
      "cell_type": "code",
      "metadata": {
        "id": "wd6Z_wAUIWGM",
        "outputId": "e51158a4-a982-4b30-bde5-a3edbf1b67b1",
        "colab": {
          "base_uri": "https://localhost:8080/",
          "height": 51
        }
      },
      "source": [
        "dW_torch[:2,0].view(-1,1)"
      ],
      "execution_count": null,
      "outputs": [
        {
          "output_type": "execute_result",
          "data": {
            "text/plain": [
              "tensor([[ 2.8396e-03],\n",
              "        [-4.2398e-07]], dtype=torch.float64)"
            ]
          },
          "metadata": {
            "tags": []
          },
          "execution_count": 52
        }
      ]
    },
    {
      "cell_type": "markdown",
      "metadata": {
        "id": "r-xj8sqkIZ--"
      },
      "source": [
        "### $\\frac{\\partial C}{\\partial \\mathbf{h}^{(1)}}$: (2,1)"
      ]
    },
    {
      "cell_type": "code",
      "metadata": {
        "id": "hkcCP2BVIXCU",
        "outputId": "a71662c0-0b1b-49b3-d57a-f1012f8cc63f",
        "colab": {
          "base_uri": "https://localhost:8080/",
          "height": 51
        }
      },
      "source": [
        "dH1 = dZ1\n",
        "dH1_torch = dZ1_torch\n",
        "\n",
        "dH1_torch"
      ],
      "execution_count": null,
      "outputs": [
        {
          "output_type": "execute_result",
          "data": {
            "text/plain": [
              "tensor([[ 2.8396e-03],\n",
              "        [-4.2398e-07]], dtype=torch.float64)"
            ]
          },
          "metadata": {
            "tags": []
          },
          "execution_count": 53
        }
      ]
    },
    {
      "cell_type": "code",
      "metadata": {
        "id": "qzTATAXLIfpJ",
        "outputId": "c32ba038-d0fd-4fc3-e4c8-192658070b2e",
        "colab": {
          "base_uri": "https://localhost:8080/",
          "height": 51
        }
      },
      "source": [
        "dH1"
      ],
      "execution_count": null,
      "outputs": [
        {
          "output_type": "execute_result",
          "data": {
            "text/plain": [
              "array([[ 2.8396e-03],\n",
              "       [-4.2398e-07]])"
            ]
          },
          "metadata": {
            "tags": []
          },
          "execution_count": 54
        }
      ]
    },
    {
      "cell_type": "markdown",
      "metadata": {
        "id": "6AiXQS7FIdnm"
      },
      "source": [
        "### $\\frac{\\partial C}{\\partial \\mathbf{W}^{(1)}}$: (2,2)"
      ]
    },
    {
      "cell_type": "code",
      "metadata": {
        "id": "cSuisLUhIbmE",
        "outputId": "d8a2a5de-b161-4af2-818b-e7ad34f95058",
        "colab": {
          "base_uri": "https://localhost:8080/",
          "height": 136
        }
      },
      "source": [
        "dH1_dW1 = np.zeros((2,2,2))\n",
        "dH1_dW1[0,0,:] = x\n",
        "dH1_dW1[1,1,:] = x\n",
        "\n",
        "print_tensor(dH1_dW1)\n",
        "\n"
      ],
      "execution_count": null,
      "outputs": [
        {
          "output_type": "stream",
          "text": [
            "dH1_dW1:(2, 2, 2),float64\n",
            "[[[2.754  3.5407]\n",
            "  [0.     0.    ]]\n",
            "\n",
            " [[0.     0.    ]\n",
            "  [2.754  3.5407]]]\n",
            "-------------------------------------------\n"
          ],
          "name": "stdout"
        }
      ]
    },
    {
      "cell_type": "code",
      "metadata": {
        "id": "CjGVJln0IiyE",
        "outputId": "3c22ae35-b9c2-4abd-f36a-2157f9e66f9c",
        "colab": {
          "base_uri": "https://localhost:8080/",
          "height": 51
        }
      },
      "source": [
        "dW1 = (dH1_dW1*dH1.reshape(dH1.shape[0], 1, 1)).sum(axis=0)\n",
        "dW1"
      ],
      "execution_count": null,
      "outputs": [
        {
          "output_type": "execute_result",
          "data": {
            "text/plain": [
              "array([[ 7.8203e-03,  1.0054e-02],\n",
              "       [-1.1676e-06, -1.5012e-06]])"
            ]
          },
          "metadata": {
            "tags": []
          },
          "execution_count": 56
        }
      ]
    },
    {
      "cell_type": "code",
      "metadata": {
        "id": "LwCu6MJfIkq1",
        "outputId": "3f15874d-47ac-4ca2-b139-a257b8fa5d13",
        "colab": {
          "base_uri": "https://localhost:8080/",
          "height": 51
        }
      },
      "source": [
        "dW_torch[:2,1:]"
      ],
      "execution_count": null,
      "outputs": [
        {
          "output_type": "execute_result",
          "data": {
            "text/plain": [
              "tensor([[ 7.8203e-03,  1.0054e-02],\n",
              "        [-1.1676e-06, -1.5012e-06]], dtype=torch.float64)"
            ]
          },
          "metadata": {
            "tags": []
          },
          "execution_count": 57
        }
      ]
    },
    {
      "cell_type": "code",
      "metadata": {
        "id": "r2ol_leTIl3d",
        "outputId": "1f06ec79-3dcb-425b-d817-ca4df0e803c0",
        "colab": {
          "base_uri": "https://localhost:8080/",
          "height": 85
        }
      },
      "source": [
        "print(dH1.shape)\n",
        "print(x.shape)\n",
        "np.dot(dH1, x)"
      ],
      "execution_count": null,
      "outputs": [
        {
          "output_type": "stream",
          "text": [
            "(2, 1)\n",
            "(1, 2)\n"
          ],
          "name": "stdout"
        },
        {
          "output_type": "execute_result",
          "data": {
            "text/plain": [
              "array([[ 7.8203e-03,  1.0054e-02],\n",
              "       [-1.1676e-06, -1.5012e-06]])"
            ]
          },
          "metadata": {
            "tags": []
          },
          "execution_count": 58
        }
      ]
    },
    {
      "cell_type": "markdown",
      "metadata": {
        "id": "LNoPD5WGIozx"
      },
      "source": [
        "### 텐서 평활화"
      ]
    },
    {
      "cell_type": "code",
      "metadata": {
        "id": "JpAaBdGwInU8",
        "outputId": "5047ffbb-d298-4f84-eea8-f2c53e6c2c98",
        "colab": {
          "base_uri": "https://localhost:8080/",
          "height": 102
        }
      },
      "source": [
        "T = np.arange(8).reshape(2,2,2)\n",
        "T"
      ],
      "execution_count": null,
      "outputs": [
        {
          "output_type": "execute_result",
          "data": {
            "text/plain": [
              "array([[[0, 1],\n",
              "        [2, 3]],\n",
              "\n",
              "       [[4, 5],\n",
              "        [6, 7]]])"
            ]
          },
          "metadata": {
            "tags": []
          },
          "execution_count": 59
        }
      ]
    },
    {
      "cell_type": "code",
      "metadata": {
        "id": "NgVddqLaIqLV",
        "outputId": "2934f8b3-9db5-454c-e108-0ed2e82da18c",
        "colab": {
          "base_uri": "https://localhost:8080/",
          "height": 85
        }
      },
      "source": [
        "T.reshape(-1,2)\n"
      ],
      "execution_count": null,
      "outputs": [
        {
          "output_type": "execute_result",
          "data": {
            "text/plain": [
              "array([[0, 1],\n",
              "       [2, 3],\n",
              "       [4, 5],\n",
              "       [6, 7]])"
            ]
          },
          "metadata": {
            "tags": []
          },
          "execution_count": 60
        }
      ]
    },
    {
      "cell_type": "code",
      "metadata": {
        "id": "xkW4hG51Irdl",
        "outputId": "731ed905-84ce-4788-e99b-9de691f5e5be",
        "colab": {
          "base_uri": "https://localhost:8080/",
          "height": 102
        }
      },
      "source": [
        "T.reshape(-1,2).reshape(2,2,2)"
      ],
      "execution_count": null,
      "outputs": [
        {
          "output_type": "execute_result",
          "data": {
            "text/plain": [
              "array([[[0, 1],\n",
              "        [2, 3]],\n",
              "\n",
              "       [[4, 5],\n",
              "        [6, 7]]])"
            ]
          },
          "metadata": {
            "tags": []
          },
          "execution_count": 61
        }
      ]
    },
    {
      "cell_type": "markdown",
      "metadata": {
        "id": "mPiSkwzOIuWE"
      },
      "source": [
        "### 텐서를 평활화해서 경사도벡터와 곱하는 한줄 코드"
      ]
    },
    {
      "cell_type": "code",
      "metadata": {
        "id": "OjJhRABEIsnc",
        "outputId": "cc36817c-e1ed-42a5-93d3-f88528ab33ee",
        "colab": {
          "base_uri": "https://localhost:8080/",
          "height": 51
        }
      },
      "source": [
        "np.dot(dH1_dW1.transpose(1,2,0).reshape(-1,2), dH1).reshape(2, 2, 1).squeeze()"
      ],
      "execution_count": null,
      "outputs": [
        {
          "output_type": "execute_result",
          "data": {
            "text/plain": [
              "array([[ 7.8203e-03,  1.0054e-02],\n",
              "       [-1.1676e-06, -1.5012e-06]])"
            ]
          },
          "metadata": {
            "tags": []
          },
          "execution_count": 62
        }
      ]
    },
    {
      "cell_type": "markdown",
      "metadata": {
        "id": "27h4Ed7oIxff"
      },
      "source": [
        "## 데이터가 여러개인 경우"
      ]
    },
    {
      "cell_type": "code",
      "metadata": {
        "id": "4Bxh3t_SIvjW",
        "outputId": "b532ef55-14a0-47a9-e89d-45dccd0760a3",
        "colab": {
          "base_uri": "https://localhost:8080/",
          "height": 238
        }
      },
      "source": [
        "N=3\n",
        "x = samples[[0,5,10]]\n",
        "x_torch = torch.tensor(x, dtype=torch.double); x_torch.requires_grad=True\n",
        "t = target[[0,5,10]]\n",
        "\n",
        "print_tensor(x)\n",
        "print_tensor(x_torch)\n",
        "print_tensor(t)"
      ],
      "execution_count": null,
      "outputs": [
        {
          "output_type": "stream",
          "text": [
            "x:(3, 2),float64\n",
            "[[2.754  3.5407]\n",
            " [0.1494 2.2842]\n",
            " [1.4176 3.4657]]\n",
            "-------------------------------------------\n",
            "x_torch:torch.Size([3, 2]),torch.float64\n",
            "tensor([[2.7540, 3.5407],\n",
            "        [0.1494, 2.2842],\n",
            "        [1.4176, 3.4657]], dtype=torch.float64, requires_grad=True)\n",
            "-------------------------------------------\n",
            "t:(3,),float64\n",
            "[1. 0. 1.]\n",
            "-------------------------------------------\n"
          ],
          "name": "stdout"
        }
      ]
    },
    {
      "cell_type": "markdown",
      "metadata": {
        "id": "D95H3iS8I2X0"
      },
      "source": [
        "### 순전파와 역전파를 동시에 하는 함수"
      ]
    },
    {
      "cell_type": "code",
      "metadata": {
        "id": "4O3f9Fo1Iz2z"
      },
      "source": [
        "def forward_backward(X, W, T):\n",
        "    \"\"\"\n",
        "    네트워크를 포워드, 백워드 시킨다. numpy 버전\n",
        "    X : 네트워크의 입력벡터 shape:(N,2)\n",
        "    반환 : 목적함수, (W1에 대한 미분계수, b1에 대한 미분계수,\n",
        "                     W2에 대한 미분계수, b2에 대한 미분계수)\n",
        "    \"\"\"\n",
        "    # forward\n",
        "    N = X.shape[0]\n",
        "    \n",
        "    H1 = np.dot(W[:2,1:], X.T)\n",
        "    Z1 = H1 + W[:2,0].reshape(-1,1)\n",
        "    A1 = logistic(Z1)\n",
        "    \n",
        "    H2 = np.dot(W[2,1:], A1)\n",
        "    Z2 = H2 + W[2,0]\n",
        "    A2 = logistic(Z2)\n",
        "    \n",
        "    C = (1/(2*N)) * ((T-A2)**2).sum()\n",
        "    \n",
        "    # backward, dA->dZ->db->dW\n",
        "    dA2 = -(T-A2)/N\n",
        "    dA2_dZ2 = logistic(Z2)*(1-logistic(Z2))\n",
        "    dZ2 = dA2_dZ2 * dA2\n",
        "    \n",
        "    db2 = dZ2\n",
        "    dW2 = np.dot(dZ2, A1.T)\n",
        "\n",
        "    dH2_dA1 = W[2:,1:]\n",
        "    dA1 = np.dot(dH2_dA1.T, dZ2.reshape(-1,1))\n",
        "    dA1_dZ1 = logistic(Z1)*(1-logistic(Z1))\n",
        "    dZ1 = dA1_dZ1 * dA1\n",
        "\n",
        "    db1 = dZ1\n",
        "    dW1 = np.dot(dZ1, X)\n",
        "    \n",
        "    return C, (dW1, db1, dW2, db2)\n",
        "    "
      ],
      "execution_count": null,
      "outputs": []
    },
    {
      "cell_type": "markdown",
      "metadata": {
        "id": "eyaRIsQ3I51R"
      },
      "source": [
        "### 모든 데이터에 대해 각각 역전파한 미분계수를 평균하기"
      ]
    },
    {
      "cell_type": "code",
      "metadata": {
        "id": "0zuVbc3gI4Gt",
        "outputId": "bc0301b7-1d53-40fc-9a70-965cb78d0e3f",
        "colab": {
          "base_uri": "https://localhost:8080/",
          "height": 272
        }
      },
      "source": [
        "f, dW1, db1, dW2, db2 = 0, 0, 0, 0, 0\n",
        "\n",
        "for x_, t_ in zip(x, t):\n",
        "    x_ = np.array([x_])\n",
        "    t_ = np.array([t_])\n",
        "\n",
        "    fv, derivs = forward_backward(x_, W, t_)\n",
        "    \n",
        "    f += fv\n",
        "    dW1 += derivs[0]\n",
        "    db1 += derivs[1]\n",
        "    dW2 += derivs[2]\n",
        "    db2 += derivs[3]\n",
        "\n",
        "f   /= N\n",
        "dW1 /= N\n",
        "db1 /= N\n",
        "dW2 /= N\n",
        "db2 /= N\n",
        "\n",
        "print('C:', f)\n",
        "print_tensor(dW1)\n",
        "print_tensor(db1)\n",
        "print_tensor(dW2)\n",
        "print_tensor(db2)"
      ],
      "execution_count": null,
      "outputs": [
        {
          "output_type": "stream",
          "text": [
            "C: 0.12001678911062634\n",
            "dW1:(2, 2),float64\n",
            "[[7.9160e-03 1.2443e-02]\n",
            " [1.5168e-06 4.1280e-05]]\n",
            "-------------------------------------------\n",
            "db1:(2, 1),float64\n",
            "[[2.8791e-03]\n",
            " [1.8509e-05]]\n",
            "-------------------------------------------\n",
            "dW2:(2,),float64\n",
            "[ 0.0061 -0.0499]\n",
            "-------------------------------------------\n",
            "db2:(1,),float64\n",
            "[-0.0497]\n",
            "-------------------------------------------\n"
          ],
          "name": "stdout"
        }
      ]
    },
    {
      "cell_type": "markdown",
      "metadata": {
        "id": "3ArgDuGBI93o"
      },
      "source": [
        "### 역전파 한번으로 미분계수 구하기 "
      ]
    },
    {
      "cell_type": "code",
      "metadata": {
        "id": "OuC_ebzLI7EN",
        "outputId": "e3925501-8b63-49fc-f2ec-f18bd4ad65b5",
        "colab": {
          "base_uri": "https://localhost:8080/",
          "height": 68
        }
      },
      "source": [
        "x"
      ],
      "execution_count": null,
      "outputs": [
        {
          "output_type": "execute_result",
          "data": {
            "text/plain": [
              "array([[2.754 , 3.5407],\n",
              "       [0.1494, 2.2842],\n",
              "       [1.4176, 3.4657]])"
            ]
          },
          "metadata": {
            "tags": []
          },
          "execution_count": 66
        }
      ]
    },
    {
      "cell_type": "code",
      "metadata": {
        "id": "01UE_SFQI_SF",
        "outputId": "aeb96106-4827-47b8-8589-335c2809968a",
        "colab": {
          "base_uri": "https://localhost:8080/",
          "height": 425
        }
      },
      "source": [
        "H1, Z1, A1, H2, Z2, A2, C = forward(x, W.reshape(3,3), t)\n",
        "\n",
        "print_tensor(H1)\n",
        "print_tensor(Z1)\n",
        "print_tensor(A1)\n",
        "print_tensor(H2)\n",
        "print_tensor(Z2)\n",
        "print_tensor(A2)\n",
        "print_tensor(C)"
      ],
      "execution_count": null,
      "outputs": [
        {
          "output_type": "stream",
          "text": [
            "H1:(2, 3),float64\n",
            "[[-2.8986  1.148  -0.4669]\n",
            " [ 9.5365  4.4643  8.0089]]\n",
            "-------------------------------------------\n",
            "Z1:(2, 3),float64\n",
            "[[-2.6223  1.4243 -0.1907]\n",
            " [10.6818  5.6096  9.1542]]\n",
            "-------------------------------------------\n",
            "A1:(2, 3),float64\n",
            "[[0.0677 0.806  0.4525]\n",
            " [1.     0.9964 0.9999]]\n",
            "-------------------------------------------\n",
            "H2:(3,),float64\n",
            "[ 0.1242 -0.1437 -0.0152]\n",
            "-------------------------------------------\n",
            "Z2:(3,),float64\n",
            "[ 0.0125 -0.2554 -0.1269]\n",
            "-------------------------------------------\n",
            "A2:(3,),float64\n",
            "[0.5031 0.4365 0.4683]\n",
            "-------------------------------------------\n",
            "C:(),float64\n",
            "0.12001678911062633\n",
            "-------------------------------------------\n"
          ],
          "name": "stdout"
        }
      ]
    },
    {
      "cell_type": "code",
      "metadata": {
        "id": "FYNrIxzmJAj9",
        "outputId": "4d2922dc-a373-4884-9168-1b003dec05e5",
        "colab": {
          "base_uri": "https://localhost:8080/",
          "height": 527
        }
      },
      "source": [
        "H1_torch, Z1_torch, A1_torch, H2_torch, Z2_torch, A2_torch, C_torch = forward_torch(x_torch, W_torch, t)\n",
        "\n",
        "print_tensor(H1_torch)\n",
        "print_tensor(Z1_torch)\n",
        "print_tensor(A1_torch)\n",
        "print_tensor(H2_torch)\n",
        "print_tensor(Z2_torch)\n",
        "print_tensor(A2_torch)\n",
        "print_tensor(C_torch)"
      ],
      "execution_count": null,
      "outputs": [
        {
          "output_type": "stream",
          "text": [
            "H1_torch:torch.Size([2, 3]),torch.float64\n",
            "tensor([[-2.8986,  1.1480, -0.4669],\n",
            "        [ 9.5365,  4.4643,  8.0089]], dtype=torch.float64,\n",
            "       grad_fn=<MmBackward>)\n",
            "-------------------------------------------\n",
            "Z1_torch:torch.Size([2, 3]),torch.float64\n",
            "tensor([[-2.6223,  1.4243, -0.1907],\n",
            "        [10.6818,  5.6096,  9.1542]], dtype=torch.float64,\n",
            "       grad_fn=<AddBackward0>)\n",
            "-------------------------------------------\n",
            "A1_torch:torch.Size([2, 3]),torch.float64\n",
            "tensor([[0.0677, 0.8060, 0.4525],\n",
            "        [1.0000, 0.9964, 0.9999]], dtype=torch.float64,\n",
            "       grad_fn=<SigmoidBackward>)\n",
            "-------------------------------------------\n",
            "H2_torch:torch.Size([1, 3]),torch.float64\n",
            "tensor([[ 0.1242, -0.1437, -0.0152]], dtype=torch.float64,\n",
            "       grad_fn=<MmBackward>)\n",
            "-------------------------------------------\n",
            "Z2_torch:torch.Size([1, 3]),torch.float64\n",
            "tensor([[ 0.0125, -0.2554, -0.1269]], dtype=torch.float64,\n",
            "       grad_fn=<AddBackward0>)\n",
            "-------------------------------------------\n",
            "A2_torch:torch.Size([1, 3]),torch.float64\n",
            "tensor([[0.5031, 0.4365, 0.4683]], dtype=torch.float64,\n",
            "       grad_fn=<SigmoidBackward>)\n",
            "-------------------------------------------\n",
            "C_torch:torch.Size([]),torch.float64\n",
            "tensor(0.1200, dtype=torch.float64, grad_fn=<MulBackward0>)\n",
            "-------------------------------------------\n"
          ],
          "name": "stdout"
        }
      ]
    },
    {
      "cell_type": "markdown",
      "metadata": {
        "id": "Ri0X5LQhJEdA"
      },
      "source": [
        "### $\\frac{\\partial C}{\\partial \\mathbf{a}^{(2)}}$: (1,N)"
      ]
    },
    {
      "cell_type": "code",
      "metadata": {
        "id": "PyFfFBsyJB4c",
        "outputId": "e5daa199-b132-4d9e-9b5f-d7221a440ba2",
        "colab": {
          "base_uri": "https://localhost:8080/",
          "height": 34
        }
      },
      "source": [
        "dA2 = -(t-A2)/N\n",
        "\n",
        "dA2"
      ],
      "execution_count": null,
      "outputs": [
        {
          "output_type": "execute_result",
          "data": {
            "text/plain": [
              "array([-0.1656,  0.1455, -0.1772])"
            ]
          },
          "metadata": {
            "tags": []
          },
          "execution_count": 69
        }
      ]
    },
    {
      "cell_type": "markdown",
      "metadata": {
        "id": "YmJD44pyJHty"
      },
      "source": [
        "### $\\frac{\\partial C}{\\partial \\mathbf{z}^{(2)}}$: (1,N)"
      ]
    },
    {
      "cell_type": "code",
      "metadata": {
        "id": "Ks9njX9xJFf1",
        "outputId": "3bc7f34b-624f-41a6-be78-9bc8a68067b5",
        "colab": {
          "base_uri": "https://localhost:8080/",
          "height": 34
        }
      },
      "source": [
        "dA2_dZ2 = logistic(Z2)*(1-logistic(Z2))\n",
        "dZ2 = dA2_dZ2 * dA2\n",
        "\n",
        "dZ2"
      ],
      "execution_count": null,
      "outputs": [
        {
          "output_type": "execute_result",
          "data": {
            "text/plain": [
              "array([-0.0414,  0.0358, -0.0441])"
            ]
          },
          "metadata": {
            "tags": []
          },
          "execution_count": 70
        }
      ]
    },
    {
      "cell_type": "markdown",
      "metadata": {
        "id": "y5M4DQmlJLJd"
      },
      "source": [
        "### $\\frac{\\partial C}{\\partial \\mathbf{b}^{(2)}}$: (1,1)"
      ]
    },
    {
      "cell_type": "code",
      "metadata": {
        "id": "zGBRJv72JJJd",
        "outputId": "67838ad6-cbd3-40b9-83ac-949512823fb6",
        "colab": {
          "base_uri": "https://localhost:8080/",
          "height": 34
        }
      },
      "source": [
        "db2 = dZ2.sum(axis=0, keepdims=True)\n",
        "dH2 = dZ2\n",
        "\n",
        "db2"
      ],
      "execution_count": null,
      "outputs": [
        {
          "output_type": "execute_result",
          "data": {
            "text/plain": [
              "array([-0.0497])"
            ]
          },
          "metadata": {
            "tags": []
          },
          "execution_count": 71
        }
      ]
    },
    {
      "cell_type": "markdown",
      "metadata": {
        "id": "Mr0IQojEJN-8"
      },
      "source": [
        "### $\\frac{\\partial C}{\\partial \\mathbf{W}^{(2)}}$: (1,2)"
      ]
    },
    {
      "cell_type": "code",
      "metadata": {
        "id": "NVcKaHhwJMct",
        "outputId": "2daa3d14-2889-4767-e805-f49bd293b815",
        "colab": {
          "base_uri": "https://localhost:8080/",
          "height": 34
        }
      },
      "source": [
        "dH2_dW2 = A1.T\n",
        "dW2 = np.dot(dH2, dH2_dW2) # 정리된 결과로 야코비안 전치 평활화 따위 하지 않고 바로 delta * a.T\n",
        "\n",
        "dW2"
      ],
      "execution_count": null,
      "outputs": [
        {
          "output_type": "execute_result",
          "data": {
            "text/plain": [
              "array([ 0.0061, -0.0499])"
            ]
          },
          "metadata": {
            "tags": []
          },
          "execution_count": 72
        }
      ]
    },
    {
      "cell_type": "code",
      "metadata": {
        "id": "qB4EoAVWJPjU",
        "outputId": "c740abb2-de79-49ee-ccb0-c7c962d3d62e",
        "colab": {
          "base_uri": "https://localhost:8080/",
          "height": 34
        }
      },
      "source": [
        "dH2.shape"
      ],
      "execution_count": null,
      "outputs": [
        {
          "output_type": "execute_result",
          "data": {
            "text/plain": [
              "(3,)"
            ]
          },
          "metadata": {
            "tags": []
          },
          "execution_count": 73
        }
      ]
    },
    {
      "cell_type": "code",
      "metadata": {
        "id": "22OGgqDNJRBs",
        "outputId": "37d4a767-df43-45f1-ac8b-5d8692e434b0",
        "colab": {
          "base_uri": "https://localhost:8080/",
          "height": 34
        }
      },
      "source": [
        "dH2.reshape(1,-1).shape"
      ],
      "execution_count": null,
      "outputs": [
        {
          "output_type": "execute_result",
          "data": {
            "text/plain": [
              "(1, 3)"
            ]
          },
          "metadata": {
            "tags": []
          },
          "execution_count": 74
        }
      ]
    },
    {
      "cell_type": "code",
      "metadata": {
        "id": "lazWTXGsJSHU",
        "outputId": "b415a15e-a31f-4813-e8b1-e75fa4366a0d",
        "colab": {
          "base_uri": "https://localhost:8080/",
          "height": 34
        }
      },
      "source": [
        "dH2.reshape(-1,1).shape"
      ],
      "execution_count": null,
      "outputs": [
        {
          "output_type": "execute_result",
          "data": {
            "text/plain": [
              "(3, 1)"
            ]
          },
          "metadata": {
            "tags": []
          },
          "execution_count": 75
        }
      ]
    },
    {
      "cell_type": "markdown",
      "metadata": {
        "id": "TLG645dYJUt2"
      },
      "source": [
        "### $\\frac{\\partial C}{\\partial \\mathbf{a}^{(1)}}$: (2,N)"
      ]
    },
    {
      "cell_type": "code",
      "metadata": {
        "id": "SicbogOnJTBM",
        "outputId": "a0b2aa20-00b5-4e22-c126-06c1d3f03c55",
        "colab": {
          "base_uri": "https://localhost:8080/",
          "height": 51
        }
      },
      "source": [
        "dH2_dA1 = W[2:,1:] # 분자레이아웃 아코비안 W2 (1,2)\n",
        "dA1 = np.dot(dH2_dA1.T, dH2.reshape(1,-1)) # W.T * delta\n",
        "\n",
        "dA1"
      ],
      "execution_count": null,
      "outputs": [
        {
          "output_type": "execute_result",
          "data": {
            "text/plain": [
              "array([[ 0.015 , -0.013 ,  0.016 ],\n",
              "       [-0.0062,  0.0053, -0.0066]])"
            ]
          },
          "metadata": {
            "tags": []
          },
          "execution_count": 76
        }
      ]
    },
    {
      "cell_type": "markdown",
      "metadata": {
        "id": "3Xr8a9CSJXlr"
      },
      "source": [
        "### $\\frac{\\partial C}{\\partial \\mathbf{z}^{(1)}}$: (2,N)"
      ]
    },
    {
      "cell_type": "code",
      "metadata": {
        "id": "hkEwLFdKJWRc",
        "outputId": "f5f073ba-e78a-492b-ce73-f687f217ce7e",
        "colab": {
          "base_uri": "https://localhost:8080/",
          "height": 51
        }
      },
      "source": [
        "dA1_dZ1 =  logistic(Z1)*(1-logistic(Z1))\n",
        "    \n",
        "dA1_dZ1"
      ],
      "execution_count": null,
      "outputs": [
        {
          "output_type": "execute_result",
          "data": {
            "text/plain": [
              "array([[6.3132e-02, 1.5636e-01, 2.4774e-01],\n",
              "       [2.2958e-05, 3.6357e-03, 1.0576e-04]])"
            ]
          },
          "metadata": {
            "tags": []
          },
          "execution_count": 77
        }
      ]
    },
    {
      "cell_type": "code",
      "metadata": {
        "id": "uOpfeQMBJY9k",
        "outputId": "7a49d46e-8461-4619-90c1-fef8704a8b8b",
        "colab": {
          "base_uri": "https://localhost:8080/",
          "height": 51
        }
      },
      "source": [
        "dZ1 = dA1_dZ1 * dA1 # 엘리먼트와이즈 곱\n",
        "\n",
        "dZ1"
      ],
      "execution_count": null,
      "outputs": [
        {
          "output_type": "execute_result",
          "data": {
            "text/plain": [
              "array([[ 9.4654e-04, -2.0261e-03,  3.9587e-03],\n",
              "       [-1.4133e-07,  1.9344e-05, -6.9385e-07]])"
            ]
          },
          "metadata": {
            "tags": []
          },
          "execution_count": 78
        }
      ]
    },
    {
      "cell_type": "markdown",
      "metadata": {
        "id": "qOtx7fKXJbyU"
      },
      "source": [
        "### $\\frac{\\partial C}{\\partial \\mathbf{b}^{(1)}}$: (2,1)"
      ]
    },
    {
      "cell_type": "code",
      "metadata": {
        "id": "Cq-djEpdJaI8",
        "outputId": "960d3bf2-9d20-49e9-94a1-c1050d660e5e",
        "colab": {
          "base_uri": "https://localhost:8080/",
          "height": 51
        }
      },
      "source": [
        "db1 = dZ1.sum(axis=1, keepdims=True)\n",
        "db1"
      ],
      "execution_count": null,
      "outputs": [
        {
          "output_type": "execute_result",
          "data": {
            "text/plain": [
              "array([[2.8791e-03],\n",
              "       [1.8509e-05]])"
            ]
          },
          "metadata": {
            "tags": []
          },
          "execution_count": 79
        }
      ]
    },
    {
      "cell_type": "markdown",
      "metadata": {
        "id": "XXHp0f7YJefR"
      },
      "source": [
        "### $\\frac{\\partial C}{\\partial \\mathbf{W}^{(1)}}$: (2,2)"
      ]
    },
    {
      "cell_type": "code",
      "metadata": {
        "id": "PcOuMzfqJc_c",
        "outputId": "72898f36-558f-4e6a-95e9-06218b7b6e31",
        "colab": {
          "base_uri": "https://localhost:8080/",
          "height": 51
        }
      },
      "source": [
        "dW1 = np.dot(dZ1, x) # delta * a.T\n",
        "dW1"
      ],
      "execution_count": null,
      "outputs": [
        {
          "output_type": "execute_result",
          "data": {
            "text/plain": [
              "array([[7.9160e-03, 1.2443e-02],\n",
              "       [1.5168e-06, 4.1280e-05]])"
            ]
          },
          "metadata": {
            "tags": []
          },
          "execution_count": 80
        }
      ]
    },
    {
      "cell_type": "markdown",
      "metadata": {
        "id": "w4GcUqs7JhQ-"
      },
      "source": [
        "### 파이토치로 미분하기"
      ]
    },
    {
      "cell_type": "code",
      "metadata": {
        "id": "-yzegpyOJftc",
        "outputId": "9d0ebc93-c2b3-42b3-9741-e26a82049036",
        "colab": {
          "base_uri": "https://localhost:8080/",
          "height": 68
        }
      },
      "source": [
        "#                              종속변수, 독립변수, 종속변수와 곱해지는 상위 그래디언트 \n",
        "dW_torch = torch.autograd.grad(C_torch, W_torch, torch.tensor(1, dtype=torch.double), retain_graph=True)[0]\n",
        "dW_torch"
      ],
      "execution_count": null,
      "outputs": [
        {
          "output_type": "execute_result",
          "data": {
            "text/plain": [
              "tensor([[ 2.8791e-03,  7.9160e-03,  1.2443e-02],\n",
              "        [ 1.8509e-05,  1.5168e-06,  4.1280e-05],\n",
              "        [-4.9747e-02,  6.0737e-03, -4.9872e-02]], dtype=torch.float64)"
            ]
          },
          "metadata": {
            "tags": []
          },
          "execution_count": 81
        }
      ]
    },
    {
      "cell_type": "code",
      "metadata": {
        "id": "jLREAmKqJi2c"
      },
      "source": [
        ""
      ],
      "execution_count": null,
      "outputs": []
    }
  ]
}