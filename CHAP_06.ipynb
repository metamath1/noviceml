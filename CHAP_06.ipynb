{
  "nbformat": 4,
  "nbformat_minor": 0,
  "metadata": {
    "colab": {
      "name": "CHAP-06.ipynb",
      "provenance": [],
      "collapsed_sections": [],
      "toc_visible": true,
      "authorship_tag": "ABX9TyNkzrDFyXe5bS5rU3TjqA/U",
      "include_colab_link": true
    },
    "kernelspec": {
      "name": "python3",
      "display_name": "Python 3"
    }
  },
  "cells": [
    {
      "cell_type": "markdown",
      "metadata": {
        "id": "view-in-github",
        "colab_type": "text"
      },
      "source": [
        "<a href=\"https://colab.research.google.com/github/metamath1/noviceml/blob/master/CHAP_06.ipynb\" target=\"_parent\"><img src=\"https://colab.research.google.com/assets/colab-badge.svg\" alt=\"Open In Colab\"/></a>"
      ]
    },
    {
      "cell_type": "markdown",
      "metadata": {
        "id": "V1v_rUtqCyf1"
      },
      "source": [
        "# 6장 그림 및 예제 코드"
      ]
    },
    {
      "cell_type": "code",
      "metadata": {
        "id": "0LYn2dHnCtGX"
      },
      "source": [
        "# 기본적인 import들\n",
        "# 이후 그래프 그리는 코드에는 중복으로 적지 않음.\n",
        "# 다른 곳으로 그래프 그리는 코드를 복사-붙이기 할 때는 \n",
        "# 이 import 코드와 함께 복사-붙이기 해야함\n",
        "import numpy as np\n",
        "import matplotlib.pyplot as plt\n",
        "import matplotlib as mpl\n",
        "from mpl_toolkits import mplot3d\n",
        "import matplotlib.font_manager as mfm\n",
        "import sympy\n",
        "\n",
        "# numpy 출력 형식 지정\n",
        "np.set_printoptions(precision=4, linewidth=150)\n",
        "\n",
        "# matplotlib 스타일 지정\n",
        "mpl.style.use('bmh')\n",
        "mpl.style.use('seaborn-whitegrid')\n",
        "style = plt.style.library['bmh']\n",
        "# 스타일 컬러를 쉽게 쓸 수 있도록 리스트 저장\n",
        "style_colors = [ c['color'] for c in style['axes.prop_cycle'] ]\n",
        "\n",
        "# 그림을 로컬 폴더에 저장하고 싶으면 True로 수정 \n",
        "file_print = False"
      ],
      "execution_count": null,
      "outputs": []
    },
    {
      "cell_type": "code",
      "metadata": {
        "id": "Olt0sq_7C2LL",
        "outputId": "bd8ccde9-cdfa-4c11-921d-4d145171cda8",
        "colab": {
          "base_uri": "https://localhost:8080/",
          "height": 136
        }
      },
      "source": [
        "# 데이터 파일 사용을 위한 github repo 복사\n",
        "# !주의! \n",
        "# 구글 colab 환경에서 실행하는 경우만 실행하세요.\n",
        "# 로컬환경에서는 실행하지 마세요.\n",
        "!git clone -l -s https://github.com/metamath1/noviceml.git noviceml"
      ],
      "execution_count": null,
      "outputs": [
        {
          "output_type": "stream",
          "text": [
            "Cloning into 'noviceml'...\n",
            "warning: --local is ignored\n",
            "remote: Enumerating objects: 26, done.\u001b[K\n",
            "remote: Counting objects: 100% (26/26), done.\u001b[K\n",
            "remote: Compressing objects: 100% (23/23), done.\u001b[K\n",
            "remote: Total 74 (delta 10), reused 12 (delta 2), pack-reused 48\u001b[K\n",
            "Unpacking objects: 100% (74/74), done.\n"
          ],
          "name": "stdout"
        }
      ]
    },
    {
      "cell_type": "code",
      "metadata": {
        "id": "P-wRmzsJDBJh"
      },
      "source": [
        "# 구글 colab 환경일 경우 그래프에 한글 폰트 사용을 위한 설정\n",
        "path = 'noviceml/font/NanumBarunGothic.ttf'\n",
        "fontprop = mfm.FontProperties(fname=path, size=18)\n",
        "\n",
        "# 로컬 환경일 경우 그래프에 한글 폰트 사용을 위한 설정\n",
        "# https://financedata.github.io/posts/matplotlib-hangul-for-ubuntu-linux.html\n",
        "# 아래 코드의 주석 제거 후 경로를 유저 컴퓨터의 폰트 파일 경로로 수정하세요.\n",
        "# path = '/usr/share/fonts/truetype/nanum/NanumBarunGothic.ttf'\n",
        "# fontprop = mfm.FontProperties(fname=path, size=18)"
      ],
      "execution_count": null,
      "outputs": []
    },
    {
      "cell_type": "markdown",
      "metadata": {
        "id": "q4__5uPsDEny"
      },
      "source": [
        "## 심파이를 사용한 미분"
      ]
    },
    {
      "cell_type": "markdown",
      "metadata": {
        "id": "lHbZB5w1DGpy"
      },
      "source": [
        "\n",
        "$$\n",
        "(x^2 + 2x) \\log x\n",
        "$$"
      ]
    },
    {
      "cell_type": "code",
      "metadata": {
        "id": "DPu78BiQDDT5",
        "outputId": "85e39b55-8623-49bb-c8ba-1593f1c6c4bd",
        "colab": {
          "base_uri": "https://localhost:8080/",
          "height": 34
        }
      },
      "source": [
        "x = sympy.Symbol('x') \n",
        "f = (x**2 + 2*x)*sympy.log(x) \n",
        "df = sympy.diff(f, x) \n",
        "df\n",
        "# >>> (2*x+2)*log(x) + (x**2 + 2*x)/x"
      ],
      "execution_count": null,
      "outputs": [
        {
          "output_type": "execute_result",
          "data": {
            "text/plain": [
              "(2*x + 2)*log(x) + (x**2 + 2*x)/x"
            ]
          },
          "metadata": {
            "tags": []
          },
          "execution_count": 7
        }
      ]
    },
    {
      "cell_type": "code",
      "metadata": {
        "id": "7t008HhnDIQh",
        "outputId": "4defca0c-8c29-46db-aea7-6118e3e42610",
        "colab": {
          "base_uri": "https://localhost:8080/",
          "height": 34
        }
      },
      "source": [
        "sympy.simplify(df)\n",
        "# >>> x + 2*(x + 1)*log(x) + 2\n"
      ],
      "execution_count": null,
      "outputs": [
        {
          "output_type": "execute_result",
          "data": {
            "text/plain": [
              "x + 2*(x + 1)*log(x) + 2"
            ]
          },
          "metadata": {
            "tags": []
          },
          "execution_count": 8
        }
      ]
    },
    {
      "cell_type": "markdown",
      "metadata": {
        "id": "JWUmE7ZDD0Rm"
      },
      "source": [
        "- 직접 미분을 사용하면 위 결과를 이용하여 함수를 선언하고 그대로 사용"
      ]
    },
    {
      "cell_type": "code",
      "metadata": {
        "id": "RE9SMog3DyKy",
        "outputId": "324385de-2ce6-4631-e468-84c771ede308",
        "colab": {
          "base_uri": "https://localhost:8080/",
          "height": 51
        }
      },
      "source": [
        "f  = lambda x : (x**2 + 2*x)*np.log(x)\n",
        "df = lambda x : (2*x+2)*np.log(x) + (x+2)\n",
        "\n",
        "print(f(1))\n",
        "print(df(1))"
      ],
      "execution_count": null,
      "outputs": [
        {
          "output_type": "stream",
          "text": [
            "0.0\n",
            "3.0\n"
          ],
          "name": "stdout"
        }
      ]
    },
    {
      "cell_type": "markdown",
      "metadata": {
        "id": "WPb5EmR0D3aj"
      },
      "source": [
        "## 수치미분"
      ]
    },
    {
      "cell_type": "code",
      "metadata": {
        "id": "GmztFO4hD1q5"
      },
      "source": [
        "############################################################\n",
        "# 수치미분함수\n",
        "############################################################\n",
        "def numer_deriv(f, x, h=0.001, method=\"center\") :\n",
        "    \"\"\"\n",
        "    {f(x+h) - f(x)} / h을 수치적으로 계산한다.\n",
        "    \n",
        "    \n",
        "    f      : 미분할 함수로 주어진 위치에서 함수값 계산을 위해 사용\n",
        "    x      : 미분계수를 구할 변수의 위치로 \n",
        "             일변수인 경우 int 또는 float \n",
        "             다변수인 경우 넘파이 어레이 (d,) 벡터\n",
        "    h      : 비율을 구할 작은 구간\n",
        "    \"\"\"\n",
        "    if type(x) in (float, int) :    # ---- [1]\n",
        "        grad = [0.0]\n",
        "        x_ = [x]\n",
        "        var_type = 'scalar'\n",
        "    else :\n",
        "        grad = np.zeros(x.shape)    # ---- [2]\n",
        "        x_ = x.copy().astype('float32') \n",
        "        var_type = 'vector'\n",
        "    \n",
        "    for i, xi in enumerate(x_) :    # ---- [3]\n",
        "        original_value = x_[i]\n",
        "        \n",
        "        if method=='forward' :    # ---- [4]\n",
        "            x_[i] = original_value + h\n",
        "        else :\n",
        "            x_[i] = original_value + (h/2)\n",
        "        \n",
        "        if var_type == 'scalar' :    # ---- [5]   \n",
        "            gradplus = f(x_[i])\n",
        "        else :\n",
        "            gradplus = f(x_)\n",
        "        \n",
        "        if method=='forward' :    # ---- [6]   \n",
        "            x_[i] = original_value\n",
        "        else:\n",
        "            x_[i] = original_value - (h/2)\n",
        "        \n",
        "        if var_type == 'scalar' :\n",
        "            gradminus = f(x_[i])\n",
        "        else :\n",
        "            gradminus = f(x_)\n",
        "        \n",
        "        grad[i] = (gradplus - gradminus) / h    # ---- [7]\n",
        "    \n",
        "    if var_type == 'scalar' :    # ---- [8]\n",
        "        return grad[0]\n",
        "    else :\n",
        "        return grad"
      ],
      "execution_count": null,
      "outputs": []
    },
    {
      "cell_type": "code",
      "metadata": {
        "id": "aPAeWMLDD4pi",
        "outputId": "2ab30ed1-9ffc-4c4f-ceab-0aa4239e6ae7",
        "colab": {
          "base_uri": "https://localhost:8080/",
          "height": 51
        }
      },
      "source": [
        "print(numer_deriv(f, 1, h=0.5, method=\"forward\"))\n",
        "print(numer_deriv(f, 1, h=0.5, method=\"center\"))"
      ],
      "execution_count": null,
      "outputs": [
        {
          "output_type": "stream",
          "text": [
            "4.257383635135726\n",
            "2.9997299032915508\n"
          ],
          "name": "stdout"
        }
      ]
    },
    {
      "cell_type": "markdown",
      "metadata": {
        "id": "h5dj4tN6EFfT"
      },
      "source": [
        "## 그림 6-1"
      ]
    },
    {
      "cell_type": "code",
      "metadata": {
        "id": "pgrQR2n3D6DJ",
        "outputId": "34f3bf54-1cee-4a14-bf60-029b4528e824",
        "colab": {
          "base_uri": "https://localhost:8080/",
          "height": 476
        }
      },
      "source": [
        "f  = lambda x : (x**2 + 2*x)*np.log(x)\n",
        "df = lambda x : (2*x+2)*np.log(x) + (x+2)\n",
        "\n",
        "fig, (ax1, ax2) = plt.subplots(1, 2, sharex=True, sharey=True)\n",
        "fig.set_size_inches((15,7))\n",
        "\n",
        "ax1.xaxis.set_tick_params(labelsize=18)\n",
        "ax1.yaxis.set_tick_params(labelsize=18)\n",
        "ax1.set_xlabel(r'$x$', fontsize=25)\n",
        "ax1.set_ylabel(r'$y$', fontsize=25)\n",
        "ax1.grid(False)\n",
        "\n",
        "ax2.xaxis.set_tick_params(labelsize=18)\n",
        "ax2.yaxis.set_tick_params(labelsize=18)\n",
        "ax2.set_xlabel(r'$x$', fontsize=25)\n",
        "ax2.set_ylabel(r'$y$', fontsize=25)\n",
        "ax2.grid(False)\n",
        "\n",
        "x = np.linspace(0.6, 1.7, 100)\n",
        "x0 = 1.0\n",
        "h = 0.5\n",
        "\n",
        "ax1.plot(x, f(x), color='k', lw=1)\n",
        "ax1.set_title(\"전방 차분\", fontproperties=fontprop)\n",
        "ax1.plot(x0, f(x0), 'o', markersize=8, color='k', zorder=3)\n",
        "ax1.plot([x0-h, x0+h], [f(x0)-df(x0)*h, f(x0)+df(x0)*h], '--', lw=1, color='k')\n",
        "ax1.plot([x0, x0+h], [f(x0), f(x0+h)], lw=2, color='k')\n",
        "ax1.set_xlabel(r'$x$', fontsize=20)\n",
        "ax1.set_ylabel(r'$y$', fontsize=20)\n",
        "\n",
        "ax2.plot(x, f(x), color='k', lw=1)\n",
        "ax2.set_title(\"중앙 차분\", fontproperties=fontprop)\n",
        "ax2.plot(x0, f(x0), 'o', markersize=8, color='k', zorder=3)\n",
        "ax2.plot([x0-h, x0+h], [f(x0)-df(x0)*h, f(x0)+df(x0)*h], '--', lw=1, color='k')\n",
        "ax2.plot([x0-h/2, x0+h/2], [f(x0-h/2), f(x0+h/2)], lw=2, color='k')\n",
        "ax2.set_xlabel(r'$x$', fontsize=20)\n",
        "ax2.set_ylabel(r'$y$', fontsize=20)  \n",
        "\n",
        "if file_print == True :\n",
        "    fig.savefig(\"imgs/chap6/fig6-1.png\", dpi=300, bbox_inches='tight')\n",
        "    fig.savefig(\"imgs/chap6/fig6-1.pdf\", format='pdf', bbox_inches='tight')\n",
        "\n",
        "plt.show()"
      ],
      "execution_count": null,
      "outputs": [
        {
          "output_type": "display_data",
          "data": {
            "image/png": "[encoded data removed]",
            "text/plain": [
              "<Figure size 1080x504 with 2 Axes>"
            ]
          },
          "metadata": {
            "tags": []
          }
        }
      ]
    },
    {
      "cell_type": "markdown",
      "metadata": {
        "id": "4197AXCiEJbK"
      },
      "source": [
        "## 식(6.5) 미분"
      ]
    },
    {
      "cell_type": "markdown",
      "metadata": {
        "id": "HeeuKDaoELDo"
      },
      "source": [
        "$$\n",
        "f(x,y)=(x^2+2x)\\ln{y}\n",
        "$$"
      ]
    },
    {
      "cell_type": "code",
      "metadata": {
        "id": "Gsmq19EAEHGh",
        "outputId": "37288976-7e83-4916-c33b-a7a61e2c4f7f",
        "colab": {
          "base_uri": "https://localhost:8080/",
          "height": 34
        }
      },
      "source": [
        "f_xy  = lambda x : (x[0]**2 + 2*x[0])*np.log(x[1])\n",
        "numer_deriv(f_xy, np.array([1, 2]))"
      ],
      "execution_count": null,
      "outputs": [
        {
          "output_type": "execute_result",
          "data": {
            "text/plain": [
              "array([2.7726, 1.4989])"
            ]
          },
          "metadata": {
            "tags": []
          },
          "execution_count": 13
        }
      ]
    },
    {
      "cell_type": "code",
      "metadata": {
        "id": "cmvlKfK0EMip",
        "outputId": "65140f03-c52a-4454-edf3-9515744ca954",
        "colab": {
          "base_uri": "https://localhost:8080/",
          "height": 85
        }
      },
      "source": [
        "x = sympy.Symbol('x') \n",
        "y = sympy.Symbol('y') \n",
        "f_xy_sympy = (x**2 + 2*x)*sympy.log(y) \n",
        "df_xy_x = sympy.diff(f_xy_sympy, x) \n",
        "df_xy_y = sympy.diff(f_xy_sympy, y)\n",
        "\n",
        "print(df_xy_x)\n",
        "print(df_xy_y)\n",
        "\n",
        "print(\"{:.4f}\".format(df_xy_x.evalf(subs={x:1.0, y:2.0})))\n",
        "print(\"{:.4f}\".format(df_xy_y.evalf(subs={x:1.0, y:2.0})))"
      ],
      "execution_count": null,
      "outputs": [
        {
          "output_type": "stream",
          "text": [
            "(2*x + 2)*log(y)\n",
            "(x**2 + 2*x)/y\n",
            "2.7726\n",
            "1.5000\n"
          ],
          "name": "stdout"
        }
      ]
    },
    {
      "cell_type": "markdown",
      "metadata": {
        "id": "30SlAS7GEPdq"
      },
      "source": [
        "## 자동미분"
      ]
    },
    {
      "cell_type": "markdown",
      "metadata": {
        "id": "q2GYDd9pEQz4"
      },
      "source": [
        "### 파이토치"
      ]
    },
    {
      "cell_type": "code",
      "metadata": {
        "id": "2ZSOk3NlENo5"
      },
      "source": [
        "import torch # 파이토치 불러오기"
      ],
      "execution_count": null,
      "outputs": []
    },
    {
      "cell_type": "markdown",
      "metadata": {
        "id": "JUqlV4vzEUhx"
      },
      "source": [
        "#### 텐서"
      ]
    },
    {
      "cell_type": "code",
      "metadata": {
        "id": "D7ikG4wFETEx",
        "outputId": "8ffdf714-9dc0-4614-9634-d1708d40bf28",
        "colab": {
          "base_uri": "https://localhost:8080/",
          "height": 187
        }
      },
      "source": [
        "np.random.seed(0) # 랜덤 어레이 생성에서 늘 같은 결과가 나오게 하기 위해\n",
        "\n",
        "x = np.random.rand(6).reshape(2,3)\n",
        "\n",
        "x_tensor = torch.tensor(x)\n",
        "x_from_numpy = torch.from_numpy(x)\n",
        "x_Tensor = torch.Tensor(x)\n",
        "x_as_tensor = torch.as_tensor(x)\n",
        "\n",
        "print(x, x.dtype)\n",
        "print(x_tensor, x_tensor.dtype, x_tensor.requires_grad)\n",
        "print(x_from_numpy, x_from_numpy.dtype, x_from_numpy.requires_grad)\n",
        "print(x_Tensor, x_Tensor.dtype, x_Tensor.requires_grad)\n",
        "print(x_as_tensor, x_as_tensor.dtype, x_as_tensor.requires_grad)"
      ],
      "execution_count": null,
      "outputs": [
        {
          "output_type": "stream",
          "text": [
            "[[0.5488 0.7152 0.6028]\n",
            " [0.5449 0.4237 0.6459]] float64\n",
            "tensor([[0.5488, 0.7152, 0.6028],\n",
            "        [0.5449, 0.4237, 0.6459]], dtype=torch.float64) torch.float64 False\n",
            "tensor([[0.5488, 0.7152, 0.6028],\n",
            "        [0.5449, 0.4237, 0.6459]], dtype=torch.float64) torch.float64 False\n",
            "tensor([[0.5488, 0.7152, 0.6028],\n",
            "        [0.5449, 0.4237, 0.6459]]) torch.float32 False\n",
            "tensor([[0.5488, 0.7152, 0.6028],\n",
            "        [0.5449, 0.4237, 0.6459]], dtype=torch.float64) torch.float64 False\n"
          ],
          "name": "stdout"
        }
      ]
    },
    {
      "cell_type": "code",
      "metadata": {
        "id": "91NHIxa1EWUy",
        "outputId": "4bd8cdf1-ba22-4659-bb65-a595f5d9120f",
        "colab": {
          "base_uri": "https://localhost:8080/",
          "height": 187
        }
      },
      "source": [
        "x[0,0] = 100\n",
        "\n",
        "print(x, x.dtype)\n",
        "print(x_tensor, x_tensor.dtype, x_tensor.requires_grad)\n",
        "print(x_from_numpy, x_from_numpy.dtype, x_from_numpy.requires_grad)\n",
        "print(x_Tensor, x_Tensor.dtype, x_Tensor.requires_grad)\n",
        "print(x_as_tensor, x_as_tensor.dtype, x_as_tensor.requires_grad)"
      ],
      "execution_count": null,
      "outputs": [
        {
          "output_type": "stream",
          "text": [
            "[[100.       0.7152   0.6028]\n",
            " [  0.5449   0.4237   0.6459]] float64\n",
            "tensor([[0.5488, 0.7152, 0.6028],\n",
            "        [0.5449, 0.4237, 0.6459]], dtype=torch.float64) torch.float64 False\n",
            "tensor([[100.0000,   0.7152,   0.6028],\n",
            "        [  0.5449,   0.4237,   0.6459]], dtype=torch.float64) torch.float64 False\n",
            "tensor([[0.5488, 0.7152, 0.6028],\n",
            "        [0.5449, 0.4237, 0.6459]]) torch.float32 False\n",
            "tensor([[100.0000,   0.7152,   0.6028],\n",
            "        [  0.5449,   0.4237,   0.6459]], dtype=torch.float64) torch.float64 False\n"
          ],
          "name": "stdout"
        }
      ]
    },
    {
      "cell_type": "code",
      "metadata": {
        "id": "xNih4ckREY5J",
        "outputId": "80f219e9-9d85-4271-cf0f-eeae7c15a757",
        "colab": {
          "base_uri": "https://localhost:8080/",
          "height": 68
        }
      },
      "source": [
        "x_tensor_grad = torch.tensor(x, requires_grad=True)\n",
        "\n",
        "print(x_tensor_grad, x_tensor_grad.dtype, x_tensor_grad.requires_grad)"
      ],
      "execution_count": null,
      "outputs": [
        {
          "output_type": "stream",
          "text": [
            "tensor([[100.0000,   0.7152,   0.6028],\n",
            "        [  0.5449,   0.4237,   0.6459]], dtype=torch.float64,\n",
            "       requires_grad=True) torch.float64 True\n"
          ],
          "name": "stdout"
        }
      ]
    },
    {
      "cell_type": "code",
      "metadata": {
        "id": "kYrZ2w6_EbZZ",
        "outputId": "8dfbbefa-94a4-458d-9bf0-fbe552e0f349",
        "colab": {
          "base_uri": "https://localhost:8080/",
          "height": 102
        }
      },
      "source": [
        "x = torch.tensor([1.0], requires_grad=True)\n",
        "f = (x**2 + 2*x) * torch.log(x)\n",
        "\n",
        "print(x)\n",
        "print(f)\n",
        "print(x.grad)\n",
        "\n",
        "print(x.grad_fn)\n",
        "print(f.grad_fn)"
      ],
      "execution_count": null,
      "outputs": [
        {
          "output_type": "stream",
          "text": [
            "tensor([1.], requires_grad=True)\n",
            "tensor([0.], grad_fn=<MulBackward0>)\n",
            "None\n",
            "None\n",
            "<MulBackward0 object at 0x7f4e04f1b438>\n"
          ],
          "name": "stdout"
        }
      ]
    },
    {
      "cell_type": "code",
      "metadata": {
        "id": "eg_cODnqEc35",
        "outputId": "d53cae98-641e-42c9-b166-e028f0f8da26",
        "colab": {
          "base_uri": "https://localhost:8080/",
          "height": 34
        }
      },
      "source": [
        "# x가 마지막 노드인가? \n",
        "# backward()함수는 마지막 노드까지 역전파하면서 미분계수를 구한다.\n",
        "print(x.is_leaf)"
      ],
      "execution_count": null,
      "outputs": [
        {
          "output_type": "stream",
          "text": [
            "True\n"
          ],
          "name": "stdout"
        }
      ]
    },
    {
      "cell_type": "markdown",
      "metadata": {
        "id": "DgreCD1TEf53"
      },
      "source": [
        "#### torch.autograd.backward"
      ]
    },
    {
      "cell_type": "code",
      "metadata": {
        "id": "dnwWrxdWEeeK",
        "outputId": "3bbff116-e21a-45fd-ce18-830b75e6d937",
        "colab": {
          "base_uri": "https://localhost:8080/",
          "height": 34
        }
      },
      "source": [
        "torch.autograd.backward(f, grad_tensors=torch.tensor([1.]), retain_graph=True)\n",
        "print(x.grad)"
      ],
      "execution_count": null,
      "outputs": [
        {
          "output_type": "stream",
          "text": [
            "tensor([3.])\n"
          ],
          "name": "stdout"
        }
      ]
    },
    {
      "cell_type": "markdown",
      "metadata": {
        "id": "Z2t-HmWtEh62"
      },
      "source": [
        "#### torch.autograd.grad"
      ]
    },
    {
      "cell_type": "code",
      "metadata": {
        "id": "VoVNrbUIEhRS",
        "outputId": "4572970c-b8b8-402c-fb7b-c259aa4000e7",
        "colab": {
          "base_uri": "https://localhost:8080/",
          "height": 34
        }
      },
      "source": [
        "df = torch.autograd.grad(f, x, retain_graph=True)\n",
        "print(df)"
      ],
      "execution_count": null,
      "outputs": [
        {
          "output_type": "stream",
          "text": [
            "(tensor([3.]),)\n"
          ],
          "name": "stdout"
        }
      ]
    },
    {
      "cell_type": "code",
      "metadata": {
        "id": "Z1ogR_B-Ej6q",
        "outputId": "1e2e52b6-4520-45d0-a76a-bda634e9751a",
        "colab": {
          "base_uri": "https://localhost:8080/",
          "height": 34
        }
      },
      "source": [
        "print(x.grad)"
      ],
      "execution_count": null,
      "outputs": [
        {
          "output_type": "stream",
          "text": [
            "tensor([3.])\n"
          ],
          "name": "stdout"
        }
      ]
    },
    {
      "cell_type": "markdown",
      "metadata": {
        "id": "JMFIZiX_Emih"
      },
      "source": [
        "#### 식(6.5) 파이토치로 미분"
      ]
    },
    {
      "cell_type": "code",
      "metadata": {
        "id": "WRhbvhvmElK6",
        "outputId": "df681077-792e-4c58-efc2-522889caceec",
        "colab": {
          "base_uri": "https://localhost:8080/",
          "height": 68
        }
      },
      "source": [
        "x = torch.tensor([1.0], requires_grad=True)\n",
        "y = torch.tensor([2.0], requires_grad=True)\n",
        "f_xy = (x**2 + 2*x) * torch.log(y)\n",
        "\n",
        "torch.autograd.backward(f_xy, retain_graph=True)\n",
        "print(x.grad)\n",
        "print(y.grad)\n",
        "\n",
        "df = torch.autograd.grad(f_xy, (x,y), retain_graph=True)\n",
        "print(df)"
      ],
      "execution_count": null,
      "outputs": [
        {
          "output_type": "stream",
          "text": [
            "tensor([2.7726])\n",
            "tensor([1.5000])\n",
            "(tensor([2.7726]), tensor([1.5000]))\n"
          ],
          "name": "stdout"
        }
      ]
    },
    {
      "cell_type": "markdown",
      "metadata": {
        "id": "YmHjLmheEqw_"
      },
      "source": [
        "### 자동미분 구현"
      ]
    },
    {
      "cell_type": "code",
      "metadata": {
        "id": "bQkAfEqhEpVM",
        "outputId": "0f81d3bb-b3da-411f-b864-27388a2e7a9d",
        "colab": {
          "base_uri": "https://localhost:8080/",
          "height": 34
        }
      },
      "source": [
        "def times(x, y):\n",
        "    return x*y, (x,y)\n",
        "\n",
        "def times_deriv(cache, dout=1):\n",
        "    return cache[1]*dout, cache[0]*dout\n",
        "\n",
        "TIMES = {'f': times, 'df': times_deriv}\n",
        "\n",
        "v, cache = TIMES['f'](2,3)\n",
        "dx, dy = TIMES['df'](cache)\n",
        "\n",
        "print(\"dx={}, dy={}\".format(dx, dy))"
      ],
      "execution_count": null,
      "outputs": [
        {
          "output_type": "stream",
          "text": [
            "dx=3, dy=2\n"
          ],
          "name": "stdout"
        }
      ]
    },
    {
      "cell_type": "code",
      "metadata": {
        "id": "kTaCy5sHEr7x"
      },
      "source": [
        "def add(x, y):\n",
        "    return x+y, (x,y)\n",
        "\n",
        "def add_deriv(cache, dout=1):\n",
        "    return dout, dout\n",
        "\n",
        "ADD = {'f': add, 'df': add_deriv}\n",
        "\n",
        "def log(x):\n",
        "    return np.log(x), x\n",
        "\n",
        "def log_deriv(cache, dout=1):\n",
        "    return (1/cache)*dout\n",
        "\n",
        "LOG = {'f': log, 'df': log_deriv}"
      ],
      "execution_count": null,
      "outputs": []
    },
    {
      "cell_type": "code",
      "metadata": {
        "id": "R3rCytUEEtBB",
        "outputId": "3b859fe9-76d9-4d41-d0e3-5dbe5a673be5",
        "colab": {
          "base_uri": "https://localhost:8080/",
          "height": 51
        }
      },
      "source": [
        "x = 1.; y = 2.\n",
        "\n",
        "a, cache_a = TIMES['f'](x, x)\n",
        "b, cache_b = TIMES['f'](2, x)\n",
        "c, cache_c = ADD['f'](a, b)\n",
        "d, cache_d = LOG['f'](y)\n",
        "z, cache_z = TIMES['f'](c, d)\n",
        "\n",
        "print(\"forward pass f(x) = {:.6f}\".format(z))\n",
        "\n",
        "dx = dy = 0.\n",
        "dc, dd = TIMES['df'](cache_z, 1)\n",
        "dy = LOG['df'](cache_d, dd)\n",
        "da, db = ADD['df'](cache_c, dc)\n",
        "_, dx_ = TIMES['df'](cache_b, db); dx+=dx_;\n",
        "dx_, dx__ = TIMES['df'](cache_a, da); dx+=dx_+dx__;\n",
        "\n",
        "\n",
        "print(\"backward pass dx = {:.6f}, dy = {:.6f}\".format(dx, dy))\n"
      ],
      "execution_count": null,
      "outputs": [
        {
          "output_type": "stream",
          "text": [
            "forward pass f(x) = 2.079442\n",
            "backward pass dx = 2.772589, dy = 1.500000\n"
          ],
          "name": "stdout"
        }
      ]
    },
    {
      "cell_type": "markdown",
      "metadata": {
        "id": "iLH-HhAQEwBe"
      },
      "source": [
        "- 수치 미분으로 위 자동 미분 결과를 확인"
      ]
    },
    {
      "cell_type": "code",
      "metadata": {
        "id": "pqM1P84mEuXK",
        "outputId": "a57d5dfa-30d1-4cd5-f39b-47485c9f2fdc",
        "colab": {
          "base_uri": "https://localhost:8080/",
          "height": 34
        }
      },
      "source": [
        "def f_xy(x):\n",
        "    return (x[0]*x[0] + 2*x[0])*np.log(x[1])\n",
        "\n",
        "numer_deriv(f_xy, np.array([1, 2]), method=\"center\")"
      ],
      "execution_count": null,
      "outputs": [
        {
          "output_type": "execute_result",
          "data": {
            "text/plain": [
              "array([2.7726, 1.4989])"
            ]
          },
          "metadata": {
            "tags": []
          },
          "execution_count": 28
        }
      ]
    },
    {
      "cell_type": "markdown",
      "metadata": {
        "id": "cB8ghfkUEyeU"
      },
      "source": [
        "- 파이토치로 상류층 미분계수를 2로 주고 미분한 경우"
      ]
    },
    {
      "cell_type": "code",
      "metadata": {
        "id": "8zlq3MgOExLK",
        "outputId": "a9b8094e-7ee0-4d32-a46d-70f50aba84bc",
        "colab": {
          "base_uri": "https://localhost:8080/",
          "height": 34
        }
      },
      "source": [
        "x = torch.tensor([1.], requires_grad=True)\n",
        "y = torch.tensor([2.], requires_grad=True)\n",
        "\n",
        "z = (x**2 + 2*x)*torch.log(y)\n",
        "\n",
        "dz = torch.autograd.grad(z, (x,y), grad_outputs=torch.tensor([2.]), retain_graph=True)\n",
        "print(dz)"
      ],
      "execution_count": null,
      "outputs": [
        {
          "output_type": "stream",
          "text": [
            "(tensor([5.5452]), tensor([3.]))\n"
          ],
          "name": "stdout"
        }
      ]
    },
    {
      "cell_type": "code",
      "metadata": {
        "id": "EopeCdlYEztr"
      },
      "source": [
        ""
      ],
      "execution_count": null,
      "outputs": []
    }
  ]
}