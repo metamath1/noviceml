{
 "cells": [
  {
   "cell_type": "markdown",
   "metadata": {},
   "source": [
    "# 지수법칙\n"
   ]
  },
  {
   "cell_type": "markdown",
   "metadata": {},
   "source": [
    "지면 관계로 책에 다 싣지 못한 다음 지수법칙을 차근차근 설명합니다. 먼저 다음 나오는 지수법칙 1에서 5번은 다음 조건에서 성립합니다.\n",
    "\n",
    " > ## “$a$, $b$가 실수이고 지수 $m$, $n$이 양의 정수일 때”\n"
   ]
  },
  {
   "cell_type": "markdown",
   "metadata": {},
   "source": [
    "### 1. $a^m a^n= a^{m+n}$\n",
    "\n",
    "1번은 $a$가 $m$번 곱해져 있는 상태에 $a$가  $n$번 더 곱해져서 결국은 $a$가 $m+n$번 곱해진 것과 같다는 것을 의미합니다. \n",
    "\n",
    "\n",
    "$$\n",
    "\\underbrace{a \\times a \\times \\cdots \\times a}_{m} \\times \\underbrace{a \\times a \\times \\cdots \\times a}_{n}\n",
    "=\\underbrace{a \\times a \\times \\cdots \\times a}_{m+n} \n",
    "$$\n",
    "\n",
    "<hr/>"
   ]
  },
  {
   "cell_type": "markdown",
   "metadata": {},
   "source": [
    "### 2. $(a^m)^n = a^{mn}$\n",
    "\n",
    "2번도 비슷하게 $a$가 $m$번 곱해진 것 전체가 $n$번 곱해져 있으니 $a$는 모두 $mn$번 곱해진 것과 같음을 의미합니다.\n",
    "\n",
    "$$\n",
    "\\underbrace{\\underbrace{a \\times a \\times \\cdots \\times a}_{m} \\times \\cdots \\times \\underbrace{a \\times a \\times \\cdots \\times a}_{m}}_{n}=\\underbrace{a \\times a \\times \\cdots \\times a}_{mn}\n",
    "$$\n",
    "\n",
    "<hr/>\n"
   ]
  },
  {
   "cell_type": "markdown",
   "metadata": {},
   "source": [
    "### 3. $(ab)^m = a^m b^m $\n",
    "\n",
    "3번은 $a$와 $b$가 곱해진 $ab$가 $m$번 곱해진 것에 대한 식입니다. 곱셈에서 $a$, $b$ 위치를 바꿔도 결과는 동일하므로 \n",
    "$a$끼리 $b$끼리 모으면 결국 $a$가 $m$번 $b$가 $m$번 곱해진 것과 동일합니다. \n",
    "\n",
    "$$\n",
    "\\underbrace{ab \\times ab \\times \\cdots \\times ab}_{m}=\\underbrace{a\\times a \\times \\cdots \\times a}_{m}\n",
    "\\times \\underbrace{b\\times b \\times \\cdots \\times b}_{m}\n",
    "$$\n",
    "\n",
    "<hr/>"
   ]
  },
  {
   "cell_type": "markdown",
   "metadata": {},
   "source": [
    "### 4. $\\left( \\dfrac{a}{b} \\right)^n = \\dfrac{a^n}{b^n} \\quad (b \\ne 0)$\n",
    "\n",
    "4번은 분수의 곱은 분자 분모 끼리 곱하는 것이므로 쉽게 성립함을 알 수 있습니다. \n",
    "\n",
    "$$\n",
    "\\left( \\frac{a}{b} \\right) = \\underbrace{\\frac{a}{b} \\times \\frac{a}{b} \\times \\cdots \\times \\frac{a}{b}}_{n} = \\frac{a^n}{b^n}\n",
    "$$\n",
    "\n",
    "단 이 때 0으로 나눌 수 없으므로 $b \\ne 0$이란 조건이 필요합니다.\n",
    "\n",
    "<hr/>"
   ]
  },
  {
   "cell_type": "markdown",
   "metadata": {},
   "source": [
    "### 5. $a^m \\div a^n=a^{m-n} \\quad (m>n)$\n",
    "\n",
    "5번 식은 분수의 약분으로 이해할 수 있습니다. \n",
    "\n",
    "$$\n",
    "a^m \\div a^n = \\frac{\\overbrace{a \\times \\cdots \\times a \\times a \\times \\cdots  \\times a}^{m}}{\\underbrace{a \\times \\cdots \\times a}_{n}} = \\underbrace{a \\times \\cdots \\times a}_{m-n}\n",
    "$$\n",
    "\n",
    "<hr/>"
   ]
  },
  {
   "cell_type": "markdown",
   "metadata": {},
   "source": [
    "### 6. $a^0 = 1$\n",
    "\n",
    "지수가 0이라는 것이 어떤 의미인지 거듭제곱으로는 납득하기 힘든 부분이 있습니다. \n",
    "여기서는 이전 지수법칙을 이용하여 지수를 확장하고 있는 것입니다. \n",
    "다르게 말하면 기존 지수법칙과 모순없이 $a^0$을 어떻게 정의할 수 있겠느냐를 생각합니다. \n",
    "1은 분자, 분모가 같은 분수로 생각할 수 있습니다. 그래서 5번 지수법칙을 이용하여 다음처럼 정의할 수 있습니다.\n",
    "\n",
    "$$\n",
    "1 = \\frac{a^m}{a^m}=a^{m-m} = a^0\n",
    "$$\n",
    "\n",
    "이 정의는 1번 지수법칙과도 모순되지 않습니다. $a^m a^n = a^{m+n}$에서 $m=0$이라면\n",
    "\n",
    "$$\n",
    "a^0 a^n = a^{0+n} = a^n\n",
    "$$\n",
    "\n",
    "\n",
    "위 식의 결과 $a^0 = 1$을 얻을 수 있습니다.\n",
    "\n",
    "이렇게 $a^0$도 성공적으로 정의했습니다. \n",
    "\n",
    "<hr/>"
   ]
  },
  {
   "cell_type": "markdown",
   "metadata": {},
   "source": [
    "### 7. $n$이 양의 정수일 때 $a^{-n} = \\dfrac{1}{a^n}$\n",
    "\n",
    "지수가 음수라는 것도 거듭제곱으로는 이해하기 힘듭니다. \n",
    "6번과 마찬가지로 기존 지수법칙과 모순되지 않게 $a^{-n}$을 정의해봅시다. $a^m a^n = a^{m+n}$에서 $m=-n$이라면 \n",
    "\n",
    "$$\n",
    "a^{m+n} = a^{-n}a^n = a^0 = 1\n",
    "$$\n",
    "\n",
    "1번, 6번 지수법칙이 이용되었습니다. \n",
    "결과가 1이므로 $a^{-n}$은 의 $a^{n}$역수로 정의할 수 있습니다. \n",
    "\n",
    "그런데 $0^0$은 정의되지 않기 때문에 6번 법칙에서 밑이 0이 될 수 없습니다.  7번에서도 밑 $a$가 0이되면 분모가 0이 되기 때문에 0이 되어서는 안됩니다. \n",
    "\n",
    "6, 7번 과정을 통해 지수에 0과 음의 정수를 추가하여 이제는 지수가 정수 범위로 확장 되었습니다. \n",
    "따라서 1번에서 7번까지 법칙은 다음 조건일 때 성립합니다. 5번에서 $m>n$ 조건도 필요없어 졌습니다.\n"
   ]
  },
  {
   "cell_type": "markdown",
   "metadata": {},
   "source": [
    " > ## “$a \\ne 0$, $b \\ne 0$이고 지수 $m$, $n$이 정수일 때”\n",
    " \n",
    " <hr/>"
   ]
  },
  {
   "cell_type": "markdown",
   "metadata": {},
   "source": [
    "### 8. $a^{\\frac{m}{n}} = \\sqrt[n]{a^m} $\n",
    "\n",
    "조금 전 우리는 지수를 정수까지 확장했습니다. 위 식에서 $m$, $n$이 정수라면 $m/n$은 유리수가 될 것입니다. 이제 좌변을 거듭제곱하고 2번 법칙을 적용해봅시다.\n",
    "\n",
    "\n",
    "$$\n",
    "\\left(a^{\\frac{m}{n}}\\right)^{n} = a^{\\frac{m}{n} \\cdot n} = a^m\n",
    "$$\n",
    "\n",
    "위 식은 $a^{\\frac{m}{n}}$이라는 수는 $n$번 거듭제곱하였더니 $a^m$이 되는 수라는 것을 이야기하고 있습니다. 따라서 $a^{\\frac{m}{n}}$은 $a^m$의 제곱근이 되어  $\\sqrt[n]{a^m}$으로 정의할 수 있습니다. 특히 $m=1$이면 \n",
    "\n",
    "$$\n",
    "a^{\\frac{1}{n}} =  \\sqrt[n]{a^1} =  \\sqrt[n]{a}\n",
    "$$\n",
    "이 됨을 알 수 있습니다.\n"
   ]
  },
  {
   "cell_type": "markdown",
   "metadata": {},
   "source": [
    " 우리는 지금까지 지수를 양의 정수, 0, 음의 정수로 확장하면서 그에 따른 조건을 변형시켜 왔습니다.\n",
    " \n",
    " **“밑 $a$, $b$가 실수이고 지수 $m$, $n$이 양의 정수일 때”**에서 \n",
    " **“밑 $a \\ne 0$, $b \\ne 0$이고, 지수  $m$, $n$이 정수인 경우”**로 조건을 바꿨습니다. \n",
    " \n",
    " 지수 $m$, $n$이 유리수 일 경우 밑 조건은 더 강력해져서 $a>0$, $b>0$가 됩니다. 지수가 유리수인 경우 밑이 음수가 되면  지수법칙을 적용하기 애매한 경우가 생기기 때문입니다. 구체적인 예를 책에서 설명한 바와 같습니다.\n",
    " \n",
    "1에서 8번까지 지수법칙은 다음 조건에서 성립합니다."
   ]
  },
  {
   "cell_type": "markdown",
   "metadata": {},
   "source": [
    " > ## “$a > 0$, $b > 0$이고 지수 $m$, $n$이 유리수일 때”"
   ]
  },
  {
   "cell_type": "markdown",
   "metadata": {},
   "source": [
    "이제 지수가 무리수가 되면 $2^{\\sqrt{2}}$같은 수를 생각해볼 수 있습니다. $2^{\\sqrt{2}}$이라는 값을 계산하기 위해 우선 $\\sqrt{2}$를 노트에 적어본다고 생각해봅시다. \n",
    "\n",
    "$\\sqrt{2}$라는 수를 정확하게 노트에 적을 수 없으므로 1.4, 1.41, 1.414, 1.4142, 1.41421, 1.414213, … 과 같이 적어 나갈텐데 이 수들은 모두 점점 $\\sqrt{2}$에 가까이 가는 유리수들입니다. \n",
    "\n",
    "유리수에 대해서 거듭제곱 값이 정의됨을 이미 알고 있으므로 $2^{1.4}$, $2^{1.41}$, $2^{1.414}$, $2^{1.4142}$, $2^{1.41421}$, $2^{1.414213}$와 같은 값을 모두 계산할 수 있습니다. \n",
    "\n",
    "계산 결과는 다음 표처럼 어떤 일정한 수에 수렴하게 되는데 그 수렴값을  로 정의합니다. \n"
   ]
  },
  {
   "cell_type": "markdown",
   "metadata": {},
   "source": [
    "| 지수     | 거듭제곱       | 결과  |\n",
    "|----------|---------------|-------|\n",
    "| 1.4      | $2^{1.4}$   | 2.639015821545788... |\n",
    "| 1.41 | $2^{1.41}$      | 2.65737162819302...   |\n",
    "| 1.414 | $2^{1.414}$ | 2.664749650184043...    |\n",
    "| 1.4142 | $2^{1.4142}$ | 2.665119088532351...    |\n",
    "| 1.41421 | $2^{1.41421}$ | 2.665137561794195...    |\n",
    "| 1.414213 | $2^{1.414213}$ | 2.66514310379771...    |\n",
    "| 1.4142135 | $2^{1.4142135}$ | 2.665144027466092...    |\n",
    "| 1.41421356 | $2^{1.41421356}$ | 2.665144138306318...    |\n",
    "| 1.414213562 | $2^{1.414213562}$ |2.66514414200099...    |\n",
    "| ... | ... |...    |\n",
    "| $\\sqrt{2}$ | $2^{1.414213562373...}$ | $2^{\\sqrt{2}}$    |\n",
    "\n",
    "아래는 이에 대한 간단한 파이썬 실험코드입니다."
   ]
  },
  {
   "cell_type": "code",
   "execution_count": 10,
   "metadata": {},
   "outputs": [
    {
     "data": {
      "image/png": "[encoded data removed]",
      "text/plain": [
       "<Figure size 432x288 with 1 Axes>"
      ]
     },
     "metadata": {
      "needs_background": "light"
     },
     "output_type": "display_data"
    }
   ],
   "source": [
    "import numpy as np\n",
    "import matplotlib.pyplot as plt\n",
    "\n",
    "root2 = np.sqrt(2)\n",
    "\n",
    "r = [np.floor(root2 * 10**n) / 10**n for n in range(1,7) ]\n",
    "\n",
    "plt.plot([2**np.sqrt(2)]*len(r),  '--', lw=2, alpha=0.6, label=r\"$2^\\sqrt{2}$\")\n",
    "plt.plot(list(map(lambda x : 2**x, r)), 'o-')\n",
    "plt.xticks( range(0,6) ,  r )\n",
    "plt.xlabel('exponent')\n",
    "plt.ylabel('2^expoent')\n",
    "plt.legend(fontsize=15)\n",
    "plt.show()"
   ]
  },
  {
   "cell_type": "markdown",
   "metadata": {},
   "source": [
    "1에서 8번까지 지수법칙은 다음 조건에서 성립합니다."
   ]
  },
  {
   "cell_type": "markdown",
   "metadata": {},
   "source": [
    " > ## “$a > 0$, $b > 0$이고 지수 $m$, $n$이 실수일 때”"
   ]
  },
  {
   "cell_type": "markdown",
   "metadata": {},
   "source": [
    "# 로그의 성질"
   ]
  },
  {
   "cell_type": "markdown",
   "metadata": {},
   "source": [
    "### 1. $\\log_{a} 1 = 0$, $\\log_{a}a=1$"
   ]
  },
  {
   "cell_type": "markdown",
   "metadata": {},
   "source": [
    "이 성질은 로그의 정의로 부터 바로 알 수 있습니다. $a^0 = 1$이고 $a^1 = a$이기 때문입니다.\n",
    "\n",
    "<hr/>"
   ]
  },
  {
   "cell_type": "markdown",
   "metadata": {},
   "source": [
    "### 2. $\\log_{a} MN = \\log_{a} M + \\log_{a} N$\n",
    "\n",
    "로그는 곱셈을 덧셈으로 바꾸는 성질이 있습니다. 위 등식이 성립함은 로그의 정의를 이용해서 보일 수 있습니다. 로그의 정의에 의해 $MN$, $M$, $N$은 다음처럼 쓸 수 있습니다.\n",
    "\n",
    "$$\n",
    "MN = a^{\\log_{a} MN} \\\\[5pt]\n",
    "M = a^{\\log_{a} M} \\\\[5pt]\n",
    "N = a^{\\log_{a} N}\n",
    "$$\n",
    "\n",
    "$M$과 $N$을 곱해봅시다. $M \\times N= a^{\\log_{a} M} \\times a^{\\log_{a} N}$가 됩니다. 여기에 지수법칙을 적용하면 \n",
    "\n",
    "$$\n",
    "M \\times N= a^{\\log_{a} M} \\times a^{\\log_{a} N} =  a^{\\log_{a} M + \\log_{a} N} \n",
    "$$\n",
    "\n",
    "이 됩니다. 원래 $MN$ 은 $a^{\\log_{a} MN}$이므로 최종적으로\n",
    "\n",
    "$$\n",
    "a^{\\log_{a} MN} = a^{\\log_{a} M + \\log_{a} N} \n",
    "$$\n",
    "\n",
    "이고 지수가 같으므로 $\\log_{a} MN = \\log_{a} M + \\log_{a} N$임을 알 수 있습니다.\n",
    "\n",
    "<hr/>"
   ]
  },
  {
   "cell_type": "markdown",
   "metadata": {},
   "source": [
    "### 3. $\\log_{a} M^k = k \\log_{a} M$\n",
    "\n",
    "2번 성질에 의해 다음을 바로 보일 수 있습니다.\n",
    "\n",
    "$$\n",
    "\\log_{a} M^k =  \\underbrace{\\log_a M + \\log_a M + \\cdots \\log_a M}_{k} =  k \\log_a M\n",
    "$$\n",
    "\n",
    "<hr/>"
   ]
  },
  {
   "cell_type": "markdown",
   "metadata": {},
   "source": [
    "### 4. $\\log_{a} \\dfrac{M}{N} = \\log_{a} M - \\log_{a} N$\n",
    "\n",
    "곱셈을 덧셈으로 바꾸는 성질과 비슷하게 나눗셈을 뺄셈으로 바꾸는 성질도 있습니다. 동일한 과정으로 진행하겠습니다.\n",
    "\n",
    "우선 $M/N$, $M$, $N$을 각각 로그의 정의를 이용해서 써봅시다.\n",
    "\n",
    "$$\n",
    "\\frac{M}{N} = a^{\\log_a \\frac{M}{N}} \\\\[5pt]\n",
    "M = a^{\\log_{a} M} \\\\[5pt]\n",
    "N = a^{\\log_{a} N}\n",
    "$$\n",
    "\n",
    "$M$을 $N$으로 나눕니다.\n",
    "\n",
    "$$\n",
    "\\frac{M}{N} = \\frac{a^{\\log_a M}}{a^{\\log_a N}} = a^{\\log_a M - log_a N}\n",
    "$$\n",
    "\n",
    "원래 $\\dfrac{M}{N} = a^{\\log_a \\frac{M}{N}}$이었으므로  \n",
    "\n",
    "\n",
    "$$\n",
    "a^{\\log_a \\frac{M}{N}} = a^{\\log_a M - log_a N}\n",
    "$$\n",
    "\n",
    "이고 지수가 같으므로 $\\log_{a} \\frac{M}{N} = \\log_{a} M - \\log_{a} N$임을 알 수 있습니다.\n",
    "\n",
    "<hr/>"
   ]
  },
  {
   "cell_type": "markdown",
   "metadata": {},
   "source": [
    "### 5. $\\log_{a} b = \\dfrac{\\log_{c} b} {\\log_{c} a}$\n",
    "\n",
    "이 성질을 로그의 밑변환 공식이라 하는데 거의 비슷한 방법으로 보일 수 있습니다. 우선 $a$, $b$의 관계를 로그의 정의를 이용해서 적고 양변에 로그의 밑 조건($c>0$, $c \\ne 1$)을 만족하는 $c$를 밑으로 하는 로그를 적용해봅시다.\n",
    "\n",
    "\n",
    "$$\n",
    "a^{\\log_a b}=b\n",
    "$$\n",
    "\n",
    "양변에 로그를 취하면\n",
    "\n",
    "$$\n",
    "\\log_c a^{\\log_a b} = \\log_c b\n",
    "$$\n",
    "\n",
    "로그 성질에 의해 $\\log_a b$를 로그 앞으로 끄집어 냅니다. \n",
    "\n",
    "$$\n",
    "\\log_a b \\cdot \\log_c a = \\log_c b\n",
    "$$\n",
    "\n",
    "그리고 양변을 $\\log_c a$로 나눕니다. \n",
    "\n",
    "$$\n",
    "\\log_a b = \\frac{\\log_c b}{\\log_c a}\n",
    "$$\n",
    "\n",
    "이렇게 밑 변환 성질을 유도할 수 있습니다. 이 성질을 이용하면 다음과 같은 관계도 부가적으로 정리해볼 수 있습니다. 밑을 $b$ 로 하는 로그로 밑을 변환하면 분자는 $\\log_b b$가 되어 1이 되었습니다. \n",
    "\n",
    "$$\n",
    "\\log_a b = \\frac{1}{\\log_b a}\n",
    "$$\n",
    "<hr/>"
   ]
  },
  {
   "cell_type": "code",
   "execution_count": 11,
   "metadata": {},
   "outputs": [
    {
     "data": {
      "text/html": [
       "<link href='https://fonts.googleapis.com/earlyaccess/notosanskr.css' rel='stylesheet' type='text/css'>\n",
       "<!--https://github.com/kattergil/NotoSerifKR-Web/stargazers-->\n",
       "<link href='https://cdn.rawgit.com/kattergil/NotoSerifKR-Web/5e08423b/stylesheet/NotoSerif-Web.css' rel='stylesheet' type='text/css'>\n",
       "<!--https://github.com/Joungkyun/font-d2coding-->\n",
       "<link href=\"http://cdn.jsdelivr.net/gh/joungkyun/font-d2coding/d2coding.css\" rel=\"stylesheet\" type=\"text/css\">\n",
       "<style>\n",
       "    h1 { font-family: 'Noto Sans KR' !important; color:#348ABD !important;   }\n",
       "    h2 { font-family: 'Noto Sans KR' !important; color:#467821 !important;   }\n",
       "    h3 { font-family: 'Noto Sans KR' !important; color:#A60628 !important;   }\n",
       "    h4 { font-family: 'Noto Sans KR' !important; color:#7A68A6 !important;   }        \n",
       "            \n",
       "    p:not(.navbar-text) { font-family: 'Noto Serif KR', 'Nanum Myeongjo'; font-size: 11pt; line-height: 200%;  text-indent: 10px; }\n",
       "    li:not(.dropdown):not(.p-TabBar-tab):not(.p-MenuBar-item):not(.jp-DirListing-item):not(.p-CommandPalette-header):not(.p-CommandPalette-item):not(.jp-RunningSessions-item):not(.p-Menu-item)   \n",
       "            { font-family: 'Noto Serif KR', 'Nanum Myeongjo'; font-size: 12pt; line-height: 200%; }\n",
       "    table  { font-family: 'Noto Sans KR' !important;  font-size: 11pt !important; }        \n",
       "    li > p  { text-indent: 0px; }\n",
       "    li > ul { margin-top: 0px !important; }       \n",
       "    sup { font-family: 'Noto Sans KR'; font-size: 9pt; } \n",
       "    code, pre  { font-family: D2Coding, 'D2 coding' !important; font-size: 11pt !important; line-height: 130% !important;}\n",
       "    .code-body { font-family: D2Coding, 'D2 coding' !important; font-size: 11pt !important;}\n",
       "    .ns        { font-family: 'Noto Sans KR'; font-size: 15pt;}\n",
       "    .summary   {\n",
       "                   font-family: 'Georgia'; font-size: 12pt; line-height: 200%; \n",
       "                   border-left:3px solid #D55E00; \n",
       "                   padding-left:20px; \n",
       "                   margin-top:10px;\n",
       "                   margin-left:15px;\n",
       "               }\n",
       "    .green { color:#467821 !important; }\n",
       "    .comment { font-family: 'Noto Sans KR'; font-size: 10pt; }\n",
       "</style>\n"
      ],
      "text/plain": [
       "<IPython.core.display.HTML object>"
      ]
     },
     "metadata": {},
     "output_type": "display_data"
    }
   ],
   "source": [
    "%%html\n",
    "<link href='https://fonts.googleapis.com/earlyaccess/notosanskr.css' rel='stylesheet' type='text/css'>\n",
    "<!--https://github.com/kattergil/NotoSerifKR-Web/stargazers-->\n",
    "<link href='https://cdn.rawgit.com/kattergil/NotoSerifKR-Web/5e08423b/stylesheet/NotoSerif-Web.css' rel='stylesheet' type='text/css'>\n",
    "<!--https://github.com/Joungkyun/font-d2coding-->\n",
    "<link href=\"http://cdn.jsdelivr.net/gh/joungkyun/font-d2coding/d2coding.css\" rel=\"stylesheet\" type=\"text/css\">\n",
    "<style>\n",
    "    h1 { font-family: 'Noto Sans KR' !important; color:#348ABD !important;   }\n",
    "    h2 { font-family: 'Noto Sans KR' !important; color:#467821 !important;   }\n",
    "    h3 { font-family: 'Noto Sans KR' !important; color:#A60628 !important;   }\n",
    "    h4 { font-family: 'Noto Sans KR' !important; color:#7A68A6 !important;   }        \n",
    "            \n",
    "    p:not(.navbar-text) { font-family: 'Noto Serif KR', 'Nanum Myeongjo'; font-size: 11pt; line-height: 200%;  text-indent: 10px; }\n",
    "    li:not(.dropdown):not(.p-TabBar-tab):not(.p-MenuBar-item):not(.jp-DirListing-item):not(.p-CommandPalette-header):not(.p-CommandPalette-item):not(.jp-RunningSessions-item):not(.p-Menu-item)   \n",
    "            { font-family: 'Noto Serif KR', 'Nanum Myeongjo'; font-size: 12pt; line-height: 200%; }\n",
    "    table  { font-family: 'Noto Sans KR' !important;  font-size: 11pt !important; }        \n",
    "    li > p  { text-indent: 0px; }\n",
    "    li > ul { margin-top: 0px !important; }       \n",
    "    sup { font-family: 'Noto Sans KR'; font-size: 9pt; } \n",
    "    code, pre  { font-family: D2Coding, 'D2 coding' !important; font-size: 11pt !important; line-height: 130% !important;}\n",
    "    .code-body { font-family: D2Coding, 'D2 coding' !important; font-size: 11pt !important;}\n",
    "    .ns        { font-family: 'Noto Sans KR'; font-size: 15pt;}\n",
    "    .summary   {\n",
    "                   font-family: 'Georgia'; font-size: 12pt; line-height: 200%; \n",
    "                   border-left:3px solid #D55E00; \n",
    "                   padding-left:20px; \n",
    "                   margin-top:10px;\n",
    "                   margin-left:15px;\n",
    "               }\n",
    "    .green { color:#467821 !important; }\n",
    "    .comment { font-family: 'Noto Sans KR'; font-size: 10pt; }\n",
    "</style>"
   ]
  },
  {
   "cell_type": "code",
   "execution_count": null,
   "metadata": {},
   "outputs": [],
   "source": []
  }
 ],
 "metadata": {
  "kernelspec": {
   "display_name": "Python 3",
   "language": "python",
   "name": "python3"
  },
  "language_info": {
   "codemirror_mode": {
    "name": "ipython",
    "version": 3
   },
   "file_extension": ".py",
   "mimetype": "text/x-python",
   "name": "python",
   "nbconvert_exporter": "python",
   "pygments_lexer": "ipython3",
   "version": "3.5.2"
  }
 },
 "nbformat": 4,
 "nbformat_minor": 2
}
