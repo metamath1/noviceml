{
  "nbformat": 4,
  "nbformat_minor": 0,
  "metadata": {
    "colab": {
      "name": "CHAP-07.ipynb",
      "provenance": [],
      "collapsed_sections": [],
      "toc_visible": true,
      "authorship_tag": "ABX9TyPHZz5hC0CrYYOhfY7w9cos",
      "include_colab_link": true
    },
    "kernelspec": {
      "name": "python3",
      "display_name": "Python 3"
    }
  },
  "cells": [
    {
      "cell_type": "markdown",
      "metadata": {
        "id": "view-in-github",
        "colab_type": "text"
      },
      "source": [
        "<a href=\"https://colab.research.google.com/github/metamath1/noviceml/blob/master/CHAP_07.ipynb\" target=\"_parent\"><img src=\"https://colab.research.google.com/assets/colab-badge.svg\" alt=\"Open In Colab\"/></a>"
      ]
    },
    {
      "cell_type": "markdown",
      "metadata": {
        "id": "bbZPqgO3Iku7"
      },
      "source": [
        "# 7장 그림 및 예제 코드"
      ]
    },
    {
      "cell_type": "code",
      "metadata": {
        "id": "rfbVWzytIcPa"
      },
      "source": [
        "# 기본적인 import들\n",
        "# 이후 그래프 그리는 코드에는 중복으로 적지 않음.\n",
        "# 다른 곳으로 그래프 그리는 코드를 복사-붙이기 할 때는 \n",
        "# 이 import 코드와 함께 복사-붙이기 해야함\n",
        "import numpy as np\n",
        "import matplotlib.pyplot as plt\n",
        "import matplotlib as mpl\n",
        "import matplotlib.font_manager as mfm\n",
        "from matplotlib.patches import Rectangle, Circle, PathPatch, Arc\n",
        "from mpl_toolkits.mplot3d import Axes3D \n",
        "import mpl_toolkits.mplot3d.art3d as art3d\n",
        "\n",
        "# numpy 출력 형식 지정\n",
        "np.set_printoptions(precision=4, linewidth=150)\n",
        "\n",
        "# matplotlib 스타일 지정\n",
        "mpl.style.use('bmh')\n",
        "mpl.style.use('seaborn-whitegrid')\n",
        "style = plt.style.library['bmh']\n",
        "# 스타일 컬러를 쉽게 쓸 수 있도록 리스트 저장\n",
        "style_colors = [ c['color'] for c in style['axes.prop_cycle'] ]\n",
        "\n",
        "# 그림을 로컬 폴더에 저장하고 싶으면 True로 수정 \n",
        "file_print = False"
      ],
      "execution_count": null,
      "outputs": []
    },
    {
      "cell_type": "code",
      "metadata": {
        "id": "uQiv0PdTIv3Z"
      },
      "source": [
        "from matplotlib.text import Text, TextPath\n",
        "from matplotlib.transforms import Affine2D\n",
        "\n",
        "# https://matplotlib.org/3.1.1/gallery/mplot3d/pathpatch3d.html\n",
        "def text3d(ax, xyz, s, zdir=\"z\", size=None, angle=0, usetex=False, **kwargs):\n",
        "    '''\n",
        "    Plots the string 's' on the axes 'ax', with position 'xyz', size 'size',\n",
        "    and rotation angle 'angle'.  'zdir' gives the axis which is to be treated\n",
        "    as the third dimension.  usetex is a boolean indicating whether the string\n",
        "    should be interpreted as latex or not.  Any additional keyword arguments\n",
        "    are passed on to transform_path.\n",
        "\n",
        "    Note: zdir affects the interpretation of xyz.\n",
        "    '''\n",
        "    x, y, z = xyz\n",
        "    if zdir == \"y\":\n",
        "        xy1, z1 = (x, z), y\n",
        "    elif zdir == \"x\":\n",
        "        xy1, z1 = (y, z), x\n",
        "    else:\n",
        "        xy1, z1 = (x, y), z\n",
        "\n",
        "    text_path = TextPath((0, 0), s, size=size)\n",
        "    trans = Affine2D().rotate(angle).translate(xy1[0], xy1[1])\n",
        "\n",
        "    p1 = PathPatch(trans.transform_path(text_path), **kwargs)\n",
        "    ax.add_patch(p1)\n",
        "    art3d.pathpatch_2d_to_3d(p1, z=z1, zdir=zdir)"
      ],
      "execution_count": null,
      "outputs": []
    },
    {
      "cell_type": "code",
      "metadata": {
        "id": "DNzW5P_XI3Tw"
      },
      "source": [
        "from matplotlib.patches import FancyArrowPatch\n",
        "from mpl_toolkits.mplot3d import proj3d\n",
        "\n",
        "class Arrow3D(FancyArrowPatch):\n",
        "    \"\"\"\n",
        "    https://stackoverflow.com/questions/22867620/putting-arrowheads-on-vectors-in-matplotlibs-3d-plot\n",
        "    \"\"\"\n",
        "    def __init__(self, xs, ys, zs, *args, **kwargs):\n",
        "        FancyArrowPatch.__init__(self, (0,0), (0,0), *args, **kwargs)\n",
        "        self._verts3d = xs, ys, zs\n",
        "\n",
        "    def draw(self, renderer):\n",
        "        xs3d, ys3d, zs3d = self._verts3d\n",
        "        xs, ys, zs = proj3d.proj_transform(xs3d, ys3d, zs3d, renderer.M)\n",
        "        self.set_positions((xs[0],ys[0]),(xs[1],ys[1]))\n",
        "        FancyArrowPatch.draw(self, renderer)"
      ],
      "execution_count": null,
      "outputs": []
    },
    {
      "cell_type": "code",
      "metadata": {
        "id": "nH-86BkWJfPL",
        "outputId": "17458563-f3d1-4f4a-9da0-d5afeaca808f",
        "colab": {
          "base_uri": "https://localhost:8080/",
          "height": 136
        }
      },
      "source": [
        "# 데이터 파일 사용을 위한 github repo 복사\n",
        "# !주의! \n",
        "# 구글 colab 환경에서 실행하는 경우만 실행하세요.\n",
        "# 로컬환경에서는 실행하지 마세요.\n",
        "!git clone -l -s https://github.com/metamath1/noviceml.git noviceml"
      ],
      "execution_count": null,
      "outputs": [
        {
          "output_type": "stream",
          "text": [
            "Cloning into 'noviceml'...\n",
            "warning: --local is ignored\n",
            "remote: Enumerating objects: 32, done.\u001b[K\n",
            "remote: Counting objects:   3% (1/32)\u001b[K\rremote: Counting objects:   6% (2/32)\u001b[K\rremote: Counting objects:   9% (3/32)\u001b[K\rremote: Counting objects:  12% (4/32)\u001b[K\rremote: Counting objects:  15% (5/32)\u001b[K\rremote: Counting objects:  18% (6/32)\u001b[K\rremote: Counting objects:  21% (7/32)\u001b[K\rremote: Counting objects:  25% (8/32)\u001b[K\rremote: Counting objects:  28% (9/32)\u001b[K\rremote: Counting objects:  31% (10/32)\u001b[K\rremote: Counting objects:  34% (11/32)\u001b[K\rremote: Counting objects:  37% (12/32)\u001b[K\rremote: Counting objects:  40% (13/32)\u001b[K\rremote: Counting objects:  43% (14/32)\u001b[K\rremote: Counting objects:  46% (15/32)\u001b[K\rremote: Counting objects:  50% (16/32)\u001b[K\rremote: Counting objects:  53% (17/32)\u001b[K\rremote: Counting objects:  56% (18/32)\u001b[K\rremote: Counting objects:  59% (19/32)\u001b[K\rremote: Counting objects:  62% (20/32)\u001b[K\rremote: Counting objects:  65% (21/32)\u001b[K\rremote: Counting objects:  68% (22/32)\u001b[K\rremote: Counting objects:  71% (23/32)\u001b[K\rremote: Counting objects:  75% (24/32)\u001b[K\rremote: Counting objects:  78% (25/32)\u001b[K\rremote: Counting objects:  81% (26/32)\u001b[K\rremote: Counting objects:  84% (27/32)\u001b[K\rremote: Counting objects:  87% (28/32)\u001b[K\rremote: Counting objects:  90% (29/32)\u001b[K\rremote: Counting objects:  93% (30/32)\u001b[K\rremote: Counting objects:  96% (31/32)\u001b[K\rremote: Counting objects: 100% (32/32)\u001b[K\rremote: Counting objects: 100% (32/32), done.\u001b[K\n",
            "remote: Compressing objects: 100% (27/27), done.\u001b[K\n",
            "remote: Total 80 (delta 12), reused 19 (delta 4), pack-reused 48\u001b[K\n",
            "Unpacking objects: 100% (80/80), done.\n"
          ],
          "name": "stdout"
        }
      ]
    },
    {
      "cell_type": "code",
      "metadata": {
        "id": "iVp-Ha7pJhla"
      },
      "source": [
        "# 구글 colab 환경일 경우 그래프에 한글 폰트 사용을 위한 설정\n",
        "path = 'noviceml/font/NanumBarunGothic.ttf'\n",
        "fontprop = mfm.FontProperties(fname=path, size=18)\n",
        "\n",
        "# !주의!\n",
        "# 아래 라인은 LaTeX 폰트 설치를 위한 것입니다.\n",
        "# 노트북을 실행할 때 마다 colab 환경에 폰트를 설치해야 합니다.\n",
        "# 처음 설치시 시간이 오래 걸립니다. 그림 17, 18을 랜더링 할 필요가 없다면\n",
        "# 이 라인은 주석 처리하고 실행하세요.\n",
        "!apt install texlive-fonts-recommended texlive-fonts-extra cm-super dvipng \n",
        "\n",
        "# 로컬 환경일 경우 다음 한글 폰트 사용을 위한 설정을 주석 해제하세요.\n",
        "# https://financedata.github.io/posts/matplotlib-hangul-for-ubuntu-linux.html\n",
        "# 아래 코드의 주석 제거 후 경로를 유저 컴퓨터의 폰트 파일 경로로 수정하세요.\n",
        "# path = '/usr/share/fonts/truetype/nanum/NanumBarunGothic.ttf'\n",
        "# fontprop = mfm.FontProperties(fname=path, size=18)"
      ],
      "execution_count": null,
      "outputs": []
    },
    {
      "cell_type": "markdown",
      "metadata": {
        "id": "2edubHIuI-0T"
      },
      "source": [
        "# 행렬\n",
        "\n"
      ]
    },
    {
      "cell_type": "markdown",
      "metadata": {
        "id": "p3VsAulKJAIT"
      },
      "source": [
        "## 행렬에 대한 연산: 덧셈, 스칼라 곱셈, 곱셈"
      ]
    },
    {
      "cell_type": "markdown",
      "metadata": {
        "id": "ti00bTPJJB74"
      },
      "source": [
        "### 덧셈"
      ]
    },
    {
      "cell_type": "code",
      "metadata": {
        "id": "dsb4XemsI85w",
        "outputId": "6fb48424-d34f-4ff9-da01-a0348ace5979",
        "colab": {
          "base_uri": "https://localhost:8080/",
          "height": 51
        }
      },
      "source": [
        "A = np.matrix([[1,2],[3,4]])\n",
        "B = np.matrix([[10,20],[30,40]])\n",
        "\n",
        "A+B"
      ],
      "execution_count": null,
      "outputs": [
        {
          "output_type": "execute_result",
          "data": {
            "text/plain": [
              "matrix([[11, 22],\n",
              "        [33, 44]])"
            ]
          },
          "metadata": {
            "tags": []
          },
          "execution_count": 6
        }
      ]
    },
    {
      "cell_type": "markdown",
      "metadata": {
        "id": "Jrkekv5GJEKD"
      },
      "source": [
        "### 스칼라 곱셈"
      ]
    },
    {
      "cell_type": "code",
      "metadata": {
        "id": "xlRAvsxUJDNY",
        "outputId": "29f36084-b838-41c6-fb92-e984b93d7c1f",
        "colab": {
          "base_uri": "https://localhost:8080/",
          "height": 51
        }
      },
      "source": [
        "3*B"
      ],
      "execution_count": null,
      "outputs": [
        {
          "output_type": "execute_result",
          "data": {
            "text/plain": [
              "matrix([[ 30,  60],\n",
              "        [ 90, 120]])"
            ]
          },
          "metadata": {
            "tags": []
          },
          "execution_count": 7
        }
      ]
    },
    {
      "cell_type": "markdown",
      "metadata": {
        "id": "3Vd5VO5iJIJD"
      },
      "source": [
        "### 곱셈"
      ]
    },
    {
      "cell_type": "code",
      "metadata": {
        "id": "PKiQUEIVJGxA",
        "outputId": "e54886fe-43b4-470f-a556-fb2c1fd03674",
        "colab": {
          "base_uri": "https://localhost:8080/",
          "height": 51
        }
      },
      "source": [
        "A = np.array([[1,2,3], [4,5,6]]) #-----[1]\n",
        "B = np.array([[2,1], [1,2], [1,1]])\n",
        "\n",
        "np.dot(A,B) #-----[2]\n",
        "\n"
      ],
      "execution_count": null,
      "outputs": [
        {
          "output_type": "execute_result",
          "data": {
            "text/plain": [
              "array([[ 7,  8],\n",
              "       [19, 20]])"
            ]
          },
          "metadata": {
            "tags": []
          },
          "execution_count": 8
        }
      ]
    },
    {
      "cell_type": "markdown",
      "metadata": {
        "id": "3PFAmn7TJKnd"
      },
      "source": [
        "### 단위행렬"
      ]
    },
    {
      "cell_type": "code",
      "metadata": {
        "id": "2CtDzV9XJJaw",
        "outputId": "541f645e-ebc8-4205-bed8-8a2fdb3918fd",
        "colab": {
          "base_uri": "https://localhost:8080/",
          "height": 85
        }
      },
      "source": [
        "A = np.matrix([[2, 4], [4, 2]])\n",
        "I = np.matrix(np.eye(2))\n",
        "\n",
        "print(A*I)\n",
        "print(I*A)"
      ],
      "execution_count": null,
      "outputs": [
        {
          "output_type": "stream",
          "text": [
            "[[2. 4.]\n",
            " [4. 2.]]\n",
            "[[2. 4.]\n",
            " [4. 2.]]\n"
          ],
          "name": "stdout"
        }
      ]
    },
    {
      "cell_type": "markdown",
      "metadata": {
        "id": "UoHJ1J1IJQgc"
      },
      "source": [
        "### 대각행렬과 역행렬"
      ]
    },
    {
      "cell_type": "code",
      "metadata": {
        "id": "5MI5-kK6JL-o",
        "outputId": "3709c2f7-9629-4c0b-bfca-58490b5ec397",
        "colab": {
          "base_uri": "https://localhost:8080/",
          "height": 68
        }
      },
      "source": [
        "D = np.matrix(np.eye(3)*np.array([2,1,4]))\n",
        "D.I"
      ],
      "execution_count": null,
      "outputs": [
        {
          "output_type": "execute_result",
          "data": {
            "text/plain": [
              "matrix([[0.5 , 0.  , 0.  ],\n",
              "        [0.  , 1.  , 0.  ],\n",
              "        [0.  , 0.  , 0.25]])"
            ]
          },
          "metadata": {
            "tags": []
          },
          "execution_count": 10
        }
      ]
    },
    {
      "cell_type": "code",
      "metadata": {
        "id": "gp3xZNBeJR3Y",
        "outputId": "b4c43104-b755-4aae-e074-446af2a678ce",
        "colab": {
          "base_uri": "https://localhost:8080/",
          "height": 68
        }
      },
      "source": [
        "D.I*D"
      ],
      "execution_count": null,
      "outputs": [
        {
          "output_type": "execute_result",
          "data": {
            "text/plain": [
              "matrix([[1., 0., 0.],\n",
              "        [0., 1., 0.],\n",
              "        [0., 0., 1.]])"
            ]
          },
          "metadata": {
            "tags": []
          },
          "execution_count": 11
        }
      ]
    },
    {
      "cell_type": "markdown",
      "metadata": {
        "id": "cgOYttg_JNpb"
      },
      "source": [
        "### 대칭행렬과 대각화"
      ]
    },
    {
      "cell_type": "code",
      "metadata": {
        "id": "vgonT8_AJS8I",
        "outputId": "8a2d1e73-2a66-482a-a2b2-7435ff200774",
        "colab": {
          "base_uri": "https://localhost:8080/",
          "height": 51
        }
      },
      "source": [
        "A = np.matrix([[2, 4], [4, 2]])\n",
        "X = np.matrix([[ 0.7071, -0.7071], [ 0.7071,  0.7071]])\n",
        "D = X.I*A*X\n",
        "D\n"
      ],
      "execution_count": null,
      "outputs": [
        {
          "output_type": "execute_result",
          "data": {
            "text/plain": [
              "matrix([[ 6.0000e+00, -1.3122e-16],\n",
              "        [-8.5947e-18, -2.0000e+00]])"
            ]
          },
          "metadata": {
            "tags": []
          },
          "execution_count": 12
        }
      ]
    },
    {
      "cell_type": "markdown",
      "metadata": {
        "id": "GRN7Npf2JXgW"
      },
      "source": [
        "# 벡터 "
      ]
    },
    {
      "cell_type": "markdown",
      "metadata": {
        "id": "DoML-uyiJZe6"
      },
      "source": [
        "## 그림 7-1"
      ]
    },
    {
      "cell_type": "code",
      "metadata": {
        "id": "Xr5y-6qnJV5Q",
        "outputId": "38287675-dc4a-4e89-cc1c-db99635498fd",
        "colab": {
          "base_uri": "https://localhost:8080/",
          "height": 303
        }
      },
      "source": [
        "from mpl_toolkits.mplot3d import Axes3D\n",
        "from matplotlib import cm\n",
        "\n",
        "fig = plt.figure()\n",
        "fig.set_size_inches((15,5))\n",
        "\n",
        "ax1 = fig.add_subplot(1, 3, 1, projection='3d')\n",
        "ax2 = fig.add_subplot(1, 3, 2, projection='3d')\n",
        "ax3 = fig.add_subplot(1, 3, 3, projection='3d')\n",
        "\n",
        "ax1.xaxis.set_tick_params(labelsize=15)\n",
        "ax1.yaxis.set_tick_params(labelsize=15)\n",
        "ax1.zaxis.set_tick_params(labelsize=15)\n",
        "\n",
        "ax2.xaxis.set_tick_params(labelsize=15)\n",
        "ax2.yaxis.set_tick_params(labelsize=15)\n",
        "ax2.zaxis.set_tick_params(labelsize=15)\n",
        "\n",
        "ax3.xaxis.set_tick_params(labelsize=15)\n",
        "ax3.yaxis.set_tick_params(labelsize=15)\n",
        "ax3.zaxis.set_tick_params(labelsize=15)\n",
        "\n",
        "x, y, z = 0, 1, 2\n",
        "P = np.array([1.5, 1.8, 1])\n",
        "\n",
        "Q = np.array([2.1, 3.2, 3])\n",
        "O = (0, 0, 0)\n",
        "\n",
        "axis_length = Q + 0.5\n",
        "\n",
        "def draw_vector(ax, P, Q, elev, azim, title=''):\n",
        "    \n",
        "    arrow = Arrow3D([P[x], Q[x]], [P[y], Q[y]], [P[z], Q[z]], lw=2, color='k',\n",
        "                   mutation_scale=20, arrowstyle=\"-|>\" )\n",
        "    ax.add_artist(arrow)\n",
        "    ax.axis('off')\n",
        "    \n",
        "    ax.plot3D([Q[x], Q[x]], [0, Q[y]], [0,0], '--', color=\"gray\")\n",
        "    ax.plot3D([P[x], P[x]], [0, P[y]], [0,0], '--', color=\"gray\")\n",
        "\n",
        "    ax.plot3D([0, Q[x]], [Q[y], Q[y]], [0,0], '--', color=\"gray\")\n",
        "    ax.plot3D([0, P[x]], [P[y], P[y]], [0,0], '--', color=\"gray\")\n",
        "\n",
        "    ax.plot3D([P[x], P[x]], [P[y], P[y]], [0, P[z]], '--', color=\"gray\") #p로의 세로선\n",
        "    ax.plot3D([Q[x], Q[x]], [Q[y], Q[y]], [0, Q[z]], '--', color=\"gray\") #p로의 세로선\n",
        "\n",
        "    ax.plot3D([0, P[x]], [0, P[y]], [0,0], '--', color=\"gray\")\n",
        "    ax.plot3D([0, Q[x]], [0, Q[y]], [0,0], '--', color=\"gray\")\n",
        "\n",
        "    ax.plot3D([0, P[x]], [0, P[y]], [P[z], P[z]], '--', color=\"gray\")\n",
        "    ax.plot3D([0, Q[x]], [0, Q[y]], [Q[z], Q[z]], '--', color=\"gray\")\n",
        "\n",
        "    ax.plot3D([P[x], Q[x]], [0, 0], [0,0], lw=2, color='k')\n",
        "    ax.plot3D([0,0], [P[y], Q[y]], [0,0],  lw=2, color='k')\n",
        "    ax.plot3D([0,0], [0, 0], [P[z], Q[z]], lw=2, color='k')\n",
        "\n",
        "    # 축 그리기 \n",
        "    ax.plot3D([O[x], axis_length[0]], [0, 0], [0, 0], color='k', alpha=0.2)\n",
        "    ax.text(axis_length[0]+0.5, 0, 0, '$x$', fontsize=18)\n",
        "    \n",
        "    ax.plot3D([0,0], [O[y], axis_length[1]], [0, 0], color='k', alpha=0.2)\n",
        "    ax.text(0, axis_length[1]+0.2, 0, '$y$', fontsize=18)\n",
        "    \n",
        "    ax.plot3D([O[x], 0], [O[y], 0], [O[z], axis_length[2]], color='k', alpha=0.2)\n",
        "    ax.text(0, 0, axis_length[2]+0.1, '$z$', fontsize=18)\n",
        "    \n",
        "    ax.plot([O[x]], [O[y]], [O[z]], 'o', color='k')\n",
        "\n",
        "    # 콤포넌트 그리기\n",
        "    ax.text(P[x]+(Q[x]-P[x])-0.3, -0.4, 0, '$v_1$', fontsize=18)\n",
        "    ax.text(-0.4, P[y]+(Q[y]-P[y])-0.8, 0, '$v_2$', fontsize=18)\n",
        "    ax.text(0, 0.1,  P[z]+(Q[y]-P[z])/2,   '$v_3$', fontsize=18)\n",
        "\n",
        "    ax.set_title(title, fontproperties=fontprop)\n",
        "    ax.set_xlabel('$x$', fontsize=20)\n",
        "    ax.set_ylabel('$y$', fontsize=20)\n",
        "    ax.set_zlabel('$z$', fontsize=20)\n",
        "    \n",
        "    ax.set_xlim((0, 2.5))\n",
        "    ax.set_ylim((0, 3.5))\n",
        "    ax.set_zlim((0, 3.5))\n",
        "    \n",
        "    ax.view_init(elev, azim)\n",
        "    \n",
        "draw_vector(ax1, P, Q, 20, 30, '벡터와 벡터의 요소')  \n",
        "draw_vector(ax2, P-0.5, Q-0.5, 20, 30, '이동된 벡터와 벡터의 요소') \n",
        "draw_vector(ax3, O, Q, 20, 30, '위치 벡터') \n",
        "\n",
        "plt.subplots_adjust(hspace=0.05, wspace=0.0)\n",
        "\n",
        "if file_print == True :\n",
        "    fig.savefig(\"imgs/chap7/fig7-1.png\", dpi=300, bbox_inches='tight')\n",
        "    fig.savefig(\"imgs/chap7/fig7-1.pdf\", format='pdf', bbox_inches='tight')\n",
        "    \n",
        "plt.show()"
      ],
      "execution_count": null,
      "outputs": [
        {
          "output_type": "display_data",
          "data": {
            "image/png": "[encoded data removed]",
            "text/plain": [
              "<Figure size 1080x360 with 3 Axes>"
            ]
          },
          "metadata": {
            "tags": [],
            "needs_background": "light"
          }
        }
      ]
    },
    {
      "cell_type": "markdown",
      "metadata": {
        "id": "DF8xSXi3JmP2"
      },
      "source": [
        "## 그림 7-2"
      ]
    },
    {
      "cell_type": "code",
      "metadata": {
        "id": "Gz1b54kTJa3o",
        "outputId": "6c324511-9193-4a1c-90cb-1bca5e38fa26",
        "colab": {
          "base_uri": "https://localhost:8080/",
          "height": 460
        }
      },
      "source": [
        "fig = plt.figure(figsize=(7,7))\n",
        "ax = fig.add_subplot(1, 1, 1)\n",
        "\n",
        "ax.xaxis.set_tick_params(labelsize=18)\n",
        "ax.yaxis.set_tick_params(labelsize=18)\n",
        "ax.set_xlabel(r'$x$', fontsize=25)\n",
        "ax.set_ylabel(r'$y$', fontsize=25)\n",
        "ax.grid(False)\n",
        "\n",
        "a = np.array( [[1, 1],[2, 3]] )\n",
        "da = a[1]-a[0]\n",
        "\n",
        "b = np.array( [[1, 1],[3, 2]] )\n",
        "db = b[1]-b[0]\n",
        "\n",
        "\n",
        "vec_a = FancyArrowPatch(a[0], a[1], lw=2, color='k', mutation_scale=20, arrowstyle=\"-|>\")\n",
        "ax.add_patch(vec_a)\n",
        "\n",
        "vec_b = FancyArrowPatch(b[0], b[1], lw=2, color='k', mutation_scale=20, arrowstyle=\"-|>\")\n",
        "ax.add_patch(vec_b)\n",
        "\n",
        "a_ = a + db # + db[1]\n",
        "vec_a_ = FancyArrowPatch(a_[0], a_[1], lw=1, color='k', mutation_scale=20, arrowstyle=\"-|>\", ls='--')\n",
        "ax.add_patch(vec_a_)\n",
        "\n",
        "b_ = b + da\n",
        "vec_b_ = FancyArrowPatch(b_[0], b_[1], lw=1, color='k', mutation_scale=20, arrowstyle=\"-|>\", ls='--')\n",
        "ax.add_patch(vec_b_)\n",
        "\n",
        "dc = da+db\n",
        "c = a.copy()\n",
        "c[1,:] = c[0,:]+dc\n",
        "vec_c = FancyArrowPatch(c[0], c[1], lw=2, color='white', mutation_scale=30, arrowstyle=\"-|>\", ec='gray')\n",
        "ax.add_patch(vec_c)\n",
        "\n",
        "# 가로 선\n",
        "ax.plot( (0, a[0,0]),(a[0,1], a[0,1]), lw=1, color='k' )\n",
        "ax.plot( (0, a[1,0]),(a[1,1], a[1,1]), lw=1, color='k' )\n",
        "ax.plot( (0, a_[1,0]),(a_[1,1], a_[1,1]), lw=1, color='k' )\n",
        "\n",
        "# 세로 선\n",
        "ax.plot( (a[0,0], a[0,0]), (0, a[0,1]), lw=1, color='k' )\n",
        "ax.plot( (b[1,0], b[1,0]), (0, b[1,1]), lw=1, color='k' )\n",
        "ax.plot( (b_[1,0], b_[1,0]), (0, b_[1,1]), lw=1, color='k' )\n",
        "\n",
        "vec_ay = FancyArrowPatch((0.0, a[0,1]), (0.0, a[1,1]), lw=1, mutation_scale=20, arrowstyle=\"<|-|>\", color='k')\n",
        "ax.add_patch(vec_ay)\n",
        "\n",
        "vec_by = FancyArrowPatch((0.0, a[1,1]), (0.0, a[1,1]+db[1]), lw=1, mutation_scale=20, arrowstyle=\"<|-|>\", color='k')\n",
        "ax.add_patch(vec_by)\n",
        "\n",
        "vec_cy = FancyArrowPatch((0.5,c[0,1]), (0.5,c[1,1]), lw=1, color='white', mutation_scale=20, arrowstyle=\"<|-|>\", ec='gray')\n",
        "ax.add_patch(vec_cy)\n",
        "\n",
        "vec_ax = FancyArrowPatch((a[0,0], 0.0), (b[1,0], 0.0), lw=1, mutation_scale=20, arrowstyle=\"<|-|>\", color='k')\n",
        "ax.add_patch(vec_ax)\n",
        "\n",
        "vec_bx = FancyArrowPatch((b[1,0], 0.0), (a[1,1]+da[0], 0.0), lw=1, mutation_scale=20, arrowstyle=\"<|-|>\", color='k')\n",
        "ax.add_patch(vec_bx)\n",
        "\n",
        "vec_cx = FancyArrowPatch((c[0,0],0.5), (c[1,0],0.5), lw=1, color='white', mutation_scale=20, arrowstyle=\"<|-|>\", ec='gray')\n",
        "ax.add_patch(vec_cx)\n",
        "\n",
        "ax.text(1.2, 2, r\"$\\mathbf{a}$\", fontsize=25)\n",
        "ax.text(3.5, 2.9, r\"$\\mathbf{a}'$\", fontsize=25)\n",
        "ax.text(2, 1.2, r\"$\\mathbf{b}$\", fontsize=25)\n",
        "ax.text(2.8, 3.5, r\"$\\mathbf{b}'$\", fontsize=25)\n",
        "ax.text(2.5, 2.3, r\"$\\mathbf{c}$\", fontsize=25)\n",
        "\n",
        "ax.text(0.5, 2.5, r\"$c_2$\", fontsize=20)\n",
        "ax.text(0.0, 2.0, r\"$a_2$\", fontsize=20)\n",
        "ax.text(0.0, 3.5, r\"$b_2$\", fontsize=20)\n",
        "\n",
        "ax.text(2.5, 0.5, r\"$c_1$\", fontsize=20)\n",
        "ax.text(2.0, 0.0, r\"$b_1$\", fontsize=20)\n",
        "ax.text(3.5, 0.0, r\"$a_1$\", fontsize=20)\n",
        "\n",
        "plt.axis('equal')\n",
        "\n",
        "if file_print == True :\n",
        "    fig.savefig(\"imgs/chap7/fig7-2.png\", dpi=300, bbox_inches='tight')\n",
        "    fig.savefig(\"imgs/chap7/fig7-2.pdf\", format='pdf', bbox_inches='tight')\n",
        "    \n",
        "    \n",
        "plt.show()"
      ],
      "execution_count": null,
      "outputs": [
        {
          "output_type": "display_data",
          "data": {
            "image/png": "[encoded data removed]",
            "text/plain": [
              "<Figure size 504x504 with 1 Axes>"
            ]
          },
          "metadata": {
            "tags": [],
            "needs_background": "light"
          }
        }
      ]
    },
    {
      "cell_type": "markdown",
      "metadata": {
        "id": "DMTR2C82Jqmw"
      },
      "source": [
        "## 그림 7-3"
      ]
    },
    {
      "cell_type": "code",
      "metadata": {
        "id": "fXR0OV7yJngQ",
        "outputId": "b89bd146-bde4-41e7-9cad-c4a9730d6bcb",
        "colab": {
          "base_uri": "https://localhost:8080/",
          "height": 460
        }
      },
      "source": [
        "fig = plt.figure(figsize=(7,7))\n",
        "ax = fig.add_subplot(1, 1, 1)\n",
        "\n",
        "ax.xaxis.set_tick_params(labelsize=18)\n",
        "ax.yaxis.set_tick_params(labelsize=18)\n",
        "ax.set_xlabel(r'$x$', fontsize=25)\n",
        "ax.set_ylabel(r'$y$', fontsize=25)\n",
        "ax.grid(False)\n",
        "\n",
        "a = np.array( [[1, 1],[2, 3]] )\n",
        "da = a[1]-a[0]\n",
        "\n",
        "b = np.array( [[1, 1],[3, 2]] )\n",
        "db = b[1]-b[0]\n",
        "\n",
        "vec_a = FancyArrowPatch(a[0], a[1], lw=2, color='k', mutation_scale=20, arrowstyle=\"-|>\")\n",
        "ax.add_patch(vec_a)\n",
        "\n",
        "vec_b = FancyArrowPatch(b[0], b[1], lw=2, color='k', mutation_scale=20, arrowstyle=\"-|>\")\n",
        "ax.add_patch(vec_b)\n",
        "\n",
        "minus_b = b.copy()\n",
        "minus_b[1,:] = minus_b[0,:]-db\n",
        "vec_minus_b = FancyArrowPatch(minus_b[0], minus_b[1], ls='--', lw=1, color='k', mutation_scale=20, arrowstyle=\"-|>\")\n",
        "ax.add_patch(vec_minus_b)\n",
        "\n",
        "a_ = a - db # + db[1]\n",
        "vec_a_ = FancyArrowPatch(a_[0], a_[1], lw=1, color='k', mutation_scale=20, arrowstyle=\"-|>\", ls='--')\n",
        "ax.add_patch(vec_a_)\n",
        "\n",
        "b_ = minus_b + da\n",
        "vec_b_ = FancyArrowPatch(b_[0], b_[1], lw=1, color='k', mutation_scale=20, arrowstyle=\"-|>\", ls='--')\n",
        "ax.add_patch(vec_b_)\n",
        "\n",
        "db_ = minus_b[1]-minus_b[0]\n",
        "dc_ = da+db_\n",
        "c_ = a.copy()\n",
        "c_[1,:] = c_[0,:]+dc_\n",
        "vec_c_ = FancyArrowPatch(c_[0], c_[1], lw=2, color='white', mutation_scale=30, arrowstyle=\"-|>\", ec='gray', ls='--')\n",
        "ax.add_patch(vec_c_)\n",
        "\n",
        "dc = da-db\n",
        "c = b.copy()\n",
        "c[0,:] = c[1,:]\n",
        "c[1,:] = c[0,:]+dc\n",
        "\n",
        "vec_c = FancyArrowPatch(c[0], c[1], lw=2, color='white', mutation_scale=30, arrowstyle=\"-|>\", ec='gray')\n",
        "ax.add_patch(vec_c)\n",
        "\n",
        "# 세로 선\n",
        "ax.plot( (a[0,0], a[0,0]), (-0.5, a[0,1]), lw=1, color='k' )\n",
        "ax.plot( (a[1,0], a[1,0]), (-0.5, a[1,1]), lw=1, color='k' )\n",
        "ax.plot( (b[1,0], b[1,0]), (-0.5, b[1,1]), lw=1, color='k' )\n",
        "\n",
        "# 가로 선\n",
        "ax.plot( (a[0,0], 4), (a[0,1], a[0,1]), lw=1, color='k' )\n",
        "ax.plot( (b[1,0], 4), (b[1,1], b[1,1]), lw=1, color='k' )\n",
        "ax.plot( (a[1,0], 4), (a[1,1], a[1,1]), lw=1, color='k' )\n",
        "\n",
        "vec_ay = FancyArrowPatch((4.0, a[0,1]), (4.0, a[1,1]), lw=1, mutation_scale=20, arrowstyle=\"<|-|>\", color='k')\n",
        "ax.add_patch(vec_ay)\n",
        "\n",
        "vec_by = FancyArrowPatch((3.5, b[0,1]), (3.5, b[1,1]), lw=1, mutation_scale=20, arrowstyle=\"<|-|>\", color='k')\n",
        "ax.add_patch(vec_by)\n",
        "\n",
        "vec_cy = FancyArrowPatch((3.5, c[0,1]), (3.5,c[1,1]), lw=1, color='white', mutation_scale=20, arrowstyle=\"<|-|>\", ec='gray')\n",
        "ax.add_patch(vec_cy)\n",
        "\n",
        "vec_bx = FancyArrowPatch((a[0,0], -0.5), (b[1,0], -0.5), lw=1, mutation_scale=20, arrowstyle=\"<|-|>\", color='k')\n",
        "ax.add_patch(vec_bx)\n",
        "\n",
        "vec_ax = FancyArrowPatch((a[0,0], 0.0), (a[1,0], 0.0), lw=1, mutation_scale=20, arrowstyle=\"<|-|>\", color='k')\n",
        "ax.add_patch(vec_ax)\n",
        "\n",
        "vec_cx = FancyArrowPatch((c[0,0],0.0), (c[1,0],0.0), lw=1, color='white', mutation_scale=20, arrowstyle=\"<|-|>\", ec='gray')\n",
        "ax.add_patch(vec_cx)\n",
        "\n",
        "ax.text(1.2, 2, r\"$\\mathbf{a}$\", fontsize=25)\n",
        "ax.text(-0.7, 1.0, r\"$\\mathbf{a}'$\", fontsize=25)\n",
        "ax.text(2, 1.2, r\"$\\mathbf{b}$\", fontsize=25)\n",
        "ax.text(0, 0.3, r\"$-\\mathbf{b}$\", fontsize=25)\n",
        "ax.text(0.5, 2.5, r\"$-\\mathbf{b}'$\", fontsize=25)\n",
        "\n",
        "ax.text(2.4, 0.1, r\"$c_1$\", fontsize=20)\n",
        "ax.text(1.4, 0.1, r\"$a_1$\", fontsize=20)\n",
        "ax.text(1.9, -0.8, r\"$b_1$\", fontsize=20)\n",
        "\n",
        "ax.text(3.2, 2.5, r\"$c_2$\", fontsize=20)\n",
        "ax.text(4.0, 2.0, r\"$a_2$\", fontsize=20)\n",
        "ax.text(3.2, 1.5, r\"$b_2$\", fontsize=20)\n",
        "\n",
        "ax.text(0, 1.5, r\"$\\mathbf{a}+(-\\mathbf{b})$\", fontsize=20)\n",
        "ax.text(2.5, 2.5, r\"$\\mathbf{c}$\", fontsize=25)\n",
        "\n",
        "plt.axis('equal')\n",
        "\n",
        "if file_print == True :\n",
        "    fig.savefig(\"imgs/chap7/fig7-3.png\", dpi=300, bbox_inches='tight')\n",
        "    fig.savefig(\"imgs/chap7/fig7-3.pdf\", format='pdf', bbox_inches='tight')\n",
        "    \n",
        "    \n",
        "plt.show()"
      ],
      "execution_count": null,
      "outputs": [
        {
          "output_type": "display_data",
          "data": {
            "image/png": "[encoded data removed]",
            "text/plain": [
              "<Figure size 504x504 with 1 Axes>"
            ]
          },
          "metadata": {
            "tags": [],
            "needs_background": "light"
          }
        }
      ]
    },
    {
      "cell_type": "markdown",
      "metadata": {
        "id": "rD1n3EDgJt0T"
      },
      "source": [
        "## 그림 7-4"
      ]
    },
    {
      "cell_type": "code",
      "metadata": {
        "id": "fhtrdH3qJrvI",
        "outputId": "656c3833-bba1-4b5a-ec65-25d92027b3b3",
        "colab": {
          "base_uri": "https://localhost:8080/",
          "height": 481
        }
      },
      "source": [
        "fig = plt.figure(figsize=(15,7))\n",
        "ax1 = fig.add_subplot(1, 2, 1)\n",
        "ax2 = fig.add_subplot(1, 2, 2)\n",
        "\n",
        "ax1.xaxis.set_tick_params(labelsize=18)\n",
        "ax1.yaxis.set_tick_params(labelsize=18)\n",
        "ax1.set_xlabel(r'$x$', fontsize=25)\n",
        "ax1.set_ylabel(r'$y$', fontsize=25)\n",
        "\n",
        "ax2.xaxis.set_tick_params(labelsize=18)\n",
        "ax2.yaxis.set_tick_params(labelsize=18)\n",
        "ax2.set_xlabel(r'$x$', fontsize=25)\n",
        "ax2.set_ylabel(r'$y$', fontsize=25)\n",
        "\n",
        "a = np.array([0, 0])\n",
        "b = np.array([3, 3])\n",
        "vec_a = FancyArrowPatch((0, 0), (3, 0) , lw=1, mutation_scale=20, arrowstyle=\"-\", color='k', ls='--')\n",
        "ax1.add_patch(vec_a)\n",
        "\n",
        "vec_b = FancyArrowPatch((3, 0), (3, 3) , lw=1, mutation_scale=20, arrowstyle=\"-\", color='k', ls='--')\n",
        "ax1.add_patch(vec_b)\n",
        "\n",
        "c = np.array( [a, b] )\n",
        "dc = c[1]-c[0]\n",
        "vec_c = FancyArrowPatch(c[0], c[1], lw=2, mutation_scale=20, arrowstyle=\"-|>\", color='gray')\n",
        "ax1.add_patch(vec_c)\n",
        "\n",
        "ax1.plot(*a, 'o', color='k')\n",
        "ax1.plot(*b, 'o', color='k')\n",
        "\n",
        "ax1.text(-0.2,-0.2, r\"$\\mathbf{a}$\", fontsize=20)\n",
        "ax1.text(3.1, 3.1, r\"$\\mathbf{b}$\", fontsize=20)\n",
        "ax1.text(1.5, 1.7, r\"$\\mathbf{c}$\", fontsize=20)\n",
        "ax1.set_title(\"L2 거리\", fontsize=20, fontproperties=fontprop)\n",
        "ax1.set_xlim(-1, 4)\n",
        "ax1.set_ylim(-1, 4)\n",
        "\n",
        "ax2.plot((0, 0), (0, 1), lw=2, color='gray')\n",
        "ax2.plot((0, 1), (1, 1), lw=2, color='gray')\n",
        "ax2.plot((1, 1), (1, 3), lw=2, color='gray')\n",
        "# ax2.plot((1, 3), (3, 3), lw=2, color='gray')\n",
        "vec_a = FancyArrowPatch((1, 3), (3, 3) , lw=2, mutation_scale=20, arrowstyle=\"-|>\", color='gray')\n",
        "ax2.add_patch(vec_a)\n",
        "\n",
        "ax2.plot((0, 2), (0, 0), lw=2, ls='--', color='gray')\n",
        "ax2.plot((2, 2), (0, 1), lw=2, ls='--', color='gray')\n",
        "ax2.plot((2, 3), (1, 1), lw=2, ls='--', color='gray')\n",
        "vec_b = FancyArrowPatch((3, 1), (3, 3) , lw=2, mutation_scale=20, ls='--', arrowstyle=\"-|>\", color='gray')\n",
        "ax2.add_patch(vec_b)\n",
        "\n",
        "ax2.plot(*a, 'o', color='k')\n",
        "ax2.plot(*b, 'o', color='k')\n",
        "ax2.text(-0.2,-0.2, r\"$\\mathbf{a}$\", fontsize=20)\n",
        "ax2.text(3.1, 3.1, r\"$\\mathbf{b}$\", fontsize=20)\n",
        "ax2.set_title(\"L1 거리\", fontsize=20, fontproperties=fontprop)\n",
        "ax2.set_xlim(-1, 4)\n",
        "ax2.set_ylim(-1, 4)\n",
        "\n",
        "if file_print == True :\n",
        "    fig.savefig(\"imgs/chap7/fig7-4.png\", dpi=300, bbox_inches='tight')\n",
        "    fig.savefig(\"imgs/chap7/fig7-4.pdf\", format='pdf', bbox_inches='tight')\n",
        "\n",
        "plt.show()"
      ],
      "execution_count": null,
      "outputs": [
        {
          "output_type": "display_data",
          "data": {
            "image/png": "[encoded data removed]",
            "text/plain": [
              "<Figure size 1080x504 with 2 Axes>"
            ]
          },
          "metadata": {
            "tags": [],
            "needs_background": "light"
          }
        }
      ]
    },
    {
      "cell_type": "markdown",
      "metadata": {
        "id": "msAzJk5dJw5H"
      },
      "source": [
        "## 그림 7-5"
      ]
    },
    {
      "cell_type": "code",
      "metadata": {
        "id": "7sclxe84Ju7A",
        "outputId": "69142187-508a-45c1-e257-89f7cb72316b",
        "colab": {
          "base_uri": "https://localhost:8080/",
          "height": 481
        }
      },
      "source": [
        "fig, (ax1, ax2) = plt.subplots(1, 2, sharey=True)\n",
        "fig.set_size_inches((15,7))\n",
        "\n",
        "ax1.xaxis.set_tick_params(labelsize=18)\n",
        "ax1.yaxis.set_tick_params(labelsize=18)\n",
        "ax1.set_xlabel(r'$x$', fontsize=25)\n",
        "ax1.set_ylabel(r'$y$', fontsize=25)\n",
        "ax1.grid(False)\n",
        "\n",
        "ax2.xaxis.set_tick_params(labelsize=18)\n",
        "ax2.yaxis.set_tick_params(labelsize=18)\n",
        "ax2.set_xlabel(r'$x$', fontsize=25)\n",
        "ax2.set_ylabel(r'$y$', fontsize=25)\n",
        "ax2.grid(False)\n",
        "\n",
        "l1 = lambda x1, x2 : np.abs(x1) + np.abs(x2)\n",
        "l2 = lambda x1, x2 : np.sqrt(x1**2 + x2**2)\n",
        "\n",
        "x = np.linspace(-1, 1, 100)\n",
        "X1, X2 = np.meshgrid(x, x)\n",
        "\n",
        "L1 = l1(X1,X2)\n",
        "L2 = l2(X1,X2)\n",
        "\n",
        "ax1.contour(X1, X2, L1)\n",
        "ax1.set_title(\"L1 거리 함수\", fontsize=20, fontproperties=fontprop)\n",
        "ax1.axis('equal')\n",
        "\n",
        "ax2.contour(X1, X2, L2)\n",
        "ax2.set_title(\"L2 거리 함수\", fontsize=20, fontproperties=fontprop)\n",
        "ax2.axis('equal')\n",
        "\n",
        "if file_print == True :\n",
        "    fig.savefig(\"imgs/chap7/fig7-5.png\", dpi=300, bbox_inches='tight')\n",
        "    fig.savefig(\"imgs/chap7/fig7-5.pdf\", format='pdf', bbox_inches='tight')\n",
        "    \n",
        "plt.show()"
      ],
      "execution_count": null,
      "outputs": [
        {
          "output_type": "display_data",
          "data": {
            "image/png": "[encoded data removed]",
            "text/plain": [
              "<Figure size 1080x504 with 2 Axes>"
            ]
          },
          "metadata": {
            "tags": [],
            "needs_background": "light"
          }
        }
      ]
    },
    {
      "cell_type": "markdown",
      "metadata": {
        "id": "OHmEql8BJ0Ux"
      },
      "source": [
        "## 그림 7-6"
      ]
    },
    {
      "cell_type": "code",
      "metadata": {
        "id": "sxYea5OOJyNw",
        "outputId": "0d4f64bd-5d34-4c2d-dd43-17025e9a09e9",
        "colab": {
          "base_uri": "https://localhost:8080/",
          "height": 303
        }
      },
      "source": [
        "fig = plt.figure(figsize=(16,5))\n",
        "ax1 = fig.add_subplot(1, 3, 1)\n",
        "ax2 = fig.add_subplot(1, 3, 2)\n",
        "ax3 = fig.add_subplot(1, 3, 3)\n",
        "\n",
        "\n",
        "a = np.array([(1, 0.5), (2.5, 0.5)])\n",
        "da = a[1]-a[0]\n",
        "vec_a = FancyArrowPatch(a[0], a[1], lw=1, \n",
        "                        color='k', mutation_scale=20, arrowstyle=\"-|>\")\n",
        "ax1.add_patch(vec_a)\n",
        "\n",
        "b = np.array([(1, 0.5), (2.2, 1.7)])\n",
        "db = b[1]-b[0]\n",
        "vec_b = FancyArrowPatch(b[0], b[1], lw=1, \n",
        "                        color='k', mutation_scale=20, arrowstyle=\"-|>\")\n",
        "ax1.add_patch(vec_b)\n",
        "ax1.plot(*a[0], '.', color='k')\n",
        "\n",
        "theta = 180*np.arccos(np.dot(da,db) / (np.linalg.norm(da)*np.linalg.norm(db)))/np.pi\n",
        "e = Arc((1, 0.5), 0.5, 0.5, angle=0, theta1=0, theta2=theta,\n",
        "        color='k',linewidth=1, fill=False, zorder=2)\n",
        "ax1.add_patch(e)\n",
        "ax1.text(1.3, 0.6, r\"$\\theta$\", fontsize=20)\n",
        "ax1.text(2.5, 0.4, r\"$\\mathbf{a}$\", fontsize=20)\n",
        "ax1.text(2.2, 1.7, r\"$\\mathbf{b}$\", fontsize=20)\n",
        "ax1.text(1.3, 0.2, r\"$\\mathbf{a}\\cdot\\mathbf{b}>0$\", fontsize=20)\n",
        "ax1.axis('off')\n",
        "ax1.set_xlim(0.5, 3)\n",
        "ax1.set_ylim(0, 2.5)\n",
        "\n",
        "##################################################################################\n",
        "a = np.array([(1, 0.5), (2.5, 0.5)])\n",
        "da = a[1]-a[0]\n",
        "vec_a = FancyArrowPatch(a[0], a[1], lw=1, \n",
        "                        color='k', mutation_scale=20, arrowstyle=\"-|>\")\n",
        "ax2.add_patch(vec_a)\n",
        "\n",
        "b = np.array([(1, 0.5), (1, 2.)])\n",
        "db = b[1]-b[0]\n",
        "vec_b = FancyArrowPatch(b[0], b[1], lw=1, \n",
        "                        color='k', mutation_scale=20, arrowstyle=\"-|>\")\n",
        "ax2.add_patch(vec_b)\n",
        "ax2.plot(*a[0], '.', color='k')\n",
        "\n",
        "theta = 180*np.arccos(np.dot(da,db) / (np.linalg.norm(da)*np.linalg.norm(db)))/np.pi\n",
        "e = Arc((1, 0.5), 0.5, 0.5, angle=0, theta1=0, theta2=theta,\n",
        "        color='k',linewidth=1, fill=False, zorder=2)\n",
        "ax2.add_patch(e)\n",
        "ax2.text(1.2, 0.7, r\"$\\theta$\", fontsize=20)\n",
        "ax2.text(2.5, 0.4, r\"$\\mathbf{a}$\", fontsize=20)\n",
        "ax2.text(1, 2, r\"$\\mathbf{b}$\", fontsize=20)\n",
        "ax2.text(1.3, 0.2, r\"$\\mathbf{a}\\cdot\\mathbf{b}=0$\", fontsize=20)\n",
        "ax2.axis('off')\n",
        "ax2.set_xlim(0.5, 3)\n",
        "ax2.set_ylim(0, 2.5)\n",
        "\n",
        "##################################################################################\n",
        "a = np.array([(1, 0.5), (2.5, 0.5)])\n",
        "da = a[1]-a[0]\n",
        "vec_a = FancyArrowPatch(a[0], a[1], lw=1, \n",
        "                        color='k', mutation_scale=20, arrowstyle=\"-|>\")\n",
        "ax3.add_patch(vec_a)\n",
        "\n",
        "b = np.array([(1, 0.5), (0.5, 1.7)])\n",
        "db = b[1]-b[0]\n",
        "vec_b = FancyArrowPatch(b[0], b[1], lw=1, \n",
        "                        color='k', mutation_scale=20, arrowstyle=\"-|>\")\n",
        "ax3.add_patch(vec_b)\n",
        "ax3.plot(*a[0], '.', color='k')\n",
        "\n",
        "theta = 180*np.arccos(np.dot(da,db) / (np.linalg.norm(da)*np.linalg.norm(db)))/np.pi\n",
        "e = Arc((1, 0.5), 0.5, 0.5, angle=0, theta1=0, theta2=theta,\n",
        "        color='k',linewidth=1, fill=False, zorder=2)\n",
        "ax3.add_patch(e)\n",
        "ax3.text(1.2, 0.7, r\"$\\theta$\", fontsize=20)\n",
        "ax3.text(2.5, 0.4, r\"$\\mathbf{a}$\", fontsize=20)\n",
        "ax3.text(0.5, 1.7, r\"$\\mathbf{b}$\", fontsize=20)\n",
        "ax3.text(1.3, 0.2, r\"$\\mathbf{a}\\cdot\\mathbf{b}<0$\", fontsize=20)\n",
        "ax3.axis('off')\n",
        "ax3.set_xlim(0.5, 3)\n",
        "ax3.set_ylim(0, 2.5)\n",
        "\n",
        "if file_print == True :\n",
        "    fig.savefig(\"imgs/chap7/fig7-6.png\", dpi=300, bbox_inches='tight')\n",
        "    fig.savefig(\"imgs/chap7/fig7-6.pdf\", format='pdf', bbox_inches='tight')\n",
        "\n",
        "plt.show()"
      ],
      "execution_count": null,
      "outputs": [
        {
          "output_type": "display_data",
          "data": {
            "image/png": "[encoded data removed]",
            "text/plain": [
              "<Figure size 1152x360 with 3 Axes>"
            ]
          },
          "metadata": {
            "tags": [],
            "needs_background": "light"
          }
        }
      ]
    },
    {
      "cell_type": "code",
      "metadata": {
        "id": "LwuUZVZUJ1cw"
      },
      "source": [
        "def cube2d(ax, origin, dx=1, dy=1, dc=0.1, axis='off', hidden=False):\n",
        "    x0, y0 = origin\n",
        "    \n",
        "    if hidden==False:\n",
        "        ax.plot((x0, x0+dx), (y0, y0), lw=2, color='k')\n",
        "        ax.plot((x0+dx, x0+dx), (y0, y0+dy), lw=2, color='k')\n",
        "        ax.plot((x0+dx, x0), (y0+dy, y0+dy), lw=2, color='k')\n",
        "        ax.plot((x0, x0), (y0+dy, y0), lw=2, color='k')\n",
        "\n",
        "    ax.plot((x0, x0+dc), (y0+dy, y0+dy+dc), lw=2, color='k')\n",
        "    ax.plot((x0+dx, x0+dx+dc), (y0+dy, y0+dy+dc), lw=2, color='k')\n",
        "    ax.plot((x0+dx, x0+dx+dc), (y0, y0+dc), lw=2, color='k')\n",
        "    \n",
        "    ax.plot((x0+dc, x0+dx+dc), (y0+dy+dc, y0+dy+dc), lw=2, color='k')\n",
        "    ax.plot((x0+dc, x0+dx+dc), (y0+dy+dc, y0+dy+dc), lw=2, color='k')\n",
        "    ax.plot((x0+dx+dc, x0+dx+dc), (y0+dy+dc, y0+dc), lw=2, color='k')\n",
        "    \n",
        "    ax.axis(axis)"
      ],
      "execution_count": null,
      "outputs": []
    },
    {
      "cell_type": "markdown",
      "metadata": {
        "id": "w454oWbMJ4eB"
      },
      "source": [
        "# 행렬을 이용한 데이터 표현"
      ]
    },
    {
      "cell_type": "markdown",
      "metadata": {
        "id": "1WjIn7flJ5ns"
      },
      "source": [
        "## 그림 7-7"
      ]
    },
    {
      "cell_type": "code",
      "metadata": {
        "id": "t1d8AlqTJ3Ag",
        "outputId": "269add62-cdc5-4a20-c3d1-04ab3e812d58",
        "colab": {
          "base_uri": "https://localhost:8080/",
          "height": 411
        }
      },
      "source": [
        "fig = plt.figure(figsize=(7,7))\n",
        "ax = fig.add_subplot(1, 1, 1)\n",
        "    \n",
        "cube2d(ax, (0, 0))\n",
        "cube2d(ax, (0.1, 0.1), hidden=True)\n",
        "cube2d(ax, (0.2, 0.2), hidden=True)\n",
        "\n",
        "width = FancyArrowPatch((0, -0.1), (1, -0.1), lw=2,  mutation_scale=20, arrowstyle=\"<|-|>\", color='k')\n",
        "ax.add_patch(width)\n",
        "\n",
        "height = FancyArrowPatch((-0.1, 0), (-0.1, 1), lw=2,  mutation_scale=20, arrowstyle=\"<|-|>\", color='k')\n",
        "ax.add_patch(height)\n",
        "\n",
        "ax.text(0.4, -0.2, \"width\", fontsize=25)\n",
        "ax.text(-0.25, 0.4, \"height\", fontsize=25, rotation=90)\n",
        "\n",
        "ax.text(-0.03, 1.05, \"R\", fontsize=25)\n",
        "ax.text(0.07, 1.15, \"G\", fontsize=25)\n",
        "ax.text(0.17, 1.25, \"B\", fontsize=25)\n",
        "\n",
        "ax.set_xlim(-0.3, 1.4)\n",
        "ax.set_ylim(-0.3, 1.4)\n",
        "\n",
        "if file_print == True :\n",
        "    fig.savefig(\"imgs/chap7/fig7-7.png\", dpi=300, bbox_inches='tight')\n",
        "    fig.savefig(\"imgs/chap7/fig7-7.pdf\", format='pdf', bbox_inches='tight')\n",
        "\n",
        "plt.show()"
      ],
      "execution_count": null,
      "outputs": [
        {
          "output_type": "display_data",
          "data": {
            "image/png": "[encoded data removed]",
            "text/plain": [
              "<Figure size 504x504 with 1 Axes>"
            ]
          },
          "metadata": {
            "tags": [],
            "needs_background": "light"
          }
        }
      ]
    },
    {
      "cell_type": "markdown",
      "metadata": {
        "id": "ADH5eVizJ8ih"
      },
      "source": [
        "## 그림 7-8"
      ]
    },
    {
      "cell_type": "code",
      "metadata": {
        "id": "EzIHItxJJ6xg",
        "outputId": "7aae9444-c862-434d-ff3c-795790fb5548",
        "colab": {
          "base_uri": "https://localhost:8080/",
          "height": 442
        }
      },
      "source": [
        "im = plt.imread(\"noviceml/img/old_python.png\")\n",
        "print(im.shape)\n",
        "\n",
        "fig = plt.figure(figsize=(7,7))\n",
        "ax = fig.add_subplot(1, 1, 1)\n",
        "\n",
        "ax.xaxis.set_tick_params(labelsize=18)\n",
        "ax.yaxis.set_tick_params(labelsize=18)\n",
        "\n",
        "ax.imshow(im)\n",
        "\n",
        "if file_print == True :\n",
        "    fig.savefig(\"imgs/chap7/fig7-8.png\", dpi=300, bbox_inches='tight')\n",
        "    fig.savefig(\"imgs/chap7/fig7-8.pdf\", format='pdf', bbox_inches='tight')"
      ],
      "execution_count": null,
      "outputs": [
        {
          "output_type": "stream",
          "text": [
            "(256, 272, 4)\n"
          ],
          "name": "stdout"
        },
        {
          "output_type": "display_data",
          "data": {
            "image/png": "[encoded data removed]",
            "text/plain": [
              "<Figure size 504x504 with 1 Axes>"
            ]
          },
          "metadata": {
            "tags": [],
            "needs_background": "light"
          }
        }
      ]
    },
    {
      "cell_type": "markdown",
      "metadata": {
        "id": "xMj7w9u7KKQW"
      },
      "source": [
        "## 그림 7-9"
      ]
    },
    {
      "cell_type": "code",
      "metadata": {
        "id": "kaeSod38KAzZ"
      },
      "source": [
        "R = im[:,:,0]\n",
        "G = im[:,:,1]\n",
        "B = im[:,:,2]\n",
        "A = im[:,:,3]"
      ],
      "execution_count": null,
      "outputs": []
    },
    {
      "cell_type": "code",
      "metadata": {
        "id": "hND0K0buKLXI",
        "outputId": "8e602ae2-ab13-4afe-9e16-514cd4d8990f",
        "colab": {
          "base_uri": "https://localhost:8080/",
          "height": 233
        }
      },
      "source": [
        "fig = plt.figure(figsize=(15,7))\n",
        "ax1 = fig.add_subplot(1, 4, 1)\n",
        "ax2 = fig.add_subplot(1, 4, 2)\n",
        "ax3 = fig.add_subplot(1, 4, 3)\n",
        "ax4 = fig.add_subplot(1, 4, 4)\n",
        "\n",
        "ax1.imshow(R)\n",
        "ax1.set_title(\"Red\")\n",
        "ax2.imshow(G)\n",
        "ax2.set_title(\"Green\")\n",
        "ax3.imshow(B)\n",
        "ax3.set_title(\"Blue\")\n",
        "ax4.imshow(A)\n",
        "ax4.set_title(\"Alpha\")\n",
        "\n",
        "plt.show()\n",
        "\n",
        "if file_print == True :\n",
        "    fig.savefig(\"imgs/chap7/fig7-9.png\", dpi=300, bbox_inches='tight')\n",
        "    fig.savefig(\"imgs/chap7/fig7-9.pdf\", format='pdf', bbox_inches='tight')\n",
        "\n"
      ],
      "execution_count": null,
      "outputs": [
        {
          "output_type": "display_data",
          "data": {
            "image/png": "[encoded data removed]",
            "text/plain": [
              "<Figure size 1080x504 with 4 Axes>"
            ]
          },
          "metadata": {
            "tags": [],
            "needs_background": "light"
          }
        }
      ]
    },
    {
      "cell_type": "markdown",
      "metadata": {
        "id": "JTLkr02HKOCh"
      },
      "source": [
        "## 문서를 행렬로 표현하기"
      ]
    },
    {
      "cell_type": "code",
      "metadata": {
        "id": "ofkGR07qKMBo"
      },
      "source": [
        "docs = [\n",
        "'This is the first document',\n",
        "'This is the second document',\n",
        "'And the third one',\n",
        "'Is this the first document']\n",
        "\n",
        "V = ['<NULL>', 'and', 'document', 'first', 'is', 'one', 'second', 'the', 'third', 'this']"
      ],
      "execution_count": null,
      "outputs": []
    },
    {
      "cell_type": "code",
      "metadata": {
        "id": "3kxX83oVKQBo",
        "outputId": "02a12feb-cc83-4785-b0c6-f0e9a477ae43",
        "colab": {
          "base_uri": "https://localhost:8080/",
          "height": 34
        }
      },
      "source": [
        "pre_docs = list(map(lambda x : x.lower().split(), docs))\n",
        "pre_docs\n",
        "\n",
        "D = [[V.index(w) for w in doc] for doc in pre_docs ]\n",
        "\n",
        "print(D)\n"
      ],
      "execution_count": null,
      "outputs": [
        {
          "output_type": "stream",
          "text": [
            "[[9, 4, 7, 3, 2], [9, 4, 7, 6, 2], [1, 7, 8, 5], [4, 9, 7, 3, 2]]\n"
          ],
          "name": "stdout"
        }
      ]
    },
    {
      "cell_type": "code",
      "metadata": {
        "id": "k-lEDnEIKQ0Z"
      },
      "source": [
        "N = max([len(doc) for doc in pre_docs])"
      ],
      "execution_count": null,
      "outputs": []
    },
    {
      "cell_type": "code",
      "metadata": {
        "id": "Piyr133tKR55",
        "outputId": "69d11dca-8015-4ee6-c52d-66d82ff4fc98",
        "colab": {
          "base_uri": "https://localhost:8080/",
          "height": 34
        }
      },
      "source": [
        "N"
      ],
      "execution_count": null,
      "outputs": [
        {
          "output_type": "execute_result",
          "data": {
            "text/plain": [
              "5"
            ]
          },
          "metadata": {
            "tags": []
          },
          "execution_count": 27
        }
      ]
    },
    {
      "cell_type": "code",
      "metadata": {
        "id": "CuDWDUpIKSyV",
        "outputId": "5fbed8f5-bed1-49a9-edaa-03cc9e14f16e",
        "colab": {
          "base_uri": "https://localhost:8080/",
          "height": 85
        }
      },
      "source": [
        "N = max([len(doc) for doc in pre_docs]) #-----[1]\n",
        "pre_docs = [doc + ['<NULL>']*(N-len(doc)) for doc in pre_docs] #-----[2]\n",
        "pre_docs\n"
      ],
      "execution_count": null,
      "outputs": [
        {
          "output_type": "execute_result",
          "data": {
            "text/plain": [
              "[['this', 'is', 'the', 'first', 'document'],\n",
              " ['this', 'is', 'the', 'second', 'document'],\n",
              " ['and', 'the', 'third', 'one', '<NULL>'],\n",
              " ['is', 'this', 'the', 'first', 'document']]"
            ]
          },
          "metadata": {
            "tags": []
          },
          "execution_count": 28
        }
      ]
    },
    {
      "cell_type": "code",
      "metadata": {
        "id": "H9kJVcCbKTqJ",
        "outputId": "ef0e529e-de0f-49de-a262-202cb00cec06",
        "colab": {
          "base_uri": "https://localhost:8080/",
          "height": 85
        }
      },
      "source": [
        "D = [[V.index(w) for w in doc] for doc in pre_docs ]\n",
        "D = np.array(D)\n",
        "D"
      ],
      "execution_count": null,
      "outputs": [
        {
          "output_type": "execute_result",
          "data": {
            "text/plain": [
              "array([[9, 4, 7, 3, 2],\n",
              "       [9, 4, 7, 6, 2],\n",
              "       [1, 7, 8, 5, 0],\n",
              "       [4, 9, 7, 3, 2]])"
            ]
          },
          "metadata": {
            "tags": []
          },
          "execution_count": 29
        }
      ]
    },
    {
      "cell_type": "markdown",
      "metadata": {
        "id": "uJJfOHHBKWIz"
      },
      "source": [
        "# 넘파이"
      ]
    },
    {
      "cell_type": "markdown",
      "metadata": {
        "id": "x0qRGDe5KZp7"
      },
      "source": [
        "## 그림 7-10"
      ]
    },
    {
      "cell_type": "code",
      "metadata": {
        "id": "xFi_pvAxKUpB",
        "outputId": "b313159a-1f8a-4d59-800e-0e81b1d9ab09",
        "colab": {
          "base_uri": "https://localhost:8080/",
          "height": 303
        }
      },
      "source": [
        "fig = plt.figure(figsize=(16,5))\n",
        "\n",
        "np.random.seed(1)\n",
        "\n",
        "ax1 = fig.add_subplot(141, projection='3d')\n",
        "ax2 = fig.add_subplot(142, projection='3d')\n",
        "ax3 = fig.add_subplot(143, projection='3d')\n",
        "ax4 = fig.add_subplot(144, projection='3d')\n",
        "\n",
        "k = 2.3\n",
        "rx, ry = 2, 2\n",
        "\n",
        "###############################################################################################\n",
        "offset_x, offset_y, offset_z = 0, 0, 1.5\n",
        "d = 5\n",
        "i = 0\n",
        "j = 1\n",
        "\n",
        "text3d(ax1, (i*k+offset_x+.6, d+offset_z, j*k+offset_y+.4), \"{}\".format(np.random.randint(10)), \n",
        "       zdir=\"y\", size=1.5, usetex=True, ec=\"k\", fc=\"#FFFFFF\")\n",
        "bottom, left = i*k+offset_x, j*k+offset_y\n",
        "rect = Rectangle((bottom, left), rx, ry, alpha=.8, facecolor='gray', edgecolor='k')\n",
        "ax1.add_patch(rect)\n",
        "art3d.pathpatch_2d_to_3d(rect, z=d+offset_z, zdir='y')\n",
        "            \n",
        "ax1.set_xlim(0, 7)\n",
        "ax1.set_ylim(0, 7)\n",
        "ax1.set_zlim(0, 7)\n",
        "ax1.view_init(20, -50)\n",
        "ax1.set_title(\"0D tensor: scalar\", fontsize=18)\n",
        "ax1.axis('off')\n",
        "###############################################################################################\n",
        "\n",
        "###############################################################################################\n",
        "offset_x, offset_y, offset_z = 0, 0, 1.5\n",
        "d = 5\n",
        "i = 0\n",
        "\n",
        "for j in range(3):\n",
        "    text3d(ax2, (i*k+offset_x+.6, d+offset_z, j*k+offset_y+.4), \"{}\".format(np.random.randint(10)), \n",
        "           zdir=\"y\", size=1.5, usetex=True, ec=\"k\", fc=\"#FFFFFF\")\n",
        "    bottom, left = i*k+offset_x, j*k+offset_y\n",
        "    rect = Rectangle((bottom, left), rx, ry, alpha=.8, facecolor='gray', edgecolor='k')\n",
        "    ax2.add_patch(rect)\n",
        "    art3d.pathpatch_2d_to_3d(rect, z=d+offset_z, zdir='y')\n",
        "            \n",
        "ax2.set_xlim(0, 7)\n",
        "ax2.set_ylim(0, 7)\n",
        "ax2.set_zlim(0, 7)\n",
        "ax2.view_init(20, -50)\n",
        "ax2.set_title(\"1D tensor: vector\", fontsize=18)\n",
        "ax2.axis('off')\n",
        "###############################################################################################\n",
        "\n",
        "###############################################################################################\n",
        "offset_x, offset_y, offset_z = -1, 0, 1.5\n",
        "d = 3\n",
        "\n",
        "for i in range(3):\n",
        "    for j in range(3):\n",
        "        text3d(ax3, (i*k+offset_x+.6, d+offset_z, j*k+offset_y+.4), \"{}\".format(np.random.randint(10)), \n",
        "               zdir=\"y\", size=1.5, usetex=True, ec=\"k\", fc=\"#FFFFFF\")\n",
        "        bottom, left = i*k+offset_x, j*k+offset_y\n",
        "        rect = Rectangle((bottom, left), rx, ry, alpha=.8, facecolor='gray', edgecolor='k')\n",
        "        ax3.add_patch(rect)\n",
        "        art3d.pathpatch_2d_to_3d(rect, z=d+offset_z, zdir='y')\n",
        "            \n",
        "ax3.set_xlim(0, 7)\n",
        "ax3.set_ylim(0, 7)\n",
        "ax3.set_zlim(0, 7)\n",
        "ax3.view_init(20, -50)\n",
        "ax3.set_title(\"2D tensor: matrix\", fontsize=18)\n",
        "ax3.axis('off')\n",
        "###############################################################################################\n",
        "\n",
        "###############################################################################################\n",
        "offset_x, offset_y, offset_z = 0, 0, 1.5\n",
        "\n",
        "for d in range(0, 5, 2):\n",
        "    for i in range(3):\n",
        "        for j in range(3):\n",
        "            # print(d)\n",
        "            text3d(ax4, (i*k+offset_x+.6, d+offset_z, j*k+offset_y+.4), \"{}\".format(np.random.randint(10)), \n",
        "                   zdir=\"y\", size=1.5, usetex=True, ec=\"k\", fc=\"#FFFFFF\")\n",
        "            bottom, left = i*k+offset_x, j*k+offset_y\n",
        "            rect = Rectangle((bottom, left), rx, ry, alpha=.8, facecolor='gray', edgecolor='k')\n",
        "            ax4.add_patch(rect)\n",
        "            art3d.pathpatch_2d_to_3d(rect, z=d+offset_z, zdir='y')\n",
        "            \n",
        "ax4.set_xlim(0, 7)\n",
        "ax4.set_ylim(0, 7)\n",
        "ax4.set_zlim(0, 7)\n",
        "ax4.view_init(20, -50)\n",
        "ax4.set_title(\"3D tensor\", fontsize=18)\n",
        "ax4.axis('off')\n",
        "###############################################################################################\n",
        "\n",
        "\n",
        "plt.subplots_adjust(hspace=0.05, wspace=0.0)\n",
        "\n",
        "if file_print == True :\n",
        "    fig.savefig(\"imgs/chap7/fig7-10.png\", dpi=300, bbox_inches='tight')\n",
        "    fig.savefig(\"imgs/chap7/fig7-10.pdf\", format='pdf', bbox_inches='tight')\n",
        "    \n",
        "plt.show()"
      ],
      "execution_count": null,
      "outputs": [
        {
          "output_type": "display_data",
          "data": {
            "image/png": "[encoded data removed]",
            "text/plain": [
              "<Figure size 1152x360 with 4 Axes>"
            ]
          },
          "metadata": {
            "tags": [],
            "needs_background": "light"
          }
        }
      ]
    },
    {
      "cell_type": "markdown",
      "metadata": {
        "id": "v5hvVXggLIG1"
      },
      "source": [
        "## 넘파이 어레이ndarray"
      ]
    },
    {
      "cell_type": "code",
      "metadata": {
        "id": "9AzzrKwSKdqr",
        "outputId": "22381320-7b95-489c-e8ad-aa3c9db8fb3a",
        "colab": {
          "base_uri": "https://localhost:8080/",
          "height": 34
        }
      },
      "source": [
        "A = np.array([1,2,3,4])\n",
        "A\n"
      ],
      "execution_count": null,
      "outputs": [
        {
          "output_type": "execute_result",
          "data": {
            "text/plain": [
              "array([1, 2, 3, 4])"
            ]
          },
          "metadata": {
            "tags": []
          },
          "execution_count": 31
        }
      ]
    },
    {
      "cell_type": "code",
      "metadata": {
        "id": "ndLOUiZvLJhK",
        "outputId": "c08972f2-17a4-444c-ac31-945d4b5b49f4",
        "colab": {
          "base_uri": "https://localhost:8080/",
          "height": 51
        }
      },
      "source": [
        "B = np.array([[1,2],[3,4]])\n",
        "B\n"
      ],
      "execution_count": null,
      "outputs": [
        {
          "output_type": "execute_result",
          "data": {
            "text/plain": [
              "array([[1, 2],\n",
              "       [3, 4]])"
            ]
          },
          "metadata": {
            "tags": []
          },
          "execution_count": 32
        }
      ]
    },
    {
      "cell_type": "code",
      "metadata": {
        "id": "aU11StytLKPJ",
        "outputId": "b326aaaa-30ef-4f27-c2cd-870160964ffc",
        "colab": {
          "base_uri": "https://localhost:8080/",
          "height": 34
        }
      },
      "source": [
        "A.shape"
      ],
      "execution_count": null,
      "outputs": [
        {
          "output_type": "execute_result",
          "data": {
            "text/plain": [
              "(4,)"
            ]
          },
          "metadata": {
            "tags": []
          },
          "execution_count": 33
        }
      ]
    },
    {
      "cell_type": "code",
      "metadata": {
        "id": "A7TLntLrLLC6",
        "outputId": "cf76611a-f75a-44ed-db68-6f20e3dc26b0",
        "colab": {
          "base_uri": "https://localhost:8080/",
          "height": 34
        }
      },
      "source": [
        "B.shape"
      ],
      "execution_count": null,
      "outputs": [
        {
          "output_type": "execute_result",
          "data": {
            "text/plain": [
              "(2, 2)"
            ]
          },
          "metadata": {
            "tags": []
          },
          "execution_count": 34
        }
      ]
    },
    {
      "cell_type": "code",
      "metadata": {
        "id": "-5WrsXV_LL3p",
        "outputId": "d302c8e0-634c-4d46-d8b4-89c91be510e4",
        "colab": {
          "base_uri": "https://localhost:8080/",
          "height": 34
        }
      },
      "source": [
        "A.reshape(1,4)"
      ],
      "execution_count": null,
      "outputs": [
        {
          "output_type": "execute_result",
          "data": {
            "text/plain": [
              "array([[1, 2, 3, 4]])"
            ]
          },
          "metadata": {
            "tags": []
          },
          "execution_count": 35
        }
      ]
    },
    {
      "cell_type": "code",
      "metadata": {
        "id": "HHmrtXr_LM_x",
        "outputId": "321f0c41-7a8e-418c-f111-e62d1b6952e3",
        "colab": {
          "base_uri": "https://localhost:8080/",
          "height": 34
        }
      },
      "source": [
        "A.reshape(1,4).shape"
      ],
      "execution_count": null,
      "outputs": [
        {
          "output_type": "execute_result",
          "data": {
            "text/plain": [
              "(1, 4)"
            ]
          },
          "metadata": {
            "tags": []
          },
          "execution_count": 36
        }
      ]
    },
    {
      "cell_type": "code",
      "metadata": {
        "id": "BCN5IRbwLOCx",
        "outputId": "72552601-af29-49b8-c5cf-08bab005cf97",
        "colab": {
          "base_uri": "https://localhost:8080/",
          "height": 85
        }
      },
      "source": [
        "A.reshape(4,1)"
      ],
      "execution_count": null,
      "outputs": [
        {
          "output_type": "execute_result",
          "data": {
            "text/plain": [
              "array([[1],\n",
              "       [2],\n",
              "       [3],\n",
              "       [4]])"
            ]
          },
          "metadata": {
            "tags": []
          },
          "execution_count": 37
        }
      ]
    },
    {
      "cell_type": "code",
      "metadata": {
        "id": "aPzSyXPpLO9Z",
        "outputId": "9c9d2a9f-1717-4b56-875d-57d84792c2b9",
        "colab": {
          "base_uri": "https://localhost:8080/",
          "height": 34
        }
      },
      "source": [
        "A.reshape(4,1).shape"
      ],
      "execution_count": null,
      "outputs": [
        {
          "output_type": "execute_result",
          "data": {
            "text/plain": [
              "(4, 1)"
            ]
          },
          "metadata": {
            "tags": []
          },
          "execution_count": 38
        }
      ]
    },
    {
      "cell_type": "code",
      "metadata": {
        "id": "QgwZRL9VLP0p",
        "outputId": "c0729372-afed-41f2-a80a-607221ca7b36",
        "colab": {
          "base_uri": "https://localhost:8080/",
          "height": 68
        }
      },
      "source": [
        "np.random.rand(3,2) # 0에서 1사이의 무작위 소수로 채워진 3행 2열 ndarray 생성"
      ],
      "execution_count": null,
      "outputs": [
        {
          "output_type": "execute_result",
          "data": {
            "text/plain": [
              "array([[0.9579, 0.5332],\n",
              "       [0.6919, 0.3155],\n",
              "       [0.6865, 0.8346]])"
            ]
          },
          "metadata": {
            "tags": []
          },
          "execution_count": 39
        }
      ]
    },
    {
      "cell_type": "code",
      "metadata": {
        "id": "GFcIbvDZLRKp",
        "outputId": "fdf3b1f4-4641-4246-e05e-732c7f454001",
        "colab": {
          "base_uri": "https://localhost:8080/",
          "height": 68
        }
      },
      "source": [
        "np.ones((3,2)) # 모두 1로 채워진 3행 2열 ndarray 생성"
      ],
      "execution_count": null,
      "outputs": [
        {
          "output_type": "execute_result",
          "data": {
            "text/plain": [
              "array([[1., 1.],\n",
              "       [1., 1.],\n",
              "       [1., 1.]])"
            ]
          },
          "metadata": {
            "tags": []
          },
          "execution_count": 40
        }
      ]
    },
    {
      "cell_type": "code",
      "metadata": {
        "id": "IE0N01oWLSMJ",
        "outputId": "72ecc2cb-a156-470d-cedd-b215a158cadc",
        "colab": {
          "base_uri": "https://localhost:8080/",
          "height": 34
        }
      },
      "source": [
        "np.ones_like(A) # A라는 ndarray와 모양은 같고 모두 1로 채워진 ndarray 생성"
      ],
      "execution_count": null,
      "outputs": [
        {
          "output_type": "execute_result",
          "data": {
            "text/plain": [
              "array([1, 1, 1, 1])"
            ]
          },
          "metadata": {
            "tags": []
          },
          "execution_count": 41
        }
      ]
    },
    {
      "cell_type": "code",
      "metadata": {
        "id": "SCScxbKILTPB",
        "outputId": "0464c3b9-6d4b-4855-9349-bb473877c838",
        "colab": {
          "base_uri": "https://localhost:8080/",
          "height": 68
        }
      },
      "source": [
        "np.zeros((3,2)) # 모두 0으로 채워진 3행 2열 ndarray 생성"
      ],
      "execution_count": null,
      "outputs": [
        {
          "output_type": "execute_result",
          "data": {
            "text/plain": [
              "array([[0., 0.],\n",
              "       [0., 0.],\n",
              "       [0., 0.]])"
            ]
          },
          "metadata": {
            "tags": []
          },
          "execution_count": 42
        }
      ]
    },
    {
      "cell_type": "code",
      "metadata": {
        "id": "epMufx52LUTB",
        "outputId": "f7849b21-a463-45ed-8529-9c91550a2f16",
        "colab": {
          "base_uri": "https://localhost:8080/",
          "height": 34
        }
      },
      "source": [
        "np.zeros_like(A) # A라는 ndarray와 모양은 같고 모두 0으로 채워진 ndarray 생성"
      ],
      "execution_count": null,
      "outputs": [
        {
          "output_type": "execute_result",
          "data": {
            "text/plain": [
              "array([0, 0, 0, 0])"
            ]
          },
          "metadata": {
            "tags": []
          },
          "execution_count": 43
        }
      ]
    },
    {
      "cell_type": "code",
      "metadata": {
        "id": "dMGsQjoqLVH5",
        "outputId": "cbd32c0b-3347-4b14-bcf9-378fa287ecdb",
        "colab": {
          "base_uri": "https://localhost:8080/",
          "height": 68
        }
      },
      "source": [
        "np.full((3,2), 10) # 모두 10으로 채워진 3행 2열 ndarray 생성"
      ],
      "execution_count": null,
      "outputs": [
        {
          "output_type": "execute_result",
          "data": {
            "text/plain": [
              "array([[10, 10],\n",
              "       [10, 10],\n",
              "       [10, 10]])"
            ]
          },
          "metadata": {
            "tags": []
          },
          "execution_count": 44
        }
      ]
    },
    {
      "cell_type": "code",
      "metadata": {
        "id": "-9xECmeaLWap",
        "outputId": "9d5e3f6e-89dd-49dc-ab2f-7d40e9d3f5d6",
        "colab": {
          "base_uri": "https://localhost:8080/",
          "height": 34
        }
      },
      "source": [
        "np.arange(10) # 0부터 9까지 순차적인 자연수로 ndarray를 생성"
      ],
      "execution_count": null,
      "outputs": [
        {
          "output_type": "execute_result",
          "data": {
            "text/plain": [
              "array([0, 1, 2, 3, 4, 5, 6, 7, 8, 9])"
            ]
          },
          "metadata": {
            "tags": []
          },
          "execution_count": 45
        }
      ]
    },
    {
      "cell_type": "markdown",
      "metadata": {
        "id": "9YTJ3iwDLYo-"
      },
      "source": [
        "## 넘파이 어레이 연산"
      ]
    },
    {
      "cell_type": "code",
      "metadata": {
        "id": "GPUNFGZqLXd5"
      },
      "source": [
        "np.random.seed(12)\n",
        "\n",
        "A = np.random.randint(0,9,4).reshape(2,2)\n",
        "B = np.random.randint(0,9,4).reshape(2,2)+1"
      ],
      "execution_count": null,
      "outputs": []
    },
    {
      "cell_type": "code",
      "metadata": {
        "id": "OtgN5PWJLaK5",
        "outputId": "8ded7bc1-b290-4d0e-c6fc-ecbace808766",
        "colab": {
          "base_uri": "https://localhost:8080/",
          "height": 51
        }
      },
      "source": [
        "A"
      ],
      "execution_count": null,
      "outputs": [
        {
          "output_type": "execute_result",
          "data": {
            "text/plain": [
              "array([[6, 1],\n",
              "       [2, 3]])"
            ]
          },
          "metadata": {
            "tags": []
          },
          "execution_count": 47
        }
      ]
    },
    {
      "cell_type": "code",
      "metadata": {
        "id": "OAiCTi1DLa-X",
        "outputId": "57abae44-bec7-448e-f99f-336eb9f48645",
        "colab": {
          "base_uri": "https://localhost:8080/",
          "height": 51
        }
      },
      "source": [
        "B"
      ],
      "execution_count": null,
      "outputs": [
        {
          "output_type": "execute_result",
          "data": {
            "text/plain": [
              "array([[4, 1],\n",
              "       [7, 2]])"
            ]
          },
          "metadata": {
            "tags": []
          },
          "execution_count": 48
        }
      ]
    },
    {
      "cell_type": "code",
      "metadata": {
        "id": "lNF1fvv_LcMB",
        "outputId": "2aa45291-3a08-4464-d63c-3b6e3460403e",
        "colab": {
          "base_uri": "https://localhost:8080/",
          "height": 51
        }
      },
      "source": [
        "A+B"
      ],
      "execution_count": null,
      "outputs": [
        {
          "output_type": "execute_result",
          "data": {
            "text/plain": [
              "array([[10,  2],\n",
              "       [ 9,  5]])"
            ]
          },
          "metadata": {
            "tags": []
          },
          "execution_count": 49
        }
      ]
    },
    {
      "cell_type": "code",
      "metadata": {
        "id": "TfsA1MNVLdvy",
        "outputId": "371f357c-605d-402f-970f-582877ff8297",
        "colab": {
          "base_uri": "https://localhost:8080/",
          "height": 51
        }
      },
      "source": [
        "A-B"
      ],
      "execution_count": null,
      "outputs": [
        {
          "output_type": "execute_result",
          "data": {
            "text/plain": [
              "array([[ 2,  0],\n",
              "       [-5,  1]])"
            ]
          },
          "metadata": {
            "tags": []
          },
          "execution_count": 50
        }
      ]
    },
    {
      "cell_type": "code",
      "metadata": {
        "id": "8Iy8VYMELeuh",
        "outputId": "55181827-f535-464b-bf53-ff30a4f2bfa0",
        "colab": {
          "base_uri": "https://localhost:8080/",
          "height": 51
        }
      },
      "source": [
        "A/B"
      ],
      "execution_count": null,
      "outputs": [
        {
          "output_type": "execute_result",
          "data": {
            "text/plain": [
              "array([[1.5   , 1.    ],\n",
              "       [0.2857, 1.5   ]])"
            ]
          },
          "metadata": {
            "tags": []
          },
          "execution_count": 51
        }
      ]
    },
    {
      "cell_type": "code",
      "metadata": {
        "id": "pcBVrcoZLfnZ",
        "outputId": "6b6efc69-5451-43a3-cca5-a4f425aa0cfd",
        "colab": {
          "base_uri": "https://localhost:8080/",
          "height": 51
        }
      },
      "source": [
        "A*B"
      ],
      "execution_count": null,
      "outputs": [
        {
          "output_type": "execute_result",
          "data": {
            "text/plain": [
              "array([[24,  1],\n",
              "       [14,  6]])"
            ]
          },
          "metadata": {
            "tags": []
          },
          "execution_count": 52
        }
      ]
    },
    {
      "cell_type": "code",
      "metadata": {
        "id": "4zyGN1p8Lgmx",
        "outputId": "39491693-f955-49ee-86b0-cc290120091e",
        "colab": {
          "base_uri": "https://localhost:8080/",
          "height": 51
        }
      },
      "source": [
        "np.dot(A,B)"
      ],
      "execution_count": null,
      "outputs": [
        {
          "output_type": "execute_result",
          "data": {
            "text/plain": [
              "array([[31,  8],\n",
              "       [29,  8]])"
            ]
          },
          "metadata": {
            "tags": []
          },
          "execution_count": 53
        }
      ]
    },
    {
      "cell_type": "code",
      "metadata": {
        "id": "Td58RvlGLhdB"
      },
      "source": [
        "def cube2d2(ax, origin, dx=1, dy=1, dc=0.1, label='', fc=10, la=1.0, \n",
        "            hidden=(None,), **kwargs):\n",
        "    x0, y0 = origin\n",
        "    \n",
        "    if 'F' not in hidden : # hidden !='F':\n",
        "        ax.plot((x0, x0+dx), (y0, y0), **kwargs)                   # F,아래쪽\n",
        "        if 'L' not in hidden : #hidden!='L':\n",
        "            ax.plot((x0, x0), (y0+dy, y0), **kwargs)               # F, 왼쪽\n",
        "        if 'U' not in hidden : #hidden!='U':\n",
        "            ax.plot((x0+dx, x0), (y0+dy, y0+dy), **kwargs)         # F, 위쪽\n",
        "        if 'R' not in hidden :# hidden!='R':\n",
        "            ax.plot((x0+dx, x0+dx), (y0, y0+dy), **kwargs)         # F, 오른쪽\n",
        "    \n",
        "    if 'U' not in hidden : # hidden!='U':\n",
        "        ax.plot((x0+dc, x0+dx+dc), (y0+dy+dc, y0+dy+dc), **kwargs)     # U, 위쪽\n",
        "        if 'L' not in hidden : # hidden!='L':\n",
        "            ax.plot((x0, x0+dc), (y0+dy, y0+dy+dc), **kwargs)          # U, 왼쪽\n",
        "        if 'R' not in hidden : # hidden!='R':\n",
        "            ax.plot((x0+dx, x0+dx+dc), (y0+dy, y0+dy+dc), **kwargs)    # U, 오른쪽\n",
        "    \n",
        "    if 'R+' not in hidden and 'R' not in hidden : # hidden!='R':\n",
        "        ax.plot((x0+dx, x0+dx+dc), (y0, y0+dc), **kwargs)          # R, 아래쪽\n",
        "        ax.plot((x0+dx+dc, x0+dx+dc), (y0+dy+dc, y0+dc), **kwargs) # R, 오른쪽\n",
        "    \n",
        "    ax.text(x0 + 0.5 * dx, y0 + 0.5 * dy, label,\n",
        "            ha='center', va='center', fontsize=fc, alpha=la)\n",
        "    \n",
        "box_solid  = dict(c='k', lw=2, alpha=1.0,)\n",
        "box_gray   = dict(c='k', lw=2, alpha=0.2,)"
      ],
      "execution_count": null,
      "outputs": []
    },
    {
      "cell_type": "markdown",
      "metadata": {
        "id": "1FWuS9OFLkUS"
      },
      "source": [
        "## 그림 7-11"
      ]
    },
    {
      "cell_type": "code",
      "metadata": {
        "id": "AZHbbn1TLi0R",
        "outputId": "c111a07f-7308-4f12-a794-59eacff3b6f4",
        "colab": {
          "base_uri": "https://localhost:8080/",
          "height": 303
        }
      },
      "source": [
        "fig = plt.figure(figsize=(16,5))\n",
        "\n",
        "np.random.seed(1)\n",
        "\n",
        "ax1 = fig.add_subplot(141, projection='3d')\n",
        "ax2 = fig.add_subplot(142, projection='3d')\n",
        "ax3 = fig.add_subplot(143, projection='3d')\n",
        "\n",
        "k = 2.3\n",
        "rx, ry = 2, 2\n",
        "axis_length = 8\n",
        "\n",
        "###############################################################################################\n",
        "offset_x, offset_y, offset_z = -3, -2, 1.5\n",
        "d = 5\n",
        "i = 0\n",
        "j = 2\n",
        "for i in range(3):\n",
        "    text3d(ax1, (i*k+offset_x+.6, d+offset_z, j*k+offset_y+.4), \"{}\".format(np.random.randint(10)), \n",
        "           zdir=\"y\", size=1.5, usetex=True, ec=\"k\", fc=\"#FFFFFF\")\n",
        "    bottom, left = i*k+offset_x, j*k+offset_y\n",
        "    rect = Rectangle((bottom, left), rx, ry, alpha=.8, facecolor='gray', edgecolor='k')\n",
        "    ax1.add_patch(rect)\n",
        "    art3d.pathpatch_2d_to_3d(rect, z=d+offset_z, zdir='y')\n",
        "\n",
        "axis0 = Arrow3D([offset_x-0.5, offset_x-0.5+axis_length], [d+offset_z, d+offset_z], [d, d], \n",
        "                mutation_scale=20, lw=1, arrowstyle=\"-|>\", color=\"k\")\n",
        "ax1.add_artist(axis0)\n",
        "\n",
        "ax1.text(offset_x-1+axis_length/2, d+offset_z, d+0.3, \"0\", fontsize=15)\n",
        "\n",
        "ax1.set_xlim(0, 7)\n",
        "ax1.set_ylim(0, 7)\n",
        "ax1.set_zlim(0, 7)\n",
        "ax1.set_xlabel('x')\n",
        "ax1.view_init(20, -50)\n",
        "# ax1.view_init(0, -90)\n",
        "ax1.set_title(\"1D tensor: vector\", fontsize=18)\n",
        "ax1.axis('off')\n",
        "###############################################################################################\n",
        "\n",
        "###############################################################################################\n",
        "offset_x, offset_y, offset_z = -1, 0, 1.5\n",
        "d = 3\n",
        "for i in range(3):\n",
        "    for j in range(3):\n",
        "        text3d(ax2, (i*k+offset_x+.6, d+offset_z, j*k+offset_y+.4), \"{}\".format(np.random.randint(10)), \n",
        "               zdir=\"y\", size=1.5, usetex=True, ec=\"k\", fc=\"#FFFFFF\")\n",
        "        bottom, left = i*k+offset_x, j*k+offset_y\n",
        "        rect = Rectangle((bottom, left), rx, ry, alpha=.8, facecolor='gray', edgecolor='k')\n",
        "        ax2.add_patch(rect)\n",
        "        art3d.pathpatch_2d_to_3d(rect, z=d+offset_z, zdir='y')\n",
        "\n",
        "axis0 = Arrow3D([offset_x-0.5, offset_x-0.5], [left, left], [d+axis_length/2, d-axis_length/2], \n",
        "                mutation_scale=20, lw=1, arrowstyle=\"-|>\", color=\"k\")\n",
        "ax2.add_artist(axis0)\n",
        "ax2.text(offset_x-2, left, d, \"0\", fontsize=15)\n",
        "\n",
        "axis1 = Arrow3D([offset_x-0.5, offset_x-0.5+axis_length], [left, left], [d+axis_length/2, d+axis_length/2], \n",
        "                mutation_scale=20, lw=1, arrowstyle=\"-|>\", color=\"k\")\n",
        "ax2.add_artist(axis1)\n",
        "ax2.text(offset_x-1+axis_length/2, left, d+axis_length/2+0.3, \"1\", fontsize=15)\n",
        "\n",
        "\n",
        "ax2.set_xlim(0, 7)\n",
        "ax2.set_ylim(0, 7)\n",
        "ax2.set_zlim(0, 7)\n",
        "ax2.view_init(20, -50)\n",
        "# ax2.view_init(0, -90)\n",
        "ax2.set_title(\"2D tensor: matrix\", fontsize=18)\n",
        "ax2.axis('off')\n",
        "###############################################################################################\n",
        "\n",
        "###############################################################################################\n",
        "offset_x, offset_y, offset_z = 0, 0, 1.5\n",
        "\n",
        "for d in range(0, 5, 2):\n",
        "    for i in range(3):\n",
        "        for j in range(3):\n",
        "            text3d(ax3, (i*k+offset_x+.6, d+offset_z, j*k+offset_y+.4), \"{}\".format(np.random.randint(10)), \n",
        "                   zdir=\"y\", size=1.5, usetex=True, ec=\"k\", fc=\"#FFFFFF\")\n",
        "            bottom, left = i*k+offset_x, j*k+offset_y\n",
        "            rect = Rectangle((bottom, left), rx, ry, alpha=.8, facecolor='gray', edgecolor='k')\n",
        "            ax3.add_patch(rect)\n",
        "            art3d.pathpatch_2d_to_3d(rect, z=d+offset_z, zdir='y')\n",
        "\n",
        "\n",
        "axis0 = Arrow3D([offset_x-0.5, offset_x-0.5], [0+offset_z, 0+offset_z+5], [3+axis_length/2, 3+axis_length/2], \n",
        "                mutation_scale=20, lw=1, arrowstyle=\"-|>\", color=\"k\", zorder=10)\n",
        "ax3.add_artist(axis0)\n",
        "ax3.text(offset_x, offset_z+1, 3.8+axis_length/2, \"0\", fontsize=15)\n",
        "\n",
        "axis1 = Arrow3D([offset_x-0.5, offset_x-0.5], [0+offset_z, 0+offset_z], [3+axis_length/2, 3-axis_length/2], \n",
        "                mutation_scale=20, lw=1, arrowstyle=\"-|>\", color=\"k\", zorder=10)\n",
        "ax3.add_artist(axis1)\n",
        "ax3.text(offset_x-0.5, 0, 3.5, \"1\", fontsize=15)\n",
        "\n",
        "axis2 = Arrow3D([offset_x, offset_x+axis_length], [0+offset_z, 0+offset_z], [0-0.5, 0-0.5], \n",
        "                mutation_scale=20, lw=1, arrowstyle=\"-|>\", color=\"k\", zorder=10)\n",
        "ax3.add_artist(axis2)\n",
        "ax3.text(offset_x+0.5+axis_length/2, -1, 0, \"2\", fontsize=15)\n",
        "\n",
        "ax3.set_xlim(0, 7)\n",
        "ax3.set_ylim(0, 7)\n",
        "ax3.set_zlim(0, 7)\n",
        "ax3.view_init(20, -50)\n",
        "# ax3.view_init(0, 0)\n",
        "ax3.set_title(\"3D tensor\", fontsize=18)\n",
        "ax3.axis('off')\n",
        "###############################################################################################\n",
        "\n",
        "plt.subplots_adjust(hspace=0.05, wspace=0.0)\n",
        "\n",
        "if file_print == True :\n",
        "    fig.savefig(\"imgs/chap7/fig7-11.png\", dpi=300, bbox_inches='tight')\n",
        "    fig.savefig(\"imgs/chap7/fig7-11.pdf\", format='pdf', bbox_inches='tight')\n",
        "    \n",
        "plt.show()"
      ],
      "execution_count": null,
      "outputs": [
        {
          "output_type": "display_data",
          "data": {
            "image/png": "[encoded data removed]",
            "text/plain": [
              "<Figure size 1152x360 with 3 Axes>"
            ]
          },
          "metadata": {
            "tags": [],
            "needs_background": "light"
          }
        }
      ]
    },
    {
      "cell_type": "markdown",
      "metadata": {
        "id": "kp-rZV2bLno5"
      },
      "source": [
        "### 축 순서 바꾸기"
      ]
    },
    {
      "cell_type": "code",
      "metadata": {
        "id": "1vRirQE-Llc2",
        "outputId": "90afa503-f607-4062-ea57-0cc6f453cb29",
        "colab": {
          "base_uri": "https://localhost:8080/",
          "height": 51
        }
      },
      "source": [
        "A = np.arange(1, 7).reshape(2, 3) \n",
        "A\n"
      ],
      "execution_count": null,
      "outputs": [
        {
          "output_type": "execute_result",
          "data": {
            "text/plain": [
              "array([[1, 2, 3],\n",
              "       [4, 5, 6]])"
            ]
          },
          "metadata": {
            "tags": []
          },
          "execution_count": 56
        }
      ]
    },
    {
      "cell_type": "code",
      "metadata": {
        "id": "upIFlRAkLp-D",
        "outputId": "281f980d-e1c0-4b77-e5a6-97d5bfaaebfe",
        "colab": {
          "base_uri": "https://localhost:8080/",
          "height": 68
        }
      },
      "source": [
        "A.transpose(1, 0) "
      ],
      "execution_count": null,
      "outputs": [
        {
          "output_type": "execute_result",
          "data": {
            "text/plain": [
              "array([[1, 4],\n",
              "       [2, 5],\n",
              "       [3, 6]])"
            ]
          },
          "metadata": {
            "tags": []
          },
          "execution_count": 57
        }
      ]
    },
    {
      "cell_type": "code",
      "metadata": {
        "id": "3qT-OEiaLqup",
        "outputId": "7ecfde0a-f585-4b46-ce2d-f3b7087b0d63",
        "colab": {
          "base_uri": "https://localhost:8080/",
          "height": 102
        }
      },
      "source": [
        "A = np.arange(1, 13).reshape(2, 2, -1)\n",
        "A"
      ],
      "execution_count": null,
      "outputs": [
        {
          "output_type": "execute_result",
          "data": {
            "text/plain": [
              "array([[[ 1,  2,  3],\n",
              "        [ 4,  5,  6]],\n",
              "\n",
              "       [[ 7,  8,  9],\n",
              "        [10, 11, 12]]])"
            ]
          },
          "metadata": {
            "tags": []
          },
          "execution_count": 58
        }
      ]
    },
    {
      "cell_type": "code",
      "metadata": {
        "id": "1-nEfwcfLrhy",
        "outputId": "3b5d070e-6fd9-48b2-cf20-ae81df24ce54",
        "colab": {
          "base_uri": "https://localhost:8080/",
          "height": 153
        }
      },
      "source": [
        "A.T"
      ],
      "execution_count": null,
      "outputs": [
        {
          "output_type": "execute_result",
          "data": {
            "text/plain": [
              "array([[[ 1,  7],\n",
              "        [ 4, 10]],\n",
              "\n",
              "       [[ 2,  8],\n",
              "        [ 5, 11]],\n",
              "\n",
              "       [[ 3,  9],\n",
              "        [ 6, 12]]])"
            ]
          },
          "metadata": {
            "tags": []
          },
          "execution_count": 59
        }
      ]
    },
    {
      "cell_type": "code",
      "metadata": {
        "id": "nAwA0uNTLshx",
        "outputId": "369da2c7-82a3-40e1-faf8-2d07e947a2f4",
        "colab": {
          "base_uri": "https://localhost:8080/",
          "height": 102
        }
      },
      "source": [
        "A = np.arange(1, 13).reshape(2, 2, -1)\n",
        "A.transpose(1,0,2)\n"
      ],
      "execution_count": null,
      "outputs": [
        {
          "output_type": "execute_result",
          "data": {
            "text/plain": [
              "array([[[ 1,  2,  3],\n",
              "        [ 7,  8,  9]],\n",
              "\n",
              "       [[ 4,  5,  6],\n",
              "        [10, 11, 12]]])"
            ]
          },
          "metadata": {
            "tags": []
          },
          "execution_count": 60
        }
      ]
    },
    {
      "cell_type": "markdown",
      "metadata": {
        "id": "luhl6E_RLvaF"
      },
      "source": [
        "## 인덱싱"
      ]
    },
    {
      "cell_type": "code",
      "metadata": {
        "id": "gppUdnfSLt3Z",
        "outputId": "faee0f78-01b7-429f-92a4-0fe73a083fad",
        "colab": {
          "base_uri": "https://localhost:8080/",
          "height": 102
        }
      },
      "source": [
        "A = np.arange(30).reshape(5,6)\n",
        "A\n"
      ],
      "execution_count": null,
      "outputs": [
        {
          "output_type": "execute_result",
          "data": {
            "text/plain": [
              "array([[ 0,  1,  2,  3,  4,  5],\n",
              "       [ 6,  7,  8,  9, 10, 11],\n",
              "       [12, 13, 14, 15, 16, 17],\n",
              "       [18, 19, 20, 21, 22, 23],\n",
              "       [24, 25, 26, 27, 28, 29]])"
            ]
          },
          "metadata": {
            "tags": []
          },
          "execution_count": 61
        }
      ]
    },
    {
      "cell_type": "code",
      "metadata": {
        "id": "JTlcQQV1LwnS",
        "outputId": "4e23f69f-7dd6-4650-91a4-56e2ac3f5057",
        "colab": {
          "base_uri": "https://localhost:8080/",
          "height": 34
        }
      },
      "source": [
        "A[0,2]"
      ],
      "execution_count": null,
      "outputs": [
        {
          "output_type": "execute_result",
          "data": {
            "text/plain": [
              "2"
            ]
          },
          "metadata": {
            "tags": []
          },
          "execution_count": 62
        }
      ]
    },
    {
      "cell_type": "code",
      "metadata": {
        "id": "DV8_8iSbLxYB",
        "outputId": "1d62836f-27c7-45d7-83e4-d5fa162164f5",
        "colab": {
          "base_uri": "https://localhost:8080/",
          "height": 34
        }
      },
      "source": [
        "A[2,3]"
      ],
      "execution_count": null,
      "outputs": [
        {
          "output_type": "execute_result",
          "data": {
            "text/plain": [
              "15"
            ]
          },
          "metadata": {
            "tags": []
          },
          "execution_count": 63
        }
      ]
    },
    {
      "cell_type": "code",
      "metadata": {
        "id": "odPr5Nw-LyYJ",
        "outputId": "041dd421-f1f6-42fd-ca50-9a6d30c40a6e",
        "colab": {
          "base_uri": "https://localhost:8080/",
          "height": 102
        }
      },
      "source": [
        "A[:, 0::2]"
      ],
      "execution_count": null,
      "outputs": [
        {
          "output_type": "execute_result",
          "data": {
            "text/plain": [
              "array([[ 0,  2,  4],\n",
              "       [ 6,  8, 10],\n",
              "       [12, 14, 16],\n",
              "       [18, 20, 22],\n",
              "       [24, 26, 28]])"
            ]
          },
          "metadata": {
            "tags": []
          },
          "execution_count": 64
        }
      ]
    },
    {
      "cell_type": "code",
      "metadata": {
        "id": "AkvRlns-LzUx",
        "outputId": "a9628872-caa2-48d1-eb13-0a2b7fcf8484",
        "colab": {
          "base_uri": "https://localhost:8080/",
          "height": 34
        }
      },
      "source": [
        "np.array([A[0,1], A[1,2], A[2,3], A[3,1], A[4,0]])"
      ],
      "execution_count": null,
      "outputs": [
        {
          "output_type": "execute_result",
          "data": {
            "text/plain": [
              "array([ 1,  8, 15, 19, 24])"
            ]
          },
          "metadata": {
            "tags": []
          },
          "execution_count": 65
        }
      ]
    },
    {
      "cell_type": "code",
      "metadata": {
        "id": "QytnFdm_L0GM",
        "outputId": "8f883451-e850-4559-9d22-766a78714247",
        "colab": {
          "base_uri": "https://localhost:8080/",
          "height": 34
        }
      },
      "source": [
        "A[[0,1,2,3,4], [1,2,3,1,0]] # A[np.arange(4), [1,2,3,1,0]]"
      ],
      "execution_count": null,
      "outputs": [
        {
          "output_type": "execute_result",
          "data": {
            "text/plain": [
              "array([ 1,  8, 15, 19, 24])"
            ]
          },
          "metadata": {
            "tags": []
          },
          "execution_count": 66
        }
      ]
    },
    {
      "cell_type": "code",
      "metadata": {
        "id": "0-gUjZNNL04Z",
        "outputId": "e5a83383-700f-48b9-a432-ac99bcbfa92f",
        "colab": {
          "base_uri": "https://localhost:8080/",
          "height": 102
        }
      },
      "source": [
        "A > 20"
      ],
      "execution_count": null,
      "outputs": [
        {
          "output_type": "execute_result",
          "data": {
            "text/plain": [
              "array([[False, False, False, False, False, False],\n",
              "       [False, False, False, False, False, False],\n",
              "       [False, False, False, False, False, False],\n",
              "       [False, False, False,  True,  True,  True],\n",
              "       [ True,  True,  True,  True,  True,  True]])"
            ]
          },
          "metadata": {
            "tags": []
          },
          "execution_count": 67
        }
      ]
    },
    {
      "cell_type": "code",
      "metadata": {
        "id": "pqdJ-voQL15Z",
        "outputId": "7543aca7-b2cd-447e-b8f4-6007592cb58b",
        "colab": {
          "base_uri": "https://localhost:8080/",
          "height": 34
        }
      },
      "source": [
        "A[A > 20]"
      ],
      "execution_count": null,
      "outputs": [
        {
          "output_type": "execute_result",
          "data": {
            "text/plain": [
              "array([21, 22, 23, 24, 25, 26, 27, 28, 29])"
            ]
          },
          "metadata": {
            "tags": []
          },
          "execution_count": 68
        }
      ]
    },
    {
      "cell_type": "markdown",
      "metadata": {
        "id": "8ZSO_NQrL4Zt"
      },
      "source": [
        "## 브로드캐스팅"
      ]
    },
    {
      "cell_type": "code",
      "metadata": {
        "id": "DTneFH5DL2sy",
        "outputId": "faa76ba2-6972-400b-aa2a-7ea8a7775a2b",
        "colab": {
          "base_uri": "https://localhost:8080/",
          "height": 34
        }
      },
      "source": [
        "A = np.array([1,2,3])\n",
        "A * 2\n"
      ],
      "execution_count": null,
      "outputs": [
        {
          "output_type": "execute_result",
          "data": {
            "text/plain": [
              "array([2, 4, 6])"
            ]
          },
          "metadata": {
            "tags": []
          },
          "execution_count": 69
        }
      ]
    },
    {
      "cell_type": "markdown",
      "metadata": {
        "id": "o3yu5rKZL7EC"
      },
      "source": [
        "## 그림 7-12"
      ]
    },
    {
      "cell_type": "code",
      "metadata": {
        "id": "PPtpawldL5up",
        "outputId": "e4215577-d8f3-48ba-fc4f-29966842b6c4",
        "colab": {
          "base_uri": "https://localhost:8080/",
          "height": 248
        }
      },
      "source": [
        "fig = plt.figure(figsize=(12,4))\n",
        "ax = fig.add_subplot(1, 1, 1)\n",
        "\n",
        "cube2d2(ax, (0,0),   0.1, 0.1, 0.05, '1', 40, 1.0, hidden=('R',), **box_solid)\n",
        "cube2d2(ax, (0.1,0), 0.1, 0.1, 0.05, '2', 40, 1.0, hidden=('R',), **box_solid)\n",
        "cube2d2(ax, (0.2,0), 0.1, 0.1, 0.05, '3', 40, 1.0, hidden=(None,), **box_solid)\n",
        "\n",
        "ax.text(.42, .08, r'$\\times$', ha='center', va='center', fontsize=30)\n",
        "\n",
        "b_pos = 0.5\n",
        "cube2d2(ax, (0+b_pos,0),   0.1, 0.1, 0.05, '2', 40, 1.0, hidden=('R',), **box_gray)\n",
        "cube2d2(ax, (0.1+b_pos,0), 0.1, 0.1, 0.05, '2', 40, 0.2, hidden=('R',), **box_gray)\n",
        "cube2d2(ax, (0.2+b_pos,0), 0.1, 0.1, 0.05, '2', 40, 0.2, **box_gray)\n",
        "\n",
        "ax.text(.92, .08, '=', ha='center', va='center', fontsize=30)\n",
        "\n",
        "cube2d2(ax, (0+b_pos*2,0),   0.1, 0.1, 0.05, '2', 40, 1.0, hidden=('R',), **box_solid)\n",
        "cube2d2(ax, (0.1+b_pos*2,0), 0.1, 0.1, 0.05, '4', 40, 1.0, hidden=('R',), **box_solid)\n",
        "cube2d2(ax, (0.2+b_pos*2,0), 0.1, 0.1, 0.05, '6', 40, 1.0, **box_solid)\n",
        "\n",
        "ax.axis('off')\n",
        "ax.axis('equal')\n",
        "\n",
        "if file_print == True :\n",
        "    fig.savefig(\"imgs/chap7/fig7-12.png\", dpi=300, bbox_inches='tight')\n",
        "    fig.savefig(\"imgs/chap7/fig7-12.pdf\", format='pdf', bbox_inches='tight')\n",
        "    \n",
        "plt.show()"
      ],
      "execution_count": null,
      "outputs": [
        {
          "output_type": "display_data",
          "data": {
            "image/png": "[encoded data removed]",
            "text/plain": [
              "<Figure size 864x288 with 1 Axes>"
            ]
          },
          "metadata": {
            "tags": [],
            "needs_background": "light"
          }
        }
      ]
    },
    {
      "cell_type": "code",
      "metadata": {
        "id": "k1H0bp-nMA1F"
      },
      "source": [
        "np.random.seed(2)\n",
        "\n",
        "m, n = 4, 3\n",
        "A = np.random.randint(0, 10, m*n).reshape(m,n)\n",
        "b = np.random.randint(0, 10, n)"
      ],
      "execution_count": null,
      "outputs": []
    },
    {
      "cell_type": "code",
      "metadata": {
        "id": "cbClEC2-L8UR",
        "outputId": "3a9af4d9-a752-4ba8-c4cb-e97add534dc6",
        "colab": {
          "base_uri": "https://localhost:8080/",
          "height": 85
        }
      },
      "source": [
        "A"
      ],
      "execution_count": null,
      "outputs": [
        {
          "output_type": "execute_result",
          "data": {
            "text/plain": [
              "array([[8, 8, 6],\n",
              "       [2, 8, 7],\n",
              "       [2, 1, 5],\n",
              "       [4, 4, 5]])"
            ]
          },
          "metadata": {
            "tags": []
          },
          "execution_count": 72
        }
      ]
    },
    {
      "cell_type": "code",
      "metadata": {
        "id": "QTS4GJ4lMClB",
        "outputId": "93ba4078-050a-4c53-8216-60039bc37449",
        "colab": {
          "base_uri": "https://localhost:8080/",
          "height": 34
        }
      },
      "source": [
        "b"
      ],
      "execution_count": null,
      "outputs": [
        {
          "output_type": "execute_result",
          "data": {
            "text/plain": [
              "array([7, 3, 6])"
            ]
          },
          "metadata": {
            "tags": []
          },
          "execution_count": 73
        }
      ]
    },
    {
      "cell_type": "code",
      "metadata": {
        "id": "3TW49JlgMDSh",
        "outputId": "528ef16e-9457-4b5c-df38-efd35be20158",
        "colab": {
          "base_uri": "https://localhost:8080/",
          "height": 85
        }
      },
      "source": [
        "A*b"
      ],
      "execution_count": null,
      "outputs": [
        {
          "output_type": "execute_result",
          "data": {
            "text/plain": [
              "array([[56, 24, 36],\n",
              "       [14, 24, 42],\n",
              "       [14,  3, 30],\n",
              "       [28, 12, 30]])"
            ]
          },
          "metadata": {
            "tags": []
          },
          "execution_count": 74
        }
      ]
    },
    {
      "cell_type": "markdown",
      "metadata": {
        "id": "UflJ6MKaMFct"
      },
      "source": [
        "## 그림 7-13"
      ]
    },
    {
      "cell_type": "code",
      "metadata": {
        "id": "r0JVyAh7MEJ5",
        "outputId": "b23604d5-01a6-43af-ce3a-486a4fddf8ba",
        "colab": {
          "base_uri": "https://localhost:8080/",
          "height": 303
        }
      },
      "source": [
        "fig = plt.figure(figsize=(16,5))\n",
        "ax = fig.add_subplot(1, 1, 1)\n",
        "\n",
        "dy = 0.1\n",
        "dx = 0.0\n",
        "for j in range(m) :\n",
        "    for i in range(n):\n",
        "        if i < n-1 :\n",
        "            if j < m-1 :\n",
        "                cube2d2(ax, (0+dy*i+dx,   0+dy*j), 0.1, 0.1, 0.05, A[::-1,:][j,i], 40, 1.0, hidden=('R', 'U'), **box_solid)\n",
        "            else :\n",
        "                cube2d2(ax, (0+dy*i+dx,   0+dy*j), 0.1, 0.1, 0.05, A[::-1,:][j,i], 40, 1.0, hidden=('R',), **box_solid)\n",
        "        else :    \n",
        "            if j < m-1 :\n",
        "                cube2d2(ax, (0+dy*i+dx, 0+dy*j), 0.1, 0.1, 0.05, A[::-1,:][j,i], 40, 1.0, hidden=('U',), **box_solid)\n",
        "            else :\n",
        "                cube2d2(ax, (0+dy*i+dx, 0+dy*j), 0.1, 0.1, 0.05, A[::-1,:][j,i], 40, 1.0, hidden=(None,), **box_solid)    \n",
        "\n",
        "ax.text(.43, .22, r'$\\times$', ha='center', va='center', fontsize=30)\n",
        "\n",
        "dx = 0.5        \n",
        "for j in range(m) :\n",
        "    for i in range(n):\n",
        "        if i < n-1 :\n",
        "            if j < m-1 :\n",
        "                cube2d2(ax, (0+dy*i+dx,   0+dy*j), 0.1, 0.1, 0.05, b[i], 40, 0.2, hidden=('R', 'U'), **box_gray)\n",
        "            else :\n",
        "                cube2d2(ax, (0+dy*i+dx,   0+dy*j), 0.1, 0.1, 0.05, b[i], 40, 1.0, hidden=('R',), **box_solid)\n",
        "        else :\n",
        "            if j < m-1 :\n",
        "                cube2d2(ax, (0+dy*i+dx, 0+dy*j), 0.1, 0.1, 0.05, b[i], 40, 0.2, hidden=('U',), **box_gray)\n",
        "            else :\n",
        "                cube2d2(ax, (0+dy*i+dx, 0+dy*j), 0.1, 0.1, 0.05, b[i], 40, 1.0, hidden=(None,), **box_solid) \n",
        "\n",
        "ax.text(.93, .22, r'$=$', ha='center', va='center', fontsize=30)\n",
        "\n",
        "C = A*b\n",
        "dx = 1.0       \n",
        "for j in range(m) :\n",
        "    for i in range(n):\n",
        "        if i < n-1 :\n",
        "            if j < m-1 :\n",
        "                cube2d2(ax, (0+dy*i+dx,   0+dy*j), 0.1, 0.1, 0.05, C[::-1,:][j,i], 40, 1.0, hidden=('R', 'U'), **box_solid)\n",
        "            else :\n",
        "                cube2d2(ax, (0+dy*i+dx,   0+dy*j), 0.1, 0.1, 0.05, C[::-1,:][j,i], 40, 1.0, hidden=('R',), **box_solid)\n",
        "        else :    \n",
        "            if j < m-1 :\n",
        "                cube2d2(ax, (0+dy*i+dx, 0+dy*j), 0.1, 0.1, 0.05, C[::-1,:][j,i], 40, 1.0, hidden=('U',), **box_solid)\n",
        "            else :\n",
        "                cube2d2(ax, (0+dy*i+dx, 0+dy*j), 0.1, 0.1, 0.05, C[::-1,:][j,i], 40, 1.0, hidden=(None,), **box_solid)  \n",
        "                \n",
        "ax.axis('off')\n",
        "\n",
        "if file_print == True :\n",
        "    fig.savefig(\"imgs/chap7/fig7-13.png\", dpi=300, bbox_inches='tight')\n",
        "    fig.savefig(\"imgs/chap7/fig7-13.pdf\", format='pdf', bbox_inches='tight')\n",
        "    \n",
        "    \n",
        "plt.show()"
      ],
      "execution_count": null,
      "outputs": [
        {
          "output_type": "display_data",
          "data": {
            "image/png": "[encoded data removed]",
            "text/plain": [
              "<Figure size 1152x360 with 1 Axes>"
            ]
          },
          "metadata": {
            "tags": [],
            "needs_background": "light"
          }
        }
      ]
    },
    {
      "cell_type": "code",
      "metadata": {
        "id": "40zyKmbdMGqh"
      },
      "source": [
        "np.random.seed(3)\n",
        "\n",
        "m, n = 4, 3\n",
        "b = np.random.randint(0, 10, n+1)"
      ],
      "execution_count": null,
      "outputs": []
    },
    {
      "cell_type": "code",
      "metadata": {
        "id": "YKuQAQA9MJgZ",
        "outputId": "f40371d7-5944-4656-e382-984449f6420e",
        "colab": {
          "base_uri": "https://localhost:8080/",
          "height": 34
        }
      },
      "source": [
        "b"
      ],
      "execution_count": null,
      "outputs": [
        {
          "output_type": "execute_result",
          "data": {
            "text/plain": [
              "array([8, 9, 3, 8])"
            ]
          },
          "metadata": {
            "tags": []
          },
          "execution_count": 77
        }
      ]
    },
    {
      "cell_type": "markdown",
      "metadata": {
        "id": "iAbk4GJoMLzL"
      },
      "source": [
        "## 그림 7-14"
      ]
    },
    {
      "cell_type": "code",
      "metadata": {
        "id": "m0Gk8aSBMKdZ",
        "outputId": "078dfe45-0fa9-4eac-84c7-2fbe77bc7b28",
        "colab": {
          "base_uri": "https://localhost:8080/",
          "height": 303
        }
      },
      "source": [
        "fig = plt.figure(figsize=(12,5))\n",
        "ax = fig.add_subplot(1, 1, 1)\n",
        "\n",
        "dy = 0.1\n",
        "dx = 0.0\n",
        "for j in range(m) :\n",
        "    for i in range(n):\n",
        "        if i < n-1 :\n",
        "            if j < m-1 :\n",
        "                cube2d2(ax, (0+dy*i+dx,   0+dy*j), 0.1, 0.1, 0.05, A[::-1,:][j,i], 40, 1.0, hidden=('R', 'U'), **box_solid)\n",
        "            else :\n",
        "                cube2d2(ax, (0+dy*i+dx,   0+dy*j), 0.1, 0.1, 0.05, A[::-1,:][j,i], 40, 1.0, hidden=('R',), **box_solid)\n",
        "        else :    \n",
        "            if j < m-1 :\n",
        "                cube2d2(ax, (0+dy*i+dx, 0+dy*j), 0.1, 0.1, 0.05, A[::-1,:][j,i], 40, 1.0, hidden=('U',), **box_solid)\n",
        "            else :\n",
        "                cube2d2(ax, (0+dy*i+dx, 0+dy*j), 0.1, 0.1, 0.05, A[::-1,:][j,i], 40, 1.0, hidden=(None,), **box_solid)    \n",
        "\n",
        "ax.text(.43, .22, r'$\\times$', ha='center', va='center', fontsize=30)\n",
        "\n",
        "dx = 0.5        \n",
        "for j in range(m) :\n",
        "    for i in range(n+1):\n",
        "        if i < n+1-1 :\n",
        "            if j < m-1 :\n",
        "                cube2d2(ax, (0+dy*i+dx,   0+dy*j), 0.1, 0.1, 0.05, b[i], 40, 0.2, hidden=('R', 'U'), **box_gray)\n",
        "            else :\n",
        "                cube2d2(ax, (0+dy*i+dx,   0+dy*j), 0.1, 0.1, 0.05, b[i], 40, 1.0, hidden=('R',), **box_solid)\n",
        "        else :\n",
        "            if j < m-1 :\n",
        "                cube2d2(ax, (0+dy*i+dx, 0+dy*j), 0.1, 0.1, 0.05, b[i], 40, 0.2, hidden=('U',), **box_gray)\n",
        "            else :\n",
        "                cube2d2(ax, (0+dy*i+dx, 0+dy*j), 0.1, 0.1, 0.05, b[i], 40, 1.0, hidden=(None,), **box_solid) \n",
        "\n",
        "ax.axis('off')                \n",
        "\n",
        "if file_print == True :\n",
        "    fig.savefig(\"imgs/chap7/fig7-14.png\", dpi=300, bbox_inches='tight')\n",
        "    fig.savefig(\"imgs/chap7/fig7-14.pdf\", format='pdf', bbox_inches='tight')\n",
        "    \n",
        "plt.show()\n"
      ],
      "execution_count": null,
      "outputs": [
        {
          "output_type": "display_data",
          "data": {
            "image/png": "[encoded data removed]",
            "text/plain": [
              "<Figure size 864x360 with 1 Axes>"
            ]
          },
          "metadata": {
            "tags": [],
            "needs_background": "light"
          }
        }
      ]
    },
    {
      "cell_type": "code",
      "metadata": {
        "id": "uUKLpOYgMP9h",
        "outputId": "ce9ec78c-d53f-4218-af14-cd9d60a2515c",
        "colab": {
          "base_uri": "https://localhost:8080/",
          "height": 85
        }
      },
      "source": [
        "C = A * b[:, np.newaxis] #-----[1]\n",
        "C\n"
      ],
      "execution_count": null,
      "outputs": [
        {
          "output_type": "execute_result",
          "data": {
            "text/plain": [
              "array([[64, 64, 48],\n",
              "       [18, 72, 63],\n",
              "       [ 6,  3, 15],\n",
              "       [32, 32, 40]])"
            ]
          },
          "metadata": {
            "tags": []
          },
          "execution_count": 79
        }
      ]
    },
    {
      "cell_type": "markdown",
      "metadata": {
        "id": "RGwPXbBiMSuA"
      },
      "source": [
        "## 그림 7-15"
      ]
    },
    {
      "cell_type": "code",
      "metadata": {
        "id": "swIF7qo4MRna",
        "outputId": "0aefebe2-b59b-49ad-8ad8-53db01ee4ba0",
        "colab": {
          "base_uri": "https://localhost:8080/",
          "height": 303
        }
      },
      "source": [
        "fig = plt.figure(figsize=(16,5))\n",
        "ax = fig.add_subplot(1, 1, 1)\n",
        "\n",
        "dy = 0.1\n",
        "dx = 0.0\n",
        "for j in range(m) :\n",
        "    for i in range(n) :\n",
        "        if i < n-1 :\n",
        "            if j < m-1 :\n",
        "                cube2d2(ax, (0+dy*i+dx,   0+dy*j), 0.1, 0.1, 0.05, A[::-1,:][j,i], 40, 1.0, hidden=('R', 'U'), **box_solid)\n",
        "            else :\n",
        "                cube2d2(ax, (0+dy*i+dx,   0+dy*j), 0.1, 0.1, 0.05, A[::-1,:][j,i], 40, 1.0, hidden=('R',), **box_solid)\n",
        "        else :    \n",
        "            if j < m-1 :\n",
        "                cube2d2(ax, (0+dy*i+dx, 0+dy*j), 0.1, 0.1, 0.05, A[::-1,:][j,i], 40, 1.0, hidden=('U',), **box_solid)\n",
        "            else :\n",
        "                cube2d2(ax, (0+dy*i+dx, 0+dy*j), 0.1, 0.1, 0.05, A[::-1,:][j,i], 40, 1.0, hidden=(None,), **box_solid)    \n",
        "\n",
        "ax.text(.43, .22, r'$\\times$', ha='center', va='center', fontsize=30)\n",
        "\n",
        "dx = 0.5        \n",
        "for j in range(m) :\n",
        "    for i in range(n) :\n",
        "        if i == 0 :\n",
        "            style = box_solid\n",
        "            la = 1.0\n",
        "        else :\n",
        "            style = box_gray\n",
        "            la = 0.2\n",
        "        \n",
        "        if i < n-1 :\n",
        "            if j < m-1 :\n",
        "                if i == 0 :\n",
        "                    cube2d2(ax, (0+dy*i+dx,   0+dy*j), 0.1, 0.1, 0.05, b[::-1][j], 40, la, hidden=('R+', 'U'), **style)\n",
        "                else :\n",
        "                    cube2d2(ax, (0+dy*i+dx,   0+dy*j), 0.1, 0.1, 0.05, b[::-1][j], 40, la, hidden=('R', 'U'), **style)\n",
        "            else :\n",
        "                if i == 0 : \n",
        "                    cube2d2(ax, (0+dy*i+dx,   0+dy*j), 0.1, 0.1, 0.05, b[::-1][j], 40, la, hidden=('R+',), **style)\n",
        "                else :\n",
        "                    cube2d2(ax, (0+dy*i+dx,   0+dy*j), 0.1, 0.1, 0.05, b[::-1][j], 40, la, hidden=('R',), **style)\n",
        "        else :\n",
        "            if j < m-1 :\n",
        "                cube2d2(ax, (0+dy*i+dx, 0+dy*j), 0.1, 0.1, 0.05, b[::-1][j], 40, la, hidden=('U',), **style)\n",
        "            else :\n",
        "                cube2d2(ax, (0+dy*i+dx, 0+dy*j), 0.1, 0.1, 0.05, b[::-1][j], 40, la, hidden=(None,), **style) \n",
        "\n",
        "ax.text(.93, .22, r'$=$', ha='center', va='center', fontsize=30)\n",
        "\n",
        "C = A * b.reshape(-1,1)  \n",
        "dx = 1.0       \n",
        "for j in range(m) :\n",
        "    for i in range(n):\n",
        "        if i < n-1 :\n",
        "            if j < m-1 :\n",
        "                cube2d2(ax, (0+dy*i+dx,   0+dy*j), 0.1, 0.1, 0.05, C[::-1,:][j,i], 40, 1.0, hidden=('R', 'U'), **box_solid)\n",
        "            else :\n",
        "                cube2d2(ax, (0+dy*i+dx,   0+dy*j), 0.1, 0.1, 0.05, C[::-1,:][j,i], 40, 1.0, hidden=('R',), **box_solid)\n",
        "        else :    \n",
        "            if j < m-1 :\n",
        "                cube2d2(ax, (0+dy*i+dx, 0+dy*j), 0.1, 0.1, 0.05, C[::-1,:][j,i], 40, 1.0, hidden=('U',), **box_solid)\n",
        "            else :\n",
        "                cube2d2(ax, (0+dy*i+dx, 0+dy*j), 0.1, 0.1, 0.05, C[::-1,:][j,i], 40, 1.0, hidden=(None,), **box_solid)    \n",
        "\n",
        "ax.axis('off')\n",
        "\n",
        "if file_print == True :\n",
        "    fig.savefig(\"imgs/chap7/fig7-15.png\", dpi=300, bbox_inches='tight')\n",
        "    fig.savefig(\"imgs/chap7/fig7-15.pdf\", format='pdf', bbox_inches='tight')\n",
        "    \n",
        "plt.show()"
      ],
      "execution_count": null,
      "outputs": [
        {
          "output_type": "display_data",
          "data": {
            "image/png": "[encoded data removed]",
            "text/plain": [
              "<Figure size 1152x360 with 1 Axes>"
            ]
          },
          "metadata": {
            "tags": [],
            "needs_background": "light"
          }
        }
      ]
    },
    {
      "cell_type": "code",
      "metadata": {
        "id": "jdgsLuRLMT6Z",
        "outputId": "b9f10f38-7862-4d04-9ace-4981acddbcca",
        "colab": {
          "base_uri": "https://localhost:8080/",
          "height": 85
        }
      },
      "source": [
        "np.random.seed(11)\n",
        "\n",
        "m, n = 4, 3\n",
        "a = np.random.randint(0, 10, m).reshape(-1,1)\n",
        "b = np.random.randint(0, 10, n)\n",
        "\n",
        "a"
      ],
      "execution_count": null,
      "outputs": [
        {
          "output_type": "execute_result",
          "data": {
            "text/plain": [
              "array([[9],\n",
              "       [0],\n",
              "       [1],\n",
              "       [7]])"
            ]
          },
          "metadata": {
            "tags": []
          },
          "execution_count": 81
        }
      ]
    },
    {
      "cell_type": "code",
      "metadata": {
        "id": "nAV8F__rMVS6",
        "outputId": "4e2ef4de-f9bd-442d-d15d-cf5a1de3279d",
        "colab": {
          "base_uri": "https://localhost:8080/",
          "height": 34
        }
      },
      "source": [
        "b"
      ],
      "execution_count": null,
      "outputs": [
        {
          "output_type": "execute_result",
          "data": {
            "text/plain": [
              "array([1, 7, 2])"
            ]
          },
          "metadata": {
            "tags": []
          },
          "execution_count": 82
        }
      ]
    },
    {
      "cell_type": "code",
      "metadata": {
        "id": "P1k5OxBcMWwZ",
        "outputId": "6e529cb9-0768-4a4e-ca29-bf55950d8fcd",
        "colab": {
          "base_uri": "https://localhost:8080/",
          "height": 85
        }
      },
      "source": [
        "a*b"
      ],
      "execution_count": null,
      "outputs": [
        {
          "output_type": "execute_result",
          "data": {
            "text/plain": [
              "array([[ 9, 63, 18],\n",
              "       [ 0,  0,  0],\n",
              "       [ 1,  7,  2],\n",
              "       [ 7, 49, 14]])"
            ]
          },
          "metadata": {
            "tags": []
          },
          "execution_count": 83
        }
      ]
    },
    {
      "cell_type": "markdown",
      "metadata": {
        "id": "WYeD69jDMYrB"
      },
      "source": [
        "## 그림 7-16"
      ]
    },
    {
      "cell_type": "code",
      "metadata": {
        "id": "y3iia2pQMXqR",
        "outputId": "6bfff49c-a949-494d-a6a0-8e9b230dcd35",
        "colab": {
          "base_uri": "https://localhost:8080/",
          "height": 303
        }
      },
      "source": [
        "fig = plt.figure(figsize=(16,5))\n",
        "ax = fig.add_subplot(1, 1, 1)\n",
        "\n",
        "dy = 0.1\n",
        "dx = 0.0\n",
        "for j in range(m) :\n",
        "    for i in range(n) :\n",
        "        if i == 0 :\n",
        "            style = box_solid\n",
        "            la = 1.0\n",
        "        else :\n",
        "            style = box_gray\n",
        "            la = 0.2\n",
        "        \n",
        "        if i < n-1 :\n",
        "            if j < m-1 :\n",
        "                if i == 0 :\n",
        "                    cube2d2(ax, (0+dy*i+dx,   0+dy*j), 0.1, 0.1, 0.05, a[::-1][j,0], 40, la, hidden=('R+', 'U'), **style)\n",
        "                else :\n",
        "                    cube2d2(ax, (0+dy*i+dx,   0+dy*j), 0.1, 0.1, 0.05, a[::-1][j,0], 40, la, hidden=('R', 'U'), **style)\n",
        "            else :\n",
        "                if i == 0 : \n",
        "                    cube2d2(ax, (0+dy*i+dx,   0+dy*j), 0.1, 0.1, 0.05, a[::-1][j,0], 40, la, hidden=('R+',), **style)\n",
        "                else :\n",
        "                    cube2d2(ax, (0+dy*i+dx,   0+dy*j), 0.1, 0.1, 0.05, a[::-1][j,0], 40, la, hidden=('R',), **style)\n",
        "        else :\n",
        "            if j < m-1 :\n",
        "                cube2d2(ax, (0+dy*i+dx, 0+dy*j), 0.1, 0.1, 0.05, a[::-1][j,0], 40, la, hidden=('U',), **style)\n",
        "            else :\n",
        "                cube2d2(ax, (0+dy*i+dx, 0+dy*j), 0.1, 0.1, 0.05, a[::-1][j,0], 40, la, hidden=(None,), **style) \n",
        "ax.text(.43, .22, r'$\\times$', ha='center', va='center', fontsize=30)\n",
        "\n",
        "dx = 0.5        \n",
        "for j in range(m) :\n",
        "    for i in range(n):\n",
        "        if i < n-1 :\n",
        "            if j < m-1 :\n",
        "                cube2d2(ax, (0+dy*i+dx,   0+dy*j), 0.1, 0.1, 0.05, b[i], 40, 0.2, hidden=('R', 'U'), **box_gray)\n",
        "            else :\n",
        "                cube2d2(ax, (0+dy*i+dx,   0+dy*j), 0.1, 0.1, 0.05, b[i], 40, 1.0, hidden=('R',), **box_solid)\n",
        "        else :\n",
        "            if j < m-1 :\n",
        "                cube2d2(ax, (0+dy*i+dx, 0+dy*j), 0.1, 0.1, 0.05, b[i], 40, 0.2, hidden=('U',), **box_gray)\n",
        "            else :\n",
        "                cube2d2(ax, (0+dy*i+dx, 0+dy*j), 0.1, 0.1, 0.05, b[i], 40, 1.0, hidden=(None,), **box_solid) \n",
        "\n",
        "ax.text(.93, .22, r'$=$', ha='center', va='center', fontsize=30)\n",
        "\n",
        "C = a*b\n",
        "dx = 1.0       \n",
        "for j in range(m) :\n",
        "    for i in range(n):\n",
        "        if i < n-1 :\n",
        "            if j < m-1 :\n",
        "                cube2d2(ax, (0+dy*i+dx,   0+dy*j), 0.1, 0.1, 0.05, C[::-1,:][j,i], 40, 1.0, hidden=('R', 'U'), **box_solid)\n",
        "            else :\n",
        "                cube2d2(ax, (0+dy*i+dx,   0+dy*j), 0.1, 0.1, 0.05, C[::-1,:][j,i], 40, 1.0, hidden=('R',), **box_solid)\n",
        "        else :    \n",
        "            if j < m-1 :\n",
        "                cube2d2(ax, (0+dy*i+dx, 0+dy*j), 0.1, 0.1, 0.05, C[::-1,:][j,i], 40, 1.0, hidden=('U',), **box_solid)\n",
        "            else :\n",
        "                cube2d2(ax, (0+dy*i+dx, 0+dy*j), 0.1, 0.1, 0.05, C[::-1,:][j,i], 40, 1.0, hidden=(None,), **box_solid)    \n",
        "\n",
        "ax.axis('off')\n",
        "\n",
        "if file_print == True :\n",
        "    fig.savefig(\"imgs/chap7/fig7-16.png\", dpi=300, bbox_inches='tight')\n",
        "    fig.savefig(\"imgs/chap7/fig7-16.pdf\", format='pdf', bbox_inches='tight')\n",
        "    \n",
        "plt.show()"
      ],
      "execution_count": null,
      "outputs": [
        {
          "output_type": "display_data",
          "data": {
            "image/png": "[encoded data removed]",
            "text/plain": [
              "<Figure size 1152x360 with 1 Axes>"
            ]
          },
          "metadata": {
            "tags": [],
            "needs_background": "light"
          }
        }
      ]
    },
    {
      "cell_type": "markdown",
      "metadata": {
        "id": "0j4j-OR7MckM"
      },
      "source": [
        "# 행렬 곱셈의 해석"
      ]
    },
    {
      "cell_type": "markdown",
      "metadata": {
        "id": "lr_JDYGlMd25"
      },
      "source": [
        "## 행렬곱을 열조합으로 계산"
      ]
    },
    {
      "cell_type": "code",
      "metadata": {
        "id": "q8JHJtkQMa0R"
      },
      "source": [
        "np.random.seed(10)\n",
        "\n",
        "A = np.random.randint(0, 9, 12).reshape(4,3)\n",
        "b = np.random.randint(0, 9, 3).reshape(3,1)"
      ],
      "execution_count": null,
      "outputs": []
    },
    {
      "cell_type": "code",
      "metadata": {
        "id": "nsON0LkUMe-h",
        "outputId": "b01d91e8-1cee-4a2b-b577-3a4ac444bb14",
        "colab": {
          "base_uri": "https://localhost:8080/",
          "height": 85
        }
      },
      "source": [
        "A"
      ],
      "execution_count": null,
      "outputs": [
        {
          "output_type": "execute_result",
          "data": {
            "text/plain": [
              "array([[4, 0, 1],\n",
              "       [0, 1, 8],\n",
              "       [0, 8, 6],\n",
              "       [4, 3, 0]])"
            ]
          },
          "metadata": {
            "tags": []
          },
          "execution_count": 86
        }
      ]
    },
    {
      "cell_type": "code",
      "metadata": {
        "id": "fsEggubQMgEp",
        "outputId": "5ce546fe-eae3-4daf-f92a-61b8ec7137de",
        "colab": {
          "base_uri": "https://localhost:8080/",
          "height": 68
        }
      },
      "source": [
        "b"
      ],
      "execution_count": null,
      "outputs": [
        {
          "output_type": "execute_result",
          "data": {
            "text/plain": [
              "array([[4],\n",
              "       [6],\n",
              "       [8]])"
            ]
          },
          "metadata": {
            "tags": []
          },
          "execution_count": 87
        }
      ]
    },
    {
      "cell_type": "code",
      "metadata": {
        "id": "Ph4GY7R6Mg0r",
        "outputId": "d0b16824-3c76-459c-f593-a7c9a67d532e",
        "colab": {
          "base_uri": "https://localhost:8080/",
          "height": 85
        }
      },
      "source": [
        "C = np.dot(A,b)\n",
        "\n",
        "C"
      ],
      "execution_count": null,
      "outputs": [
        {
          "output_type": "execute_result",
          "data": {
            "text/plain": [
              "array([[24],\n",
              "       [70],\n",
              "       [96],\n",
              "       [34]])"
            ]
          },
          "metadata": {
            "tags": []
          },
          "execution_count": 88
        }
      ]
    },
    {
      "cell_type": "code",
      "metadata": {
        "id": "a3SKfuW7MhxZ",
        "outputId": "bc6fc355-2f28-4d32-d897-8a15dc5a635b",
        "colab": {
          "base_uri": "https://localhost:8080/",
          "height": 102
        }
      },
      "source": [
        "C_ = np.array([A[:,[i]]*b[i] for i in range(A.shape[1])])\n",
        "print(C_.shape)\n",
        "C_.sum(axis=0)"
      ],
      "execution_count": null,
      "outputs": [
        {
          "output_type": "stream",
          "text": [
            "(3, 4, 1)\n"
          ],
          "name": "stdout"
        },
        {
          "output_type": "execute_result",
          "data": {
            "text/plain": [
              "array([[24],\n",
              "       [70],\n",
              "       [96],\n",
              "       [34]])"
            ]
          },
          "metadata": {
            "tags": []
          },
          "execution_count": 89
        }
      ]
    },
    {
      "cell_type": "markdown",
      "metadata": {
        "id": "ly3PTXZQMkL7"
      },
      "source": [
        "### 이번엔 뒤가 행렬인 경우로 확장"
      ]
    },
    {
      "cell_type": "code",
      "metadata": {
        "id": "f5XLah1gMipp"
      },
      "source": [
        "B = np.random.randint(0, 9, 6).reshape(3,2)"
      ],
      "execution_count": null,
      "outputs": []
    },
    {
      "cell_type": "code",
      "metadata": {
        "id": "H-bqgGboMl-6",
        "outputId": "77405bda-f78b-4ebd-f9a8-665cdda19613",
        "colab": {
          "base_uri": "https://localhost:8080/",
          "height": 68
        }
      },
      "source": [
        "B"
      ],
      "execution_count": null,
      "outputs": [
        {
          "output_type": "execute_result",
          "data": {
            "text/plain": [
              "array([[1, 8],\n",
              "       [4, 1],\n",
              "       [3, 6]])"
            ]
          },
          "metadata": {
            "tags": []
          },
          "execution_count": 91
        }
      ]
    },
    {
      "cell_type": "code",
      "metadata": {
        "id": "ia8plVmzMnJi",
        "outputId": "c57edc42-bf37-42e7-a4a7-b249f61e10e3",
        "colab": {
          "base_uri": "https://localhost:8080/",
          "height": 85
        }
      },
      "source": [
        "C = np.dot(A,B)\n",
        "\n",
        "C"
      ],
      "execution_count": null,
      "outputs": [
        {
          "output_type": "execute_result",
          "data": {
            "text/plain": [
              "array([[ 7, 38],\n",
              "       [28, 49],\n",
              "       [50, 44],\n",
              "       [16, 35]])"
            ]
          },
          "metadata": {
            "tags": []
          },
          "execution_count": 92
        }
      ]
    },
    {
      "cell_type": "code",
      "metadata": {
        "id": "6HzS67O_MoLC",
        "outputId": "dfaf8d83-6e4d-4c6d-f2ba-11cef3a12623",
        "colab": {
          "base_uri": "https://localhost:8080/",
          "height": 136
        }
      },
      "source": [
        "C_ = np.array([ [A[:,[i]]*B[i,j] for i in range(A.shape[1]) ] for j in range(B.shape[1]) ])\n",
        "\n",
        "print(C_.shape)\n",
        "C_ = C_.transpose(1, 2, 0, 3)\n",
        "print(C_.shape)\n",
        "C_ = C_.sum(axis=0)\n",
        "print(C_.shape)\n",
        "C_.squeeze()"
      ],
      "execution_count": null,
      "outputs": [
        {
          "output_type": "stream",
          "text": [
            "(2, 3, 4, 1)\n",
            "(3, 4, 2, 1)\n",
            "(4, 2, 1)\n"
          ],
          "name": "stdout"
        },
        {
          "output_type": "execute_result",
          "data": {
            "text/plain": [
              "array([[ 7, 38],\n",
              "       [28, 49],\n",
              "       [50, 44],\n",
              "       [16, 35]])"
            ]
          },
          "metadata": {
            "tags": []
          },
          "execution_count": 93
        }
      ]
    },
    {
      "cell_type": "markdown",
      "metadata": {
        "id": "XiwuRjW3MrUX"
      },
      "source": [
        "## 행렬곱을 행조합으로 계산"
      ]
    },
    {
      "cell_type": "code",
      "metadata": {
        "id": "UDbS0RInMpBq"
      },
      "source": [
        "# 직접 확인해보세요."
      ],
      "execution_count": null,
      "outputs": []
    },
    {
      "cell_type": "markdown",
      "metadata": {
        "id": "bIZYpJhsMuii"
      },
      "source": [
        "## 행렬곱을 외적합으로 계산"
      ]
    },
    {
      "cell_type": "code",
      "metadata": {
        "id": "RYZBblw3MtHy"
      },
      "source": [
        "# 직접 확인해보세요."
      ],
      "execution_count": null,
      "outputs": []
    },
    {
      "cell_type": "markdown",
      "metadata": {
        "id": "Dg1nrtB7Mx6q"
      },
      "source": [
        "# 행렬을 이용한 코딩\n",
        "\n"
      ]
    },
    {
      "cell_type": "markdown",
      "metadata": {
        "id": "ZH8yZwM7MzYh"
      },
      "source": [
        "## 벡터화 실습 1 (기본 곱셈)"
      ]
    },
    {
      "cell_type": "code",
      "metadata": {
        "id": "MKUmbfEUMv4a"
      },
      "source": [
        "A = np.eye(5)*np.array([1,3,0,5,4])"
      ],
      "execution_count": null,
      "outputs": []
    },
    {
      "cell_type": "code",
      "metadata": {
        "id": "w9ICdtjMM0w5",
        "outputId": "c3b57b0e-0b51-4055-85a9-e663df1ca348",
        "colab": {
          "base_uri": "https://localhost:8080/",
          "height": 102
        }
      },
      "source": [
        "A"
      ],
      "execution_count": null,
      "outputs": [
        {
          "output_type": "execute_result",
          "data": {
            "text/plain": [
              "array([[1., 0., 0., 0., 0.],\n",
              "       [0., 3., 0., 0., 0.],\n",
              "       [0., 0., 0., 0., 0.],\n",
              "       [0., 0., 0., 5., 0.],\n",
              "       [0., 0., 0., 0., 4.]])"
            ]
          },
          "metadata": {
            "tags": []
          },
          "execution_count": 97
        }
      ]
    },
    {
      "cell_type": "code",
      "metadata": {
        "id": "PCZZydngM1ra",
        "outputId": "e596f589-5d1b-4e76-ded6-86db39eb1cac",
        "colab": {
          "base_uri": "https://localhost:8080/",
          "height": 102
        }
      },
      "source": [
        "A = np.random.randint(0,10,12).reshape(4,3) #-----[1]\n",
        "x = np.random.randint(0,10,3)\n",
        "\n",
        "\n",
        "print(A)\n",
        "print(x)"
      ],
      "execution_count": null,
      "outputs": [
        {
          "output_type": "stream",
          "text": [
            "[[5 3 9]\n",
            " [6 9 1]\n",
            " [9 4 2]\n",
            " [6 7 8]]\n",
            "[8 9 2]\n"
          ],
          "name": "stdout"
        }
      ]
    },
    {
      "cell_type": "code",
      "metadata": {
        "id": "oRffjsC3M2tD"
      },
      "source": [
        "m = x.shape[0] #-----[2]\n",
        "y = [] #-----[3]\n",
        "temp = 0\n",
        "for i in range(A.shape[0]) : #-----[4]\n",
        "    for j in range(m) : #-----[5]\n",
        "        temp += A[i,j]*x[j] #-----[6]\n",
        "    y.append(temp) #-----[7]\n",
        "    temp = 0\n"
      ],
      "execution_count": null,
      "outputs": []
    },
    {
      "cell_type": "code",
      "metadata": {
        "id": "GG8nrQRoM4yi",
        "outputId": "a066edc0-6cd2-4495-e059-0ad017c642b4",
        "colab": {
          "base_uri": "https://localhost:8080/",
          "height": 34
        }
      },
      "source": [
        "y"
      ],
      "execution_count": null,
      "outputs": [
        {
          "output_type": "execute_result",
          "data": {
            "text/plain": [
              "[85, 131, 112, 127]"
            ]
          },
          "metadata": {
            "tags": []
          },
          "execution_count": 100
        }
      ]
    },
    {
      "cell_type": "code",
      "metadata": {
        "id": "S0MeaO8CM6DS",
        "outputId": "f84862be-27e0-49f4-f50b-23f5028776ce",
        "colab": {
          "base_uri": "https://localhost:8080/",
          "height": 34
        }
      },
      "source": [
        "A.dot(x)"
      ],
      "execution_count": null,
      "outputs": [
        {
          "output_type": "execute_result",
          "data": {
            "text/plain": [
              "array([ 85, 131, 112, 127])"
            ]
          },
          "metadata": {
            "tags": []
          },
          "execution_count": 101
        }
      ]
    },
    {
      "cell_type": "code",
      "metadata": {
        "id": "17mdU8WvM60y",
        "outputId": "db2608cb-00a0-4b27-dfc8-65c8bdc5c741",
        "colab": {
          "base_uri": "https://localhost:8080/",
          "height": 34
        }
      },
      "source": [
        "A@x"
      ],
      "execution_count": null,
      "outputs": [
        {
          "output_type": "execute_result",
          "data": {
            "text/plain": [
              "array([ 85, 131, 112, 127])"
            ]
          },
          "metadata": {
            "tags": []
          },
          "execution_count": 102
        }
      ]
    },
    {
      "cell_type": "markdown",
      "metadata": {
        "id": "xZ3IQKeHM9h2"
      },
      "source": [
        "## 벡터화 실습 2 (전치 곱셈)"
      ]
    },
    {
      "cell_type": "code",
      "metadata": {
        "id": "pfBE83H4M766"
      },
      "source": [
        "A = np.random.randint(0,10,12).reshape(3,4) \n",
        "x = np.random.randint(0,10,3)"
      ],
      "execution_count": null,
      "outputs": []
    },
    {
      "cell_type": "code",
      "metadata": {
        "id": "1wP6sRyQM-4i"
      },
      "source": [
        "m = x.shape[0] \n",
        "y = [] \n",
        "temp = 0\n",
        "for i in range(A.shape[1]) : \n",
        "    for j in range(m) : \n",
        "        temp += A[j,i]*x[j] #-----[1]\n",
        "    y.append(temp) \n",
        "    temp = 0\n"
      ],
      "execution_count": null,
      "outputs": []
    },
    {
      "cell_type": "code",
      "metadata": {
        "id": "HCDy5ZhYM_iq",
        "outputId": "bf8a5d1a-0cbc-4e7d-dcf6-cc16dda51aaa",
        "colab": {
          "base_uri": "https://localhost:8080/",
          "height": 34
        }
      },
      "source": [
        "y"
      ],
      "execution_count": null,
      "outputs": [
        {
          "output_type": "execute_result",
          "data": {
            "text/plain": [
              "[8, 162, 97, 120]"
            ]
          },
          "metadata": {
            "tags": []
          },
          "execution_count": 105
        }
      ]
    },
    {
      "cell_type": "code",
      "metadata": {
        "id": "jlIj9OF7NAfy",
        "outputId": "fcc265d1-82aa-4d06-8ede-95cff5d672d5",
        "colab": {
          "base_uri": "https://localhost:8080/",
          "height": 34
        }
      },
      "source": [
        "y = A.T.dot(x) \n",
        "y"
      ],
      "execution_count": null,
      "outputs": [
        {
          "output_type": "execute_result",
          "data": {
            "text/plain": [
              "array([  8, 162,  97, 120])"
            ]
          },
          "metadata": {
            "tags": []
          },
          "execution_count": 106
        }
      ]
    },
    {
      "cell_type": "code",
      "metadata": {
        "id": "w_nMCUSUNBiL",
        "outputId": "c2e075e1-bd49-4d18-c174-2f5c94e048c1",
        "colab": {
          "base_uri": "https://localhost:8080/",
          "height": 34
        }
      },
      "source": [
        "A.T@x"
      ],
      "execution_count": null,
      "outputs": [
        {
          "output_type": "execute_result",
          "data": {
            "text/plain": [
              "array([  8, 162,  97, 120])"
            ]
          },
          "metadata": {
            "tags": []
          },
          "execution_count": 107
        }
      ]
    },
    {
      "cell_type": "markdown",
      "metadata": {
        "id": "P8aZPI2KNEDl"
      },
      "source": [
        "## 그림 7-17"
      ]
    },
    {
      "cell_type": "code",
      "metadata": {
        "id": "8pbAZvSjNCsq",
        "outputId": "289d8754-6c9c-4518-f05e-6702ce9bd2b3",
        "colab": {
          "base_uri": "https://localhost:8080/",
          "height": 321
        }
      },
      "source": [
        "fig = plt.figure(figsize=(16,4))\n",
        "ax = [fig.add_subplot(1, 2, 1), fig.add_subplot(1, 2, 2)]\n",
        "\n",
        "plt.rcParams['text.usetex'] = True\n",
        "plt.rcParams['text.latex.preamble'] = r'\\usepackage{amsmath}'\n",
        "\n",
        "pdf_shift = 0.02\n",
        "\n",
        "y = [ r\"$\\begin{bmatrix}\" + \\\n",
        "r\"y_{1} \\\\\" + \\\n",
        "r\"y_{2} \\\\\" + \\\n",
        "r\"\\vdots \\\\\" + \\\n",
        "r\"y_{m} \" + \\\n",
        "r\"\\end{bmatrix}$\",\n",
        "    r\"$\\begin{bmatrix}\" + \\\n",
        "r\"y_{1} \\\\\" + \\\n",
        "r\"y_{2} \\\\\" + \\\n",
        "r\"\\vdots \\\\\" + \\\n",
        "r\"y_{n} \" + \\\n",
        "r\"\\end{bmatrix}$\" \n",
        "    ]\n",
        "\n",
        "A = [ r\"$\\begin{bmatrix}\" + \\\n",
        "r\"a_{11} & a_{12} & \\cdots & a_{1m} \\\\\" + \\\n",
        "r\"a_{21} & a_{22} & \\cdots & a_{2m} \\\\\" + \\\n",
        "r\"\\vdots & \\vdots & \\ddots & \\vdots \\\\\" + \\\n",
        "r\"a_{n1} & a_{n2} & \\cdots & a_{nm}\" + \\\n",
        "r\"\\end{bmatrix}$\", \n",
        "     r\"$\\begin{bmatrix}\" + \\\n",
        "r\"a_{11} & a_{12} & \\cdots & a_{1n} \\\\\" + \\\n",
        "r\"a_{21} & a_{22} & \\cdots & a_{2n} \\\\\" + \\\n",
        "r\"\\vdots & \\vdots & \\ddots & \\vdots \\\\\" + \\\n",
        "r\"a_{m1} & a_{m2} & \\cdots & a_{mn}\" + \\\n",
        "r\"\\end{bmatrix}$\" \n",
        "    ]\n",
        "\n",
        "x = r\"$\\begin{bmatrix}\" + \\\n",
        "r\"x_{1} \\\\\" + \\\n",
        "r\"x_{2} \\\\\" + \\\n",
        "r\"\\vdots \\\\\" + \\\n",
        "r\"x_{m} \" + \\\n",
        "r\"\\end{bmatrix}$\"\n",
        "\n",
        "for i in [0, 1]:\n",
        "    ax[i].text(0.08, 0.25, y[i], fontsize=30)\n",
        "    ax[i].text(0.21+pdf_shift, 0.24, r'$=$', fontsize=30)\n",
        "    ax[i].text(0.3, 0.24, A[i], fontsize=30)\n",
        "    if i == 0 :\n",
        "        ax[i].text(0.83, 0.24, x, fontsize=30)\n",
        "    else:\n",
        "        ax[i].text(0.86, 0.24, x, fontsize=30)\n",
        "        \n",
        "    if i == 0 :\n",
        "        a = FancyArrowPatch((0.32+pdf_shift, 0.38), (0.75+pdf_shift, 0.38) , lw=1, mutation_scale=70, alpha=0.2, color='gray')\n",
        "    else :\n",
        "        a = FancyArrowPatch((0.36+pdf_shift, 0.38), (0.36+pdf_shift, 0.1) , lw=1, mutation_scale=70, alpha=0.2, color='gray')\n",
        "    ax[i].add_patch(a)\n",
        "\n",
        "    b = FancyArrowPatch((0.88+pdf_shift, 0.4), (0.88+pdf_shift, 0.1) , lw=1, mutation_scale=70, alpha=0.2, color='gray')\n",
        "    ax[i].add_patch(b)\n",
        "\n",
        "    c = Circle((0.13+pdf_shift, 0.38), 0.04, alpha=0.2, color='gray')\n",
        "    ax[i].add_patch(c)\n",
        "\n",
        "    if i == 0 :\n",
        "        ax[i].set_title(r\"$y_i = \\sum_{j=1}^m a_{ij}x_j $\", fontsize=25)\n",
        "    else :\n",
        "        ax[i].set_title(r\"$y_i = \\sum_{j=1}^m a_{ji}x_j $\", fontsize=25)\n",
        "        \n",
        "    ax[i].axis('off')\n",
        "    \n",
        "    ax[i].set_xlim(0, 1)\n",
        "    ax[i].set_ylim(0, 0.5)\n",
        "    \n",
        "if file_print == True :\n",
        "    fig.savefig(\"imgs/chap7/fig7-17.png\", dpi=300, bbox_inches='tight')\n",
        "    fig.savefig(\"imgs/chap7/fig7-17.pdf\", format='pdf', bbox_inches='tight')\n",
        "    \n",
        "plt.show()"
      ],
      "execution_count": null,
      "outputs": [
        {
          "output_type": "display_data",
          "data": {
            "image/png": "[encoded data removed]",
            "text/plain": [
              "<Figure size 1152x288 with 2 Axes>"
            ]
          },
          "metadata": {
            "tags": [],
            "needs_background": "light"
          }
        }
      ]
    },
    {
      "cell_type": "markdown",
      "metadata": {
        "id": "gFzdTVe3P-P9"
      },
      "source": [
        "## 그림 7-18"
      ]
    },
    {
      "cell_type": "code",
      "metadata": {
        "id": "-QUfqxZWNFJ_",
        "outputId": "a6494bbe-597a-4af4-84d0-026fada4d60e",
        "colab": {
          "base_uri": "https://localhost:8080/",
          "height": 275
        }
      },
      "source": [
        "fig = plt.figure(figsize=(8,4))\n",
        "ax = fig.add_subplot(1, 1, 1)\n",
        "\n",
        "plt.rcParams['text.usetex'] = True\n",
        "plt.rcParams['text.latex.preamble'] = r'\\usepackage{amsmath}'\n",
        "\n",
        "pdf_shift = 0.02\n",
        "\n",
        "y = r\"$\\begin{bmatrix}\" + \\\n",
        "r\"y_{1} \\\\\" + \\\n",
        "r\"y_{2} \\\\\" + \\\n",
        "r\"\\vdots \\\\\" + \\\n",
        "r\"y_{n} \" + \\\n",
        "r\"\\end{bmatrix}$\"\n",
        "\n",
        "A = r\"$\\begin{bmatrix}\" + \\\n",
        "r\"a_{11} & a_{21} & \\cdots & a_{m1} \\\\\" + \\\n",
        "r\"a_{12} & a_{22} & \\cdots & a_{m2} \\\\\" + \\\n",
        "r\"\\vdots & \\vdots & \\ddots & \\vdots \\\\\" + \\\n",
        "r\"a_{1n} & a_{2n} & \\cdots & a_{mn}\" + \\\n",
        "r\"\\end{bmatrix}$\"\n",
        "\n",
        "x = r\"$\\begin{bmatrix}\" + \\\n",
        "r\"x_{1} \\\\\" + \\\n",
        "r\"x_{2} \\\\\" + \\\n",
        "r\"\\vdots \\\\\" + \\\n",
        "r\"x_{m} \" + \\\n",
        "r\"\\end{bmatrix}$\"\n",
        "\n",
        "ax.text(0.08, 0.24, y, fontsize=30)\n",
        "ax.text(0.2+pdf_shift, 0.25, r'$=$', fontsize=30)\n",
        "ax.text(0.3, 0.24, A, fontsize=30)\n",
        "ax.text(0.83, 0.24, x, fontsize=30)\n",
        "\n",
        "a = FancyArrowPatch((0.32+pdf_shift, 0.38), (0.75+pdf_shift, 0.38) , lw=1, mutation_scale=70, alpha=0.2, color='gray')\n",
        "ax.add_patch(a)\n",
        "\n",
        "b = FancyArrowPatch((0.88+pdf_shift, 0.4), (0.88+pdf_shift, 0.1) , lw=1, mutation_scale=70, alpha=0.2, color='gray')\n",
        "ax.add_patch(b)\n",
        "\n",
        "c = Circle((0.13+pdf_shift, 0.38), 0.04, alpha=0.2, color='gray')\n",
        "ax.add_patch(c)\n",
        "\n",
        "ax.axis('off')\n",
        "\n",
        "ax.set_title(r\"$\\mathbf{y} = \\mathbf{A}^\\text{T}\\mathbf{x} $\", fontsize=25)\n",
        "\n",
        "ax.set_xlim(0, 1)\n",
        "ax.set_ylim(0, 0.5)\n",
        "    \n",
        "if file_print == True :\n",
        "    fig.savefig(\"imgs/chap7/fig7-18.png\", dpi=300, bbox_inches='tight')\n",
        "    fig.savefig(\"imgs/chap7/fig7-18.pdf\", format='pdf', bbox_inches='tight')\n",
        "    \n",
        "plt.show()"
      ],
      "execution_count": null,
      "outputs": [
        {
          "output_type": "display_data",
          "data": {
            "image/png": "[encoded data removed]",
            "text/plain": [
              "<Figure size 576x288 with 1 Axes>"
            ]
          },
          "metadata": {
            "tags": [],
            "needs_background": "light"
          }
        }
      ]
    },
    {
      "cell_type": "markdown",
      "metadata": {
        "id": "CkVQMzFjQQ5-"
      },
      "source": [
        "## 벡터화 실습 3 (선형회귀 식)"
      ]
    },
    {
      "cell_type": "code",
      "metadata": {
        "id": "Z97Sq674QAI0"
      },
      "source": [
        "np.random.seed(10)\n",
        "\n",
        "n, m = 5, 2\n",
        "\n",
        "X = np.random.rand(n, m)\n",
        "w = np.random.rand(m)\n",
        "y = np.random.rand(n)"
      ],
      "execution_count": null,
      "outputs": []
    },
    {
      "cell_type": "code",
      "metadata": {
        "id": "tmRwPe0tQSTU",
        "outputId": "4a5a04ac-aaca-4919-a456-91da6a5caebc",
        "colab": {
          "base_uri": "https://localhost:8080/",
          "height": 102
        }
      },
      "source": [
        "X"
      ],
      "execution_count": null,
      "outputs": [
        {
          "output_type": "execute_result",
          "data": {
            "text/plain": [
              "array([[0.7713, 0.0208],\n",
              "       [0.6336, 0.7488],\n",
              "       [0.4985, 0.2248],\n",
              "       [0.1981, 0.7605],\n",
              "       [0.1691, 0.0883]])"
            ]
          },
          "metadata": {
            "tags": []
          },
          "execution_count": 111
        }
      ]
    },
    {
      "cell_type": "code",
      "metadata": {
        "id": "dyqyGAnGQTQ1",
        "outputId": "756eac99-f234-49d8-d966-2171b69219e6",
        "colab": {
          "base_uri": "https://localhost:8080/",
          "height": 34
        }
      },
      "source": [
        "w"
      ],
      "execution_count": null,
      "outputs": [
        {
          "output_type": "execute_result",
          "data": {
            "text/plain": [
              "array([0.6854, 0.9534])"
            ]
          },
          "metadata": {
            "tags": []
          },
          "execution_count": 112
        }
      ]
    },
    {
      "cell_type": "code",
      "metadata": {
        "id": "G5Wiww9fQULc",
        "outputId": "db09f7db-3c52-4008-daf1-af2039ac553c",
        "colab": {
          "base_uri": "https://localhost:8080/",
          "height": 34
        }
      },
      "source": [
        "y"
      ],
      "execution_count": null,
      "outputs": [
        {
          "output_type": "execute_result",
          "data": {
            "text/plain": [
              "array([0.0039, 0.5122, 0.8126, 0.6125, 0.7218])"
            ]
          },
          "metadata": {
            "tags": []
          },
          "execution_count": 113
        }
      ]
    },
    {
      "cell_type": "code",
      "metadata": {
        "id": "VDjImUvWQU7U"
      },
      "source": [
        "g = np.zeros_like(w)\n",
        "\n",
        "# X:(5,2), y:(5,), w:(2,)\n",
        "for j in range(m):\n",
        "    for i in range(n):\n",
        "        g[j] += (np.dot(X[i,:], w) - y[i]) * X[i,j]\n",
        "        "
      ],
      "execution_count": null,
      "outputs": []
    },
    {
      "cell_type": "code",
      "metadata": {
        "id": "NOGBzQDNQVt1",
        "outputId": "89917f4b-d089-4b1b-be74-e2326df45650",
        "colab": {
          "base_uri": "https://localhost:8080/",
          "height": 34
        }
      },
      "source": [
        "g"
      ],
      "execution_count": null,
      "outputs": [
        {
          "output_type": "execute_result",
          "data": {
            "text/plain": [
              "array([0.656 , 0.5726])"
            ]
          },
          "metadata": {
            "tags": []
          },
          "execution_count": 115
        }
      ]
    },
    {
      "cell_type": "code",
      "metadata": {
        "id": "tDrtkibRQW7d"
      },
      "source": [
        "g = np.dot(X.T, np.dot(X,w)-y)"
      ],
      "execution_count": null,
      "outputs": []
    },
    {
      "cell_type": "code",
      "metadata": {
        "id": "vnSbJoizQX_s",
        "outputId": "fcd5c52c-b65c-4a92-dfb8-c20e1a72bf78",
        "colab": {
          "base_uri": "https://localhost:8080/",
          "height": 34
        }
      },
      "source": [
        "g"
      ],
      "execution_count": null,
      "outputs": [
        {
          "output_type": "execute_result",
          "data": {
            "text/plain": [
              "array([0.656 , 0.5726])"
            ]
          },
          "metadata": {
            "tags": []
          },
          "execution_count": 117
        }
      ]
    },
    {
      "cell_type": "code",
      "metadata": {
        "id": "yLBvZKZMQZH0",
        "outputId": "3b5e4f68-bef0-43c3-a540-3c8439916222",
        "colab": {
          "base_uri": "https://localhost:8080/",
          "height": 34
        }
      },
      "source": [
        "%%timeit\n",
        "# X:(5,2), y:(5,), w:(2,)\n",
        "for j in range(m):\n",
        "    for i in range(n):\n",
        "        g[j] += (np.dot(X[i,:], w) - y[i]) * X[i,j]"
      ],
      "execution_count": null,
      "outputs": [
        {
          "output_type": "stream",
          "text": [
            "10000 loops, best of 3: 23.7 µs per loop\n"
          ],
          "name": "stdout"
        }
      ]
    },
    {
      "cell_type": "code",
      "metadata": {
        "id": "DEtyBKllQauE",
        "outputId": "c7078939-6927-4ea9-cd72-eeb89634c483",
        "colab": {
          "base_uri": "https://localhost:8080/",
          "height": 51
        }
      },
      "source": [
        "%%timeit\n",
        "g = np.dot(X.T, np.dot(X,w)-y)"
      ],
      "execution_count": null,
      "outputs": [
        {
          "output_type": "stream",
          "text": [
            "The slowest run took 16.86 times longer than the fastest. This could mean that an intermediate result is being cached.\n",
            "100000 loops, best of 3: 3.05 µs per loop\n"
          ],
          "name": "stdout"
        }
      ]
    },
    {
      "cell_type": "markdown",
      "metadata": {
        "id": "M95MnFYCQhAx"
      },
      "source": [
        "### 참고 einsum"
      ]
    },
    {
      "cell_type": "code",
      "metadata": {
        "id": "owbz8BcqQbv0",
        "outputId": "b8384ef2-a8ca-4011-951a-2ca2f3bcac25",
        "colab": {
          "base_uri": "https://localhost:8080/",
          "height": 34
        }
      },
      "source": [
        "np.einsum('i,ij->j', np.einsum('ij,j->i', X, w) - y, X)"
      ],
      "execution_count": null,
      "outputs": [
        {
          "output_type": "execute_result",
          "data": {
            "text/plain": [
              "array([0.656 , 0.5726])"
            ]
          },
          "metadata": {
            "tags": []
          },
          "execution_count": 120
        }
      ]
    },
    {
      "cell_type": "code",
      "metadata": {
        "id": "Haz7ECiIQic5",
        "outputId": "1692e2d4-ff95-4dc4-a85e-59d833bc373b",
        "colab": {
          "base_uri": "https://localhost:8080/",
          "height": 51
        }
      },
      "source": [
        "%%timeit\n",
        "np.einsum('i,ij->j', np.einsum('ij,j->i', X, w) - y, X)"
      ],
      "execution_count": null,
      "outputs": [
        {
          "output_type": "stream",
          "text": [
            "The slowest run took 8.56 times longer than the fastest. This could mean that an intermediate result is being cached.\n",
            "100000 loops, best of 3: 6.29 µs per loop\n"
          ],
          "name": "stdout"
        }
      ]
    },
    {
      "cell_type": "code",
      "metadata": {
        "id": "qDOdGyxGQjec"
      },
      "source": [
        ""
      ],
      "execution_count": null,
      "outputs": []
    }
  ]
}